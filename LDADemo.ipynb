{
  "cells": [
    {
      "cell_type": "markdown",
      "metadata": {
        "id": "fuqxsthLudxz"
      },
      "source": [
        "Link del dataset: https://www.kaggle.com/datasets/obnifqmv1/reviews-amazon"
      ]
    },
    {
      "cell_type": "code",
      "execution_count": null,
      "metadata": {
        "id": "VBufGLTVzWNq"
      },
      "outputs": [],
      "source": [
        "import warnings\n",
        "warnings.filterwarnings(\"ignore\", category=DeprecationWarning)"
      ]
    },
    {
      "cell_type": "markdown",
      "metadata": {
        "id": "MHPX1Eh5zPvT"
      },
      "source": [
        "# TÉNICA DE TOPIC MODELLING"
      ]
    },
    {
      "cell_type": "markdown",
      "metadata": {
        "id": "TGk5mm0KVFrC"
      },
      "source": [
        "Obtendremos los tópicos de un conjunto de opiniones extraídas, usando para ello **la librería de Python Gensim.** Gensim es una librería usada para hacer topic modeling. Dentro de esta funcionalidad vienen incluidos una gran variedad de algoritmos que permiten crear este tipo de soluciones. Además de esto, viene con distintos corpus.\n",
        "\n",
        "El algoritmo que utilizaremos es el modelo **latent dirichlet allocation (LDA)**, que nos devuelve por un lado los diferentes tópicos que componen la colección de documentos y por otro lado cuánto de cada tópico está presente en cada documento.\n",
        "\n",
        "Los tópicos consisten en una **distribución de probabilidades** de aparición de las distintas palabras del vocabulario.\n",
        "\n",
        "También usaremos otra librería, que es **pyLADvis**. Se trata de una librería de visualización para topic modeling."
      ]
    },
    {
      "cell_type": "code",
      "execution_count": null,
      "metadata": {
        "colab": {
          "base_uri": "https://localhost:8080/"
        },
        "id": "n1LThonTKHEJ",
        "outputId": "c5304f34-1572-4994-aebd-3a3692e77714"
      },
      "outputs": [
        {
          "name": "stdout",
          "output_type": "stream",
          "text": [
            "Looking in indexes: https://pypi.org/simple, https://us-python.pkg.dev/colab-wheels/public/simple/\n",
            "Requirement already satisfied: pyLDAvis in /usr/local/lib/python3.10/dist-packages (3.4.1)\n",
            "Requirement already satisfied: numpy>=1.24.2 in /usr/local/lib/python3.10/dist-packages (from pyLDAvis) (1.24.3)\n",
            "Requirement already satisfied: scipy in /usr/local/lib/python3.10/dist-packages (from pyLDAvis) (1.10.1)\n",
            "Requirement already satisfied: pandas>=2.0.0 in /usr/local/lib/python3.10/dist-packages (from pyLDAvis) (2.0.2)\n",
            "Requirement already satisfied: joblib>=1.2.0 in /usr/local/lib/python3.10/dist-packages (from pyLDAvis) (1.2.0)\n",
            "Requirement already satisfied: jinja2 in /usr/local/lib/python3.10/dist-packages (from pyLDAvis) (3.1.2)\n",
            "Requirement already satisfied: numexpr in /usr/local/lib/python3.10/dist-packages (from pyLDAvis) (2.8.4)\n",
            "Requirement already satisfied: funcy in /usr/local/lib/python3.10/dist-packages (from pyLDAvis) (2.0)\n",
            "Requirement already satisfied: scikit-learn>=1.0.0 in /usr/local/lib/python3.10/dist-packages (from pyLDAvis) (1.2.2)\n",
            "Requirement already satisfied: gensim in /usr/local/lib/python3.10/dist-packages (from pyLDAvis) (4.3.1)\n",
            "Requirement already satisfied: setuptools in /usr/local/lib/python3.10/dist-packages (from pyLDAvis) (67.7.2)\n",
            "Requirement already satisfied: python-dateutil>=2.8.2 in /usr/local/lib/python3.10/dist-packages (from pandas>=2.0.0->pyLDAvis) (2.8.2)\n",
            "Requirement already satisfied: pytz>=2020.1 in /usr/local/lib/python3.10/dist-packages (from pandas>=2.0.0->pyLDAvis) (2022.7.1)\n",
            "Requirement already satisfied: tzdata>=2022.1 in /usr/local/lib/python3.10/dist-packages (from pandas>=2.0.0->pyLDAvis) (2023.3)\n",
            "Requirement already satisfied: threadpoolctl>=2.0.0 in /usr/local/lib/python3.10/dist-packages (from scikit-learn>=1.0.0->pyLDAvis) (3.1.0)\n",
            "Requirement already satisfied: smart-open>=1.8.1 in /usr/local/lib/python3.10/dist-packages (from gensim->pyLDAvis) (6.3.0)\n",
            "Requirement already satisfied: MarkupSafe>=2.0 in /usr/local/lib/python3.10/dist-packages (from jinja2->pyLDAvis) (2.1.2)\n",
            "Requirement already satisfied: six>=1.5 in /usr/local/lib/python3.10/dist-packages (from python-dateutil>=2.8.2->pandas>=2.0.0->pyLDAvis) (1.16.0)\n"
          ]
        }
      ],
      "source": [
        "!pip install pyLDAvis"
      ]
    },
    {
      "cell_type": "markdown",
      "metadata": {
        "id": "JVH5-wq4eXDy"
      },
      "source": [
        "# Importación de librerías"
      ]
    },
    {
      "cell_type": "code",
      "execution_count": null,
      "metadata": {
        "colab": {
          "base_uri": "https://localhost:8080/"
        },
        "id": "zeW4d_xmJyGM",
        "outputId": "7fc8e28f-7aa3-412c-fae8-887ef17cbdae"
      },
      "outputs": [
        {
          "name": "stderr",
          "output_type": "stream",
          "text": [
            "2023-05-30 17:03:48.259755: I tensorflow/core/platform/cpu_feature_guard.cc:182] This TensorFlow binary is optimized to use available CPU instructions in performance-critical operations.\n",
            "To enable the following instructions: AVX2 FMA, in other operations, rebuild TensorFlow with the appropriate compiler flags.\n",
            "2023-05-30 17:03:51.281590: W tensorflow/compiler/tf2tensorrt/utils/py_utils.cc:38] TF-TRT Warning: Could not find TensorRT\n"
          ]
        }
      ],
      "source": [
        "import pandas as pd\n",
        "import numpy as np\n",
        "\n",
        "import re\n",
        "import string\n",
        "\n",
        "import spacy\n",
        "\n",
        "import gensim\n",
        "from gensim import corpora\n",
        "\n",
        "# libraries for visualization\n",
        "import pyLDAvis\n",
        "import pyLDAvis.gensim\n",
        "import matplotlib.pyplot as plt\n",
        "import seaborn as sns\n",
        "%matplotlib inline"
      ]
    },
    {
      "cell_type": "markdown",
      "metadata": {
        "id": "MPAeMcp6YI1j"
      },
      "source": [
        "# DATA\n",
        "En la información que aparece podemos observar que son reviews o reseñas de Amazón. Visualizamos información acerca de la tabla"
      ]
    },
    {
      "cell_type": "code",
      "execution_count": null,
      "metadata": {
        "colab": {
          "base_uri": "https://localhost:8080/"
        },
        "id": "YX_huweJKgAb",
        "outputId": "0bf8dfb2-50b0-4ab2-83ac-b138ff648892"
      },
      "outputs": [
        {
          "name": "stdout",
          "output_type": "stream",
          "text": [
            "   Id   ProductId          UserId ProfileName  HelpfulnessNumerator  \\\n",
            "0   1  B001E4KFG0  A3SGXH7AUHU8GW  delmartian                     1   \n",
            "1   2  B00813GRG4  A1D87F6ZCVE5NK      dll pa                     0   \n",
            "\n",
            "   HelpfulnessDenominator  Score        Time                Summary  \\\n",
            "0                       1      5  1303862400  Good Quality Dog Food   \n",
            "1                       0      1  1346976000      Not as Advertised   \n",
            "\n",
            "                                                Text  \n",
            "0  I have bought several of the Vitality canned d...  \n",
            "1  Product arrived labeled as Jumbo Salted Peanut...  \n",
            "568454\n",
            "Unique Products\n",
            "74258\n",
            "Unique Users\n",
            "256059\n"
          ]
        }
      ],
      "source": [
        "review_data= pd.read_csv(\"Reviews.csv\")\n",
        "print(review_data.head(2))\n",
        "print(len(review_data))\n",
        "print('Unique Products')\n",
        "print(len(review_data.groupby('ProductId')))\n",
        "print('Unique Users')\n",
        "print(len(review_data.groupby('UserId')))"
      ]
    },
    {
      "cell_type": "markdown",
      "metadata": {
        "id": "XDjQt0EMcCO1"
      },
      "source": [
        "# Limpieza inicial del texto\n",
        "Eliminamos puntuaciones y caracteres innecesarios."
      ]
    },
    {
      "cell_type": "code",
      "execution_count": null,
      "metadata": {
        "id": "azlVZFo9OrrK"
      },
      "outputs": [],
      "source": [
        "def clean_text(text ): \n",
        "    delete_dict = {sp_character: '' for sp_character in string.punctuation} \n",
        "    delete_dict[' '] = ' ' \n",
        "    table = str.maketrans(delete_dict)\n",
        "    text1 = text.translate(table)\n",
        "    #print('cleaned:'+text1)\n",
        "    textArr= text1.split()\n",
        "    text2 = ' '.join([w for w in textArr if ( not w.isdigit() and  ( not w.isdigit() and len(w)>3))]) \n",
        "    \n",
        "    return text2.lower()"
      ]
    },
    {
      "cell_type": "code",
      "execution_count": null,
      "metadata": {
        "colab": {
          "base_uri": "https://localhost:8080/"
        },
        "id": "L2qoAs7gOt4u",
        "outputId": "a6cd5c95-d84d-4529-96b2-07f2233a0dc3"
      },
      "outputs": [
        {
          "name": "stderr",
          "output_type": "stream",
          "text": [
            "[nltk_data] Downloading package stopwords to /root/nltk_data...\n",
            "[nltk_data]   Package stopwords is already up-to-date!\n"
          ]
        },
        {
          "data": {
            "text/plain": [
              "True"
            ]
          },
          "execution_count": 6,
          "metadata": {},
          "output_type": "execute_result"
        }
      ],
      "source": [
        "import nltk\n",
        "nltk.download('stopwords') # run this one time"
      ]
    },
    {
      "cell_type": "markdown",
      "metadata": {
        "id": "EwEu79aV1fmL"
      },
      "source": [
        "**Implementamos un método que se encarga de realizar la limpieza inicial de los textos**"
      ]
    },
    {
      "cell_type": "code",
      "execution_count": null,
      "metadata": {
        "colab": {
          "base_uri": "https://localhost:8080/"
        },
        "id": "3D6WOk0TOwE9",
        "outputId": "6a10910b-a746-44ec-f937-9bf4f6ff7948"
      },
      "outputs": [
        {
          "name": "stdout",
          "output_type": "stream",
          "text": [
            "-------Dataset --------\n",
            "Score\n",
            "5    363102\n",
            "4     80654\n",
            "1     52264\n",
            "3     42638\n",
            "2     29743\n",
            "Name: count, dtype: int64\n",
            "568401\n",
            "-------------------------\n",
            "No of Short reviews\n",
            "373279\n"
          ]
        }
      ],
      "source": [
        "review_data.dropna(axis = 0, how ='any',inplace=True) \n",
        "\n",
        "review_data['Text'] = review_data['Text'].apply(clean_text)\n",
        "review_data['Num_words_text'] = review_data['Text'].apply(lambda x:len(str(x).split())) \n",
        "\n",
        "print('-------Dataset --------')\n",
        "print(review_data['Score'].value_counts())\n",
        "print(len(review_data))\n",
        "print('-------------------------')\n",
        "max_review_data_sentence_length  = review_data['Num_words_text'].max()\n",
        "\n",
        "mask = (review_data['Num_words_text'] < 100) & (review_data['Num_words_text'] >=20)\n",
        "df_short_reviews = review_data[mask]\n",
        "df_sampled = df_short_reviews.groupby('Score').apply(lambda x: x.sample(n=20000)).reset_index(drop = True)\n",
        "\n",
        "print('No of Short reviews')\n",
        "print(len(df_short_reviews))\n",
        "\n",
        "#all_sentences = train_data['text'].tolist() + test_data['text'].tolist()"
      ]
    },
    {
      "cell_type": "markdown",
      "metadata": {
        "id": "6_HSrsoG0rA4"
      },
      "source": [
        "# Eliminamos las stopwords\n",
        "Las palabras comunes que no aportan significado, como yo, el o y."
      ]
    },
    {
      "cell_type": "code",
      "execution_count": null,
      "metadata": {
        "id": "Unov6OreOyYx"
      },
      "outputs": [],
      "source": [
        "from nltk.corpus import stopwords\n",
        "stop_words = stopwords.words('english')\n",
        "# function to remove stopwords\n",
        "def remove_stopwords(text):\n",
        "    textArr = text.split(' ')\n",
        "    rem_text = \" \".join([i for i in textArr if i not in stop_words])\n",
        "    return rem_text\n",
        "\n",
        "# remove stopwords from the text\n",
        "df_sampled['Text']=df_sampled['Text'].apply(remove_stopwords)"
      ]
    },
    {
      "cell_type": "code",
      "execution_count": null,
      "metadata": {
        "colab": {
          "base_uri": "https://localhost:8080/"
        },
        "id": "xglm5BkqSGJw",
        "outputId": "1a58db69-beea-4f00-9a1f-dfa635003686"
      },
      "outputs": [
        {
          "name": "stdout",
          "output_type": "stream",
          "text": [
            "Looking in indexes: https://pypi.org/simple, https://us-python.pkg.dev/colab-wheels/public/simple/\n",
            "Requirement already satisfied: spacy in /usr/local/lib/python3.10/dist-packages (3.5.3)\n",
            "Requirement already satisfied: spacy-legacy<3.1.0,>=3.0.11 in /usr/local/lib/python3.10/dist-packages (from spacy) (3.0.12)\n",
            "Requirement already satisfied: spacy-loggers<2.0.0,>=1.0.0 in /usr/local/lib/python3.10/dist-packages (from spacy) (1.0.4)\n",
            "Requirement already satisfied: murmurhash<1.1.0,>=0.28.0 in /usr/local/lib/python3.10/dist-packages (from spacy) (1.0.9)\n",
            "Requirement already satisfied: cymem<2.1.0,>=2.0.2 in /usr/local/lib/python3.10/dist-packages (from spacy) (2.0.7)\n",
            "Requirement already satisfied: preshed<3.1.0,>=3.0.2 in /usr/local/lib/python3.10/dist-packages (from spacy) (3.0.8)\n",
            "Requirement already satisfied: thinc<8.2.0,>=8.1.8 in /usr/local/lib/python3.10/dist-packages (from spacy) (8.1.9)\n",
            "Requirement already satisfied: wasabi<1.2.0,>=0.9.1 in /usr/local/lib/python3.10/dist-packages (from spacy) (1.1.1)\n",
            "Requirement already satisfied: srsly<3.0.0,>=2.4.3 in /usr/local/lib/python3.10/dist-packages (from spacy) (2.4.6)\n",
            "Requirement already satisfied: catalogue<2.1.0,>=2.0.6 in /usr/local/lib/python3.10/dist-packages (from spacy) (2.0.8)\n",
            "Requirement already satisfied: typer<0.8.0,>=0.3.0 in /usr/local/lib/python3.10/dist-packages (from spacy) (0.7.0)\n",
            "Requirement already satisfied: pathy>=0.10.0 in /usr/local/lib/python3.10/dist-packages (from spacy) (0.10.1)\n",
            "Requirement already satisfied: smart-open<7.0.0,>=5.2.1 in /usr/local/lib/python3.10/dist-packages (from spacy) (6.3.0)\n",
            "Requirement already satisfied: tqdm<5.0.0,>=4.38.0 in /usr/local/lib/python3.10/dist-packages (from spacy) (4.65.0)\n",
            "Requirement already satisfied: numpy>=1.15.0 in /usr/local/lib/python3.10/dist-packages (from spacy) (1.24.3)\n",
            "Requirement already satisfied: requests<3.0.0,>=2.13.0 in /usr/local/lib/python3.10/dist-packages (from spacy) (2.27.1)\n",
            "Requirement already satisfied: pydantic!=1.8,!=1.8.1,<1.11.0,>=1.7.4 in /usr/local/lib/python3.10/dist-packages (from spacy) (1.10.7)\n",
            "Requirement already satisfied: jinja2 in /usr/local/lib/python3.10/dist-packages (from spacy) (3.1.2)\n",
            "Requirement already satisfied: setuptools in /usr/local/lib/python3.10/dist-packages (from spacy) (67.7.2)\n",
            "Requirement already satisfied: packaging>=20.0 in /usr/local/lib/python3.10/dist-packages (from spacy) (23.1)\n",
            "Requirement already satisfied: langcodes<4.0.0,>=3.2.0 in /usr/local/lib/python3.10/dist-packages (from spacy) (3.3.0)\n",
            "Requirement already satisfied: typing-extensions>=4.2.0 in /usr/local/lib/python3.10/dist-packages (from pydantic!=1.8,!=1.8.1,<1.11.0,>=1.7.4->spacy) (4.5.0)\n",
            "Requirement already satisfied: urllib3<1.27,>=1.21.1 in /usr/local/lib/python3.10/dist-packages (from requests<3.0.0,>=2.13.0->spacy) (1.26.15)\n",
            "Requirement already satisfied: certifi>=2017.4.17 in /usr/local/lib/python3.10/dist-packages (from requests<3.0.0,>=2.13.0->spacy) (2022.12.7)\n",
            "Requirement already satisfied: charset-normalizer~=2.0.0 in /usr/local/lib/python3.10/dist-packages (from requests<3.0.0,>=2.13.0->spacy) (2.0.12)\n",
            "Requirement already satisfied: idna<4,>=2.5 in /usr/local/lib/python3.10/dist-packages (from requests<3.0.0,>=2.13.0->spacy) (3.4)\n",
            "Requirement already satisfied: blis<0.8.0,>=0.7.8 in /usr/local/lib/python3.10/dist-packages (from thinc<8.2.0,>=8.1.8->spacy) (0.7.9)\n",
            "Requirement already satisfied: confection<1.0.0,>=0.0.1 in /usr/local/lib/python3.10/dist-packages (from thinc<8.2.0,>=8.1.8->spacy) (0.0.4)\n",
            "Requirement already satisfied: click<9.0.0,>=7.1.1 in /usr/local/lib/python3.10/dist-packages (from typer<0.8.0,>=0.3.0->spacy) (8.1.3)\n",
            "Requirement already satisfied: MarkupSafe>=2.0 in /usr/local/lib/python3.10/dist-packages (from jinja2->spacy) (2.1.2)\n"
          ]
        }
      ],
      "source": [
        "pip install -U spacy"
      ]
    },
    {
      "cell_type": "code",
      "execution_count": null,
      "metadata": {
        "id": "CzADDBWqSbPH"
      },
      "outputs": [],
      "source": [
        "import spacy.cli"
      ]
    },
    {
      "cell_type": "code",
      "execution_count": null,
      "metadata": {
        "colab": {
          "base_uri": "https://localhost:8080/"
        },
        "id": "pFuO7a95Sfe9",
        "outputId": "90560a19-af34-468f-90a5-24a8b6bd000d"
      },
      "outputs": [
        {
          "name": "stdout",
          "output_type": "stream",
          "text": [
            "Looking in indexes: https://pypi.org/simple, https://us-python.pkg.dev/colab-wheels/public/simple/\n",
            "Collecting en-core-web-md==3.5.0\n",
            "  Downloading https://github.com/explosion/spacy-models/releases/download/en_core_web_md-3.5.0/en_core_web_md-3.5.0-py3-none-any.whl (42.8 MB)\n",
            "\u001b[2K     ━━━━━━━━━━━━━━━━━━━━━━━━━━━━━━━━━━━━━━━━ 42.8/42.8 MB 16.0 MB/s eta 0:00:00\n",
            "\u001b[?25hRequirement already satisfied: spacy<3.6.0,>=3.5.0 in /usr/local/lib/python3.10/dist-packages (from en-core-web-md==3.5.0) (3.5.3)\n",
            "Requirement already satisfied: spacy-legacy<3.1.0,>=3.0.11 in /usr/local/lib/python3.10/dist-packages (from spacy<3.6.0,>=3.5.0->en-core-web-md==3.5.0) (3.0.12)\n",
            "Requirement already satisfied: spacy-loggers<2.0.0,>=1.0.0 in /usr/local/lib/python3.10/dist-packages (from spacy<3.6.0,>=3.5.0->en-core-web-md==3.5.0) (1.0.4)\n",
            "Requirement already satisfied: murmurhash<1.1.0,>=0.28.0 in /usr/local/lib/python3.10/dist-packages (from spacy<3.6.0,>=3.5.0->en-core-web-md==3.5.0) (1.0.9)\n",
            "Requirement already satisfied: cymem<2.1.0,>=2.0.2 in /usr/local/lib/python3.10/dist-packages (from spacy<3.6.0,>=3.5.0->en-core-web-md==3.5.0) (2.0.7)\n",
            "Requirement already satisfied: preshed<3.1.0,>=3.0.2 in /usr/local/lib/python3.10/dist-packages (from spacy<3.6.0,>=3.5.0->en-core-web-md==3.5.0) (3.0.8)\n",
            "Requirement already satisfied: thinc<8.2.0,>=8.1.8 in /usr/local/lib/python3.10/dist-packages (from spacy<3.6.0,>=3.5.0->en-core-web-md==3.5.0) (8.1.9)\n",
            "Requirement already satisfied: wasabi<1.2.0,>=0.9.1 in /usr/local/lib/python3.10/dist-packages (from spacy<3.6.0,>=3.5.0->en-core-web-md==3.5.0) (1.1.1)\n",
            "Requirement already satisfied: srsly<3.0.0,>=2.4.3 in /usr/local/lib/python3.10/dist-packages (from spacy<3.6.0,>=3.5.0->en-core-web-md==3.5.0) (2.4.6)\n",
            "Requirement already satisfied: catalogue<2.1.0,>=2.0.6 in /usr/local/lib/python3.10/dist-packages (from spacy<3.6.0,>=3.5.0->en-core-web-md==3.5.0) (2.0.8)\n",
            "Requirement already satisfied: typer<0.8.0,>=0.3.0 in /usr/local/lib/python3.10/dist-packages (from spacy<3.6.0,>=3.5.0->en-core-web-md==3.5.0) (0.7.0)\n",
            "Requirement already satisfied: pathy>=0.10.0 in /usr/local/lib/python3.10/dist-packages (from spacy<3.6.0,>=3.5.0->en-core-web-md==3.5.0) (0.10.1)\n",
            "Requirement already satisfied: smart-open<7.0.0,>=5.2.1 in /usr/local/lib/python3.10/dist-packages (from spacy<3.6.0,>=3.5.0->en-core-web-md==3.5.0) (6.3.0)\n",
            "Requirement already satisfied: tqdm<5.0.0,>=4.38.0 in /usr/local/lib/python3.10/dist-packages (from spacy<3.6.0,>=3.5.0->en-core-web-md==3.5.0) (4.65.0)\n",
            "Requirement already satisfied: numpy>=1.15.0 in /usr/local/lib/python3.10/dist-packages (from spacy<3.6.0,>=3.5.0->en-core-web-md==3.5.0) (1.24.3)\n",
            "Requirement already satisfied: requests<3.0.0,>=2.13.0 in /usr/local/lib/python3.10/dist-packages (from spacy<3.6.0,>=3.5.0->en-core-web-md==3.5.0) (2.27.1)\n",
            "Requirement already satisfied: pydantic!=1.8,!=1.8.1,<1.11.0,>=1.7.4 in /usr/local/lib/python3.10/dist-packages (from spacy<3.6.0,>=3.5.0->en-core-web-md==3.5.0) (1.10.7)\n",
            "Requirement already satisfied: jinja2 in /usr/local/lib/python3.10/dist-packages (from spacy<3.6.0,>=3.5.0->en-core-web-md==3.5.0) (3.1.2)\n",
            "Requirement already satisfied: setuptools in /usr/local/lib/python3.10/dist-packages (from spacy<3.6.0,>=3.5.0->en-core-web-md==3.5.0) (67.7.2)\n",
            "Requirement already satisfied: packaging>=20.0 in /usr/local/lib/python3.10/dist-packages (from spacy<3.6.0,>=3.5.0->en-core-web-md==3.5.0) (23.1)\n",
            "Requirement already satisfied: langcodes<4.0.0,>=3.2.0 in /usr/local/lib/python3.10/dist-packages (from spacy<3.6.0,>=3.5.0->en-core-web-md==3.5.0) (3.3.0)\n",
            "Requirement already satisfied: typing-extensions>=4.2.0 in /usr/local/lib/python3.10/dist-packages (from pydantic!=1.8,!=1.8.1,<1.11.0,>=1.7.4->spacy<3.6.0,>=3.5.0->en-core-web-md==3.5.0) (4.5.0)\n",
            "Requirement already satisfied: urllib3<1.27,>=1.21.1 in /usr/local/lib/python3.10/dist-packages (from requests<3.0.0,>=2.13.0->spacy<3.6.0,>=3.5.0->en-core-web-md==3.5.0) (1.26.15)\n",
            "Requirement already satisfied: certifi>=2017.4.17 in /usr/local/lib/python3.10/dist-packages (from requests<3.0.0,>=2.13.0->spacy<3.6.0,>=3.5.0->en-core-web-md==3.5.0) (2022.12.7)\n",
            "Requirement already satisfied: charset-normalizer~=2.0.0 in /usr/local/lib/python3.10/dist-packages (from requests<3.0.0,>=2.13.0->spacy<3.6.0,>=3.5.0->en-core-web-md==3.5.0) (2.0.12)\n",
            "Requirement already satisfied: idna<4,>=2.5 in /usr/local/lib/python3.10/dist-packages (from requests<3.0.0,>=2.13.0->spacy<3.6.0,>=3.5.0->en-core-web-md==3.5.0) (3.4)\n",
            "Requirement already satisfied: blis<0.8.0,>=0.7.8 in /usr/local/lib/python3.10/dist-packages (from thinc<8.2.0,>=8.1.8->spacy<3.6.0,>=3.5.0->en-core-web-md==3.5.0) (0.7.9)\n",
            "Requirement already satisfied: confection<1.0.0,>=0.0.1 in /usr/local/lib/python3.10/dist-packages (from thinc<8.2.0,>=8.1.8->spacy<3.6.0,>=3.5.0->en-core-web-md==3.5.0) (0.0.4)\n",
            "Requirement already satisfied: click<9.0.0,>=7.1.1 in /usr/local/lib/python3.10/dist-packages (from typer<0.8.0,>=0.3.0->spacy<3.6.0,>=3.5.0->en-core-web-md==3.5.0) (8.1.3)\n",
            "Requirement already satisfied: MarkupSafe>=2.0 in /usr/local/lib/python3.10/dist-packages (from jinja2->spacy<3.6.0,>=3.5.0->en-core-web-md==3.5.0) (2.1.2)\n",
            "\u001b[38;5;2m✔ Download and installation successful\u001b[0m\n",
            "You can now load the package via spacy.load('en_core_web_md')\n"
          ]
        }
      ],
      "source": [
        "spacy.cli.download(\"en_core_web_md\")"
      ]
    },
    {
      "cell_type": "markdown",
      "metadata": {
        "id": "qAApoydraF7z"
      },
      "source": [
        "# Preprocesamiento de los datos\n",
        "Técnica de normalización de texto: **lematización.**\n",
        "La lemmatización es un poco más compleja e implica hacer un análisis del vocabulario y su morfología para retornar la forma básica de la palabra. El principal objetivo de esta técnica es reducir el número de palabras únicas en un documento de texto, haciendo más sencillo el proceso de análisis."
      ]
    },
    {
      "cell_type": "code",
      "execution_count": null,
      "metadata": {
        "id": "5LMnyZ1UO0ei"
      },
      "outputs": [],
      "source": [
        "nlp = spacy.load('en_core_web_md', disable=['parser', 'ner'])\n",
        "\n",
        "def lemmatization(texts,allowed_postags=['NOUN', 'ADJ']): \n",
        "       output = []\n",
        "       for sent in texts:\n",
        "             doc = nlp(sent) \n",
        "             output.append([token.lemma_ for token in doc if token.pos_ in allowed_postags ])\n",
        "       return output"
      ]
    },
    {
      "cell_type": "code",
      "execution_count": null,
      "metadata": {
        "colab": {
          "base_uri": "https://localhost:8080/"
        },
        "id": "3xeDVzo1O212",
        "outputId": "fb1352de-17b9-4544-d4fb-70507aa40b25"
      },
      "outputs": [
        {
          "name": "stdout",
          "output_type": "stream",
          "text": [
            "purchased bags dogfood week feeding newman brand started vomiting eating time lied around whimpering stomach ache checked stomach disorder took newman dogfood symptoms disappearedbr sent three emails newman dogfood website replies acknowledgement phone number available dogfood expensive customer service existent\n",
            "['bag', 'dogfood', 'week', 'feeding', 'newman', 'time', 'stomach', 'ache', 'stomach', 'disorder', 'newman', 'dogfood', 'symptom', 'disappearedbr', 'email', 'newman', 'dogfood', 'website', 'phone', 'number', 'available', 'dogfood', 'expensive', 'customer', 'service', 'existent']\n"
          ]
        }
      ],
      "source": [
        "text_list=df_sampled['Text'].tolist()\n",
        "print(text_list[1])\n",
        "tokenized_reviews = lemmatization(text_list)\n",
        "print(tokenized_reviews[1])"
      ]
    },
    {
      "cell_type": "markdown",
      "metadata": {
        "id": "5637blVmZ7Rn"
      },
      "source": [
        "# Generación del diccionario y corpus, principales entradas del modelo LDA\n",
        "Los **diccionarios** son objetos que asignan un identificador numérico a cada palabra única y se pueden usar para obtener el identificador a partir de la palabra y viceversa.\n",
        "\n",
        "La generación de estos diccionarios con la librería Gensim es tan fácil como crear un objeto de tipo **Dictionary** pasándole como argumento las listas de palabras.\n",
        "\n",
        "En nuestro caso y como vimos en el anterior post, tenemos almacenadas las listas de palabras, pertenecientes al conjunto de opiniones, en la columna tokenized_reviews de nuestro objeto DataFrame."
      ]
    },
    {
      "cell_type": "code",
      "execution_count": null,
      "metadata": {
        "id": "0OahmnNqO5Bg"
      },
      "outputs": [],
      "source": [
        "dictionary = corpora.Dictionary(tokenized_reviews)\n",
        "doc_term_matrix = [dictionary.doc2bow(rev) for rev in tokenized_reviews]"
      ]
    },
    {
      "cell_type": "markdown",
      "metadata": {
        "id": "QbrUEJla3R_T"
      },
      "source": [
        "# Construyendo el modelo LDA\n",
        "Para ello creamos un objeto LDA de la librería Gensim pasándole como argumento el corpus y el diccionario y le indicamos adicionalmente los siguientes parámetros:\n",
        "\n",
        "*   **doc_term_matrix:** convierte un objeto de la clase 'logtermmatrix' del paquete en una matrix dispersa\n",
        "*   **num_topics:** número de tópicos. Extraremos 10 tópicos.\n",
        "*   **random_state:** parámetro para controlar la aleatoriedad del proceso de entrenamiento y que nos devuelva siempre los mismos resultados.\n",
        "*   **chunksize:** número de documentos que será utilizado en cada pasada de entrenamiento.\n",
        "*   **passes:** número de pasadas por el corpus durante el entrenamiento."
      ]
    },
    {
      "cell_type": "code",
      "execution_count": null,
      "metadata": {
        "id": "odyWCNnoO7BQ"
      },
      "outputs": [],
      "source": [
        "# Creating the object for LDA model using gensim library\n",
        "LDA = gensim.models.ldamodel.LdaModel\n",
        "\n",
        "# Build LDA model\n",
        "lda_model = LDA(corpus=doc_term_matrix, id2word=dictionary, num_topics=10, random_state=100,\n",
        "                chunksize=1000, passes=50,iterations=100)"
      ]
    },
    {
      "cell_type": "markdown",
      "metadata": {
        "id": "cmAbiynFdviC"
      },
      "source": [
        "Para visualizar los tópicos extraídos podemos utilizar la función **print_topics** indicándole el número de tópicos y el número de palabras por tópico que queremos que se muestre.\n",
        "\n",
        "Por cada tópico podemos ver las cinco palabras que más contribuyen a ese tópico y sus pesos en el mismo. El peso nos indica como de importante es la palabra en ese tópico."
      ]
    },
    {
      "cell_type": "code",
      "execution_count": null,
      "metadata": {
        "colab": {
          "base_uri": "https://localhost:8080/"
        },
        "id": "0nX3Kf6WO9Ad",
        "outputId": "daee2e3f-0a8e-4030-e3c2-558da2760712"
      },
      "outputs": [
        {
          "data": {
            "text/plain": [
              "[(0,\n",
              "  '0.051*\"flavor\" + 0.042*\"good\" + 0.029*\"taste\" + 0.026*\"cookie\" + 0.020*\"great\" + 0.019*\"little\" + 0.017*\"butter\" + 0.015*\"peanut\" + 0.013*\"love\" + 0.012*\"sweet\"'),\n",
              " (1,\n",
              "  '0.032*\"popcorn\" + 0.023*\"thank\" + 0.018*\"time\" + 0.017*\"instant\" + 0.016*\"date\" + 0.015*\"easy\" + 0.013*\"moist\" + 0.012*\"door\" + 0.012*\"shipment\" + 0.011*\"strawberry\"'),\n",
              " (2,\n",
              "  '0.037*\"product\" + 0.036*\"price\" + 0.035*\"store\" + 0.032*\"amazon\" + 0.031*\"good\" + 0.028*\"great\" + 0.019*\"time\" + 0.016*\"order\" + 0.015*\"local\" + 0.013*\"year\"'),\n",
              " (3,\n",
              "  '0.078*\"chocolate\" + 0.056*\"chip\" + 0.044*\"snack\" + 0.029*\"sweet\" + 0.028*\"flavor\" + 0.027*\"bar\" + 0.022*\"good\" + 0.022*\"great\" + 0.019*\"potato\" + 0.018*\"taste\"'),\n",
              " (4,\n",
              "  '0.050*\"sauce\" + 0.025*\"cheese\" + 0.023*\"pasta\" + 0.018*\"ounce\" + 0.018*\"ginger\" + 0.017*\"lemon\" + 0.016*\"minute\" + 0.014*\"chicken\" + 0.014*\"olive\" + 0.014*\"meal\"'),\n",
              " (5,\n",
              "  '0.042*\"coconut\" + 0.027*\"fruit\" + 0.020*\"juice\" + 0.019*\"hair\" + 0.018*\"product\" + 0.017*\"cherry\" + 0.017*\"apple\" + 0.017*\"subscribe\" + 0.016*\"skin\" + 0.015*\"granola\"'),\n",
              " (6,\n",
              "  '0.075*\"water\" + 0.042*\"drink\" + 0.037*\"bottle\" + 0.032*\"salt\" + 0.025*\"energy\" + 0.023*\"taste\" + 0.020*\"cold\" + 0.018*\"flavor\" + 0.014*\"night\" + 0.014*\"pill\"'),\n",
              " (7,\n",
              "  '0.095*\"coffee\" + 0.036*\"flavor\" + 0.028*\"good\" + 0.021*\"taste\" + 0.019*\"strong\" + 0.013*\"green\" + 0.012*\"bean\" + 0.012*\"great\" + 0.011*\"blend\" + 0.010*\"vanilla\"'),\n",
              " (8,\n",
              "  '0.032*\"sugar\" + 0.026*\"good\" + 0.025*\"product\" + 0.021*\"free\" + 0.019*\"great\" + 0.017*\"ingredient\" + 0.017*\"healthy\" + 0.017*\"organic\" + 0.016*\"milk\" + 0.016*\"rice\"'),\n",
              " (9,\n",
              "  '0.090*\"food\" + 0.036*\"treat\" + 0.026*\"dog\" + 0.018*\"cat\" + 0.017*\"time\" + 0.015*\"good\" + 0.015*\"great\" + 0.014*\"year\" + 0.013*\"month\" + 0.013*\"small\"')]"
            ]
          },
          "execution_count": 16,
          "metadata": {},
          "output_type": "execute_result"
        }
      ],
      "source": [
        "lda_model.print_topics()"
      ]
    },
    {
      "cell_type": "markdown",
      "metadata": {
        "id": "cXiy_OuePWhd"
      },
      "source": [
        "# Evaluación del Modelo\n",
        "\n",
        "\n",
        "*   **Perplexity:** cuanto menor sea este rango, mejor el resultado del  entrenamiento es.\n",
        "*   **Coherence Score:** mide cuán similares son estas palabras entre sí.\n",
        "\n"
      ]
    },
    {
      "cell_type": "code",
      "execution_count": null,
      "metadata": {
        "colab": {
          "base_uri": "https://localhost:8080/"
        },
        "id": "GTR1YclwPBOR",
        "outputId": "f18703a3-ef34-4a2a-e06c-bd302c7ae8a0"
      },
      "outputs": [
        {
          "name": "stdout",
          "output_type": "stream",
          "text": [
            "\n",
            "Perplexity:  -8.811433062447957\n",
            "\n",
            "Coherence Score:  0.4130981967304426\n"
          ]
        }
      ],
      "source": [
        "print('\\nPerplexity: ', lda_model.log_perplexity(doc_term_matrix,total_docs=10000))  # a measure of how good the model is. lower the better.\n",
        "\n",
        "# Compute Coherence Score\n",
        "from gensim.models.coherencemodel import CoherenceModel\n",
        "coherence_model_lda = CoherenceModel(model=lda_model, texts=tokenized_reviews, dictionary=dictionary , coherence='c_v')\n",
        "coherence_lda = coherence_model_lda.get_coherence()\n",
        "print('\\nCoherence Score: ', coherence_lda)"
      ]
    },
    {
      "cell_type": "code",
      "execution_count": null,
      "metadata": {
        "id": "iR9M7OP1PDVP"
      },
      "outputs": [],
      "source": [
        "def compute_coherence_values(dictionary, corpus, texts, limit, start=2, step=3):\n",
        "    \"\"\"\n",
        "    Compute c_v coherence for various number of topics\n",
        "\n",
        "    Parameters:\n",
        "    ----------\n",
        "    dictionary : Gensim dictionary\n",
        "    corpus : Gensim corpus\n",
        "    texts : List of input texts\n",
        "    limit : Max num of topics\n",
        "\n",
        "    Returns:\n",
        "    -------\n",
        "    model_list : List of LDA topic models\n",
        "    coherence_values : Coherence values corresponding to the LDA model with respective number of topics\n",
        "    \"\"\"\n",
        "    coherence_values = []\n",
        "    model_list = []\n",
        "    for num_topics in range(start, limit, step):\n",
        "        model = gensim.models.ldamodel.LdaModel(corpus=corpus, num_topics=num_topics, id2word=dictionary)\n",
        "        model_list.append(model)\n",
        "        coherencemodel = CoherenceModel(model=model, texts=texts, dictionary=dictionary, coherence='c_v')\n",
        "        coherence_values.append(coherencemodel.get_coherence())\n",
        "\n",
        "    return model_list, coherence_values"
      ]
    },
    {
      "cell_type": "code",
      "execution_count": null,
      "metadata": {
        "colab": {
          "background_save": true
        },
        "id": "UoOZkRYuPFKU"
      },
      "outputs": [],
      "source": [
        "model_list, coherence_values = compute_coherence_values(dictionary=dictionary, corpus=doc_term_matrix, texts=tokenized_reviews, start=2, limit=50, step=1)\n"
      ]
    },
    {
      "cell_type": "code",
      "execution_count": null,
      "metadata": {
        "colab": {
          "background_save": true
        },
        "id": "Q-dhFRIlPG9A",
        "outputId": "931c90b8-b99f-45e3-98d3-300ef02f4884"
      },
      "outputs": [
        {
          "data": {
            "image/png": "[encoded data removed]",
            "text/plain": [
              "<Figure size 640x480 with 1 Axes>"
            ]
          },
          "metadata": {},
          "output_type": "display_data"
        }
      ],
      "source": [
        "# Show graph\n",
        "limit=50; start=2; step=1;\n",
        "x = range(start, limit, step)\n",
        "plt.plot(x, coherence_values)\n",
        "plt.xlabel(\"Num Topics\")\n",
        "plt.ylabel(\"Coherence score\")\n",
        "plt.legend((\"coherence_values\"), loc='best')\n",
        "plt.show()# Print the coherence scores"
      ]
    },
    {
      "cell_type": "markdown",
      "metadata": {
        "id": "am_4awjdSNDE"
      },
      "source": [
        "# Distribución de tópicos en el documento\n",
        "Volumen y distribución de los distintos tópicos que aparecen en el documento."
      ]
    },
    {
      "cell_type": "code",
      "execution_count": null,
      "metadata": {
        "colab": {
          "background_save": true
        },
        "id": "QDMJ1CNQPI-a",
        "outputId": "a1f8caa5-c854-43b7-bf2b-ab9b22b0ed16"
      },
      "outputs": [
        {
          "name": "stdout",
          "output_type": "stream",
          "text": [
            "Num Topics = 2  has Coherence Value of 0.3645\n",
            "Num Topics = 3  has Coherence Value of 0.3741\n",
            "Num Topics = 4  has Coherence Value of 0.377\n",
            "Num Topics = 5  has Coherence Value of 0.4282\n",
            "Num Topics = 6  has Coherence Value of 0.4233\n",
            "Num Topics = 7  has Coherence Value of 0.437\n",
            "Num Topics = 8  has Coherence Value of 0.4549\n",
            "Num Topics = 9  has Coherence Value of 0.4464\n",
            "Num Topics = 10  has Coherence Value of 0.4414\n",
            "Num Topics = 11  has Coherence Value of 0.4362\n",
            "Num Topics = 12  has Coherence Value of 0.4262\n",
            "Num Topics = 13  has Coherence Value of 0.4238\n",
            "Num Topics = 14  has Coherence Value of 0.4093\n",
            "Num Topics = 15  has Coherence Value of 0.4246\n",
            "Num Topics = 16  has Coherence Value of 0.4313\n",
            "Num Topics = 17  has Coherence Value of 0.4043\n",
            "Num Topics = 18  has Coherence Value of 0.4221\n",
            "Num Topics = 19  has Coherence Value of 0.3982\n",
            "Num Topics = 20  has Coherence Value of 0.4058\n",
            "Num Topics = 21  has Coherence Value of 0.3967\n",
            "Num Topics = 22  has Coherence Value of 0.4014\n",
            "Num Topics = 23  has Coherence Value of 0.3719\n",
            "Num Topics = 24  has Coherence Value of 0.4294\n",
            "Num Topics = 25  has Coherence Value of 0.3746\n",
            "Num Topics = 26  has Coherence Value of 0.3927\n",
            "Num Topics = 27  has Coherence Value of 0.4151\n",
            "Num Topics = 28  has Coherence Value of 0.3812\n",
            "Num Topics = 29  has Coherence Value of 0.3859\n",
            "Num Topics = 30  has Coherence Value of 0.3875\n",
            "Num Topics = 31  has Coherence Value of 0.3824\n",
            "Num Topics = 32  has Coherence Value of 0.3507\n",
            "Num Topics = 33  has Coherence Value of 0.3692\n",
            "Num Topics = 34  has Coherence Value of 0.3793\n",
            "Num Topics = 35  has Coherence Value of 0.357\n",
            "Num Topics = 36  has Coherence Value of 0.3631\n",
            "Num Topics = 37  has Coherence Value of 0.3622\n",
            "Num Topics = 38  has Coherence Value of 0.3502\n",
            "Num Topics = 39  has Coherence Value of 0.3463\n",
            "Num Topics = 40  has Coherence Value of 0.3449\n",
            "Num Topics = 41  has Coherence Value of 0.3641\n",
            "Num Topics = 42  has Coherence Value of 0.36\n",
            "Num Topics = 43  has Coherence Value of 0.3471\n",
            "Num Topics = 44  has Coherence Value of 0.3472\n",
            "Num Topics = 45  has Coherence Value of 0.3496\n",
            "Num Topics = 46  has Coherence Value of 0.3298\n",
            "Num Topics = 47  has Coherence Value of 0.3442\n",
            "Num Topics = 48  has Coherence Value of 0.3448\n",
            "Num Topics = 49  has Coherence Value of 0.3363\n"
          ]
        }
      ],
      "source": [
        "# Print the coherence scores\n",
        "for m, cv in zip(x, coherence_values):\n",
        "    print(\"Num Topics =\", m, \" has Coherence Value of\", round(cv, 4))"
      ]
    },
    {
      "cell_type": "code",
      "execution_count": null,
      "metadata": {
        "colab": {
          "background_save": true
        },
        "id": "YBbghjuGPLV4",
        "outputId": "ce2e42f7-78cb-4bf4-d1db-5f87667fd05f"
      },
      "outputs": [
        {
          "data": {
            "text/plain": [
              "[(0,\n",
              "  '0.041*\"water\" + 0.023*\"drink\" + 0.019*\"taste\" + 0.018*\"good\" + 0.018*\"great\" + 0.016*\"coconut\" + 0.015*\"bottle\" + 0.013*\"product\" + 0.013*\"energy\" + 0.011*\"juice\"'),\n",
              " (1,\n",
              "  '0.035*\"good\" + 0.028*\"great\" + 0.028*\"snack\" + 0.025*\"chip\" + 0.020*\"taste\" + 0.018*\"flavor\" + 0.017*\"salt\" + 0.015*\"butter\" + 0.015*\"healthy\" + 0.014*\"peanut\"'),\n",
              " (2,\n",
              "  '0.079*\"flavor\" + 0.029*\"good\" + 0.028*\"taste\" + 0.016*\"love\" + 0.015*\"green\" + 0.015*\"vanilla\" + 0.014*\"favorite\" + 0.014*\"tea\" + 0.013*\"sweet\" + 0.012*\"strong\"'),\n",
              " (3,\n",
              "  '0.052*\"chocolate\" + 0.023*\"good\" + 0.022*\"sugar\" + 0.020*\"fruit\" + 0.019*\"bar\" + 0.017*\"sweet\" + 0.016*\"flavor\" + 0.016*\"product\" + 0.014*\"milk\" + 0.012*\"taste\"'),\n",
              " (4,\n",
              "  '0.077*\"food\" + 0.031*\"treat\" + 0.023*\"dog\" + 0.015*\"cat\" + 0.015*\"good\" + 0.014*\"time\" + 0.013*\"product\" + 0.012*\"year\" + 0.012*\"great\" + 0.010*\"small\"'),\n",
              " (5,\n",
              "  '0.067*\"organic\" + 0.030*\"product\" + 0.021*\"protein\" + 0.020*\"fiber\" + 0.017*\"pill\" + 0.016*\"ingredient\" + 0.016*\"honey\" + 0.015*\"subscribe\" + 0.014*\"chai\" + 0.012*\"save\"'),\n",
              " (6,\n",
              "  '0.131*\"coffee\" + 0.027*\"good\" + 0.018*\"strong\" + 0.018*\"flavor\" + 0.016*\"bean\" + 0.016*\"taste\" + 0.014*\"great\" + 0.014*\"blend\" + 0.012*\"roast\" + 0.010*\"kcup\"'),\n",
              " (7,\n",
              "  '0.038*\"amazon\" + 0.036*\"price\" + 0.035*\"product\" + 0.035*\"store\" + 0.025*\"great\" + 0.022*\"good\" + 0.020*\"time\" + 0.018*\"order\" + 0.015*\"local\" + 0.012*\"year\"'),\n",
              " (8,\n",
              "  '0.042*\"cookie\" + 0.028*\"sauce\" + 0.026*\"good\" + 0.014*\"great\" + 0.014*\"soup\" + 0.013*\"popcorn\" + 0.012*\"pasta\" + 0.012*\"chicken\" + 0.012*\"little\" + 0.012*\"flavor\"')]"
            ]
          },
          "execution_count": 22,
          "metadata": {},
          "output_type": "execute_result"
        }
      ],
      "source": [
        "# Select the model and print the topics\n",
        "optimal_model = model_list[7]\n",
        "model_topics = optimal_model.show_topics(formatted=False)\n",
        "optimal_model.print_topics(num_words=10)"
      ]
    },
    {
      "cell_type": "markdown",
      "metadata": {
        "id": "55QKQIjpTMbb"
      },
      "source": [
        "# Visualización topics-keywords\n",
        "Cada burbuja que aparece en la zona izquierda representa un tópico diferente. Cuanto mayor sea la burbuja, mayor la prevalencia del tópico."
      ]
    },
    {
      "cell_type": "code",
      "execution_count": null,
      "metadata": {
        "colab": {
          "background_save": true
        },
        "id": "c6x6bfJzPNGc",
        "outputId": "f16eeb00-c76c-415a-9358-a3171de67926"
      },
      "outputs": [
        {
          "data": {
            "text/html": [
              "\n",
              "<link rel=\"stylesheet\" type=\"text/css\" href=\"https://cdn.jsdelivr.net/gh/bmabey/pyLDAvis@3.4.0/pyLDAvis/js/ldavis.v1.0.0.css\">\n",
              "\n",
              "\n",
              "<div id=\"ldavis_el1134031402833830307042018587337\" style=\"background-color:white;\"></div>\n",
              "<script type=\"text/javascript\">\n",
              "\n",
              "var ldavis_el1134031402833830307042018587337_data = {\"mdsDat\": {\"x\": [0.039950734235754536, -0.04950729274410948, 0.09893470760868248, -0.13993159574167394, -0.0577973999009563, -0.02076856785583811, -0.15397114791946204, -0.05594811384845696, 0.3390386761660595], \"y\": [-0.18932168631251917, 0.019898111776729465, -0.18419826626346023, 0.04707082635047669, -0.015605299874007389, 0.11748905868392728, 0.1431102189738126, -0.09129850059614807, 0.15285553726118867], \"topics\": [1, 2, 3, 4, 5, 6, 7, 8, 9], \"cluster\": [1, 1, 1, 1, 1, 1, 1, 1, 1], \"Freq\": [17.621015654663324, 13.759209013001689, 13.372733696401252, 11.745163960601419, 10.743270242126277, 10.070829337531743, 10.043038461202894, 7.957452925169372, 4.687286709302035]}, \"tinfo\": {\"Term\": [\"coffee\", \"food\", \"flavor\", \"chocolate\", \"amazon\", \"organic\", \"water\", \"cookie\", \"treat\", \"snack\", \"store\", \"price\", \"chip\", \"dog\", \"product\", \"sauce\", \"taste\", \"drink\", \"salt\", \"bar\", \"strong\", \"sweet\", \"sugar\", \"fruit\", \"cat\", \"bean\", \"butter\", \"coconut\", \"protein\", \"ingredient\", \"shipping\", \"wine\", \"ship\", \"watcher\", \"fry\", \"auto\", \"saving\", \"byproduct\", \"worried\", \"vendor\", \"grab\", \"wide\", \"ketchup\", \"monthly\", \"slim\", \"darn\", \"fussy\", \"puff\", \"manner\", \"shepherd\", \"intact\", \"game\", \"spinach\", \"petco\", \"purina\", \"crash\", \"prescription\", \"gummie\", \"dietary\", \"timely\", \"delivery\", \"service\", \"amazon\", \"seller\", \"shipment\", \"retail\", \"charge\", \"mail\", \"door\", \"email\", \"customer\", \"prime\", \"order\", \"item\", \"store\", \"condition\", \"grocery\", \"local\", \"price\", \"date\", \"expiration\", \"bulk\", \"deal\", \"gift\", \"box\", \"online\", \"purchase\", \"thank\", \"cost\", \"can\", \"bag\", \"product\", \"package\", \"case\", \"time\", \"happy\", \"great\", \"cheap\", \"year\", \"month\", \"pack\", \"good\", \"company\", \"large\", \"free\", \"size\", \"small\", \"love\", \"quality\", \"fresh\", \"peanut\", \"cracker\", \"crunch\", \"salty\", \"chili\", \"crispy\", \"pretzel\", \"microwave\", \"salt\", \"travel\", \"carb\", \"butter\", \"crunchy\", \"flax\", \"tangy\", \"sesame\", \"exception\", \"pleasure\", \"mile\", \"curry\", \"boy\", \"pancake\", \"hearty\", \"medication\", \"popchip\", \"desk\", \"stew\", \"thrilled\", \"agave\", \"cereal\", \"snack\", \"chip\", \"gluten\", \"nutritious\", \"kibble\", \"vinegar\", \"dressing\", \"beer\", \"potato\", \"bread\", \"rice\", \"oatmeal\", \"flour\", \"mustard\", \"raisin\", \"glutenfree\", \"sodium\", \"calorie\", \"almond\", \"healthy\", \"wheat\", \"texture\", \"good\", \"great\", \"taste\", \"tasty\", \"free\", \"sweet\", \"flavor\", \"whole\", \"love\", \"kid\", \"little\", \"regular\", \"delicious\", \"product\", \"thing\", \"perfect\", \"dog\", \"treat\", \"cat\", \"puppy\", \"training\", \"sandwich\", \"wellness\", \"coat\", \"bone\", \"ball\", \"tablespoon\", \"addictive\", \"busy\", \"liver\", \"toy\", \"kitten\", \"eater\", \"son\", \"tortilla\", \"sprinkle\", \"owner\", \"shiny\", \"reward\", \"breast\", \"animal\", \"calm\", \"science\", \"pet\", \"finicky\", \"stool\", \"feed\", \"digestive\", \"rawhide\", \"formula\", \"skin\", \"food\", \"picky\", \"baby\", \"allergy\", \"salmon\", \"tuna\", \"old\", \"chew\", \"tooth\", \"stomach\", \"granola\", \"month\", \"chicken\", \"biscuit\", \"problem\", \"small\", \"weight\", \"year\", \"healthy\", \"time\", \"ingredient\", \"hour\", \"week\", \"product\", \"good\", \"little\", \"great\", \"happy\", \"brand\", \"love\", \"thing\", \"size\", \"stuff\", \"piece\", \"large\", \"diet\", \"roast\", \"espresso\", \"keurig\", \"pod\", \"coffee\", \"bold\", \"kcup\", \"brewer\", \"waffle\", \"filter\", \"cappuccino\", \"grind\", \"bodied\", \"coffeebr\", \"maker\", \"grinder\", \"press\", \"dental\", \"drip\", \"prefer\", \"minimal\", \"hot\", \"palate\", \"select\", \"visit\", \"fuel\", \"superb\", \"zuke\", \"crema\", \"age\", \"bean\", \"starbuck\", \"french\", \"decaf\", \"robust\", \"machine\", \"ground\", \"donut\", \"acidic\", \"blend\", \"mountain\", \"creamer\", \"cup\", \"brew\", \"instant\", \"medium\", \"smooth\", \"weak\", \"strong\", \"bitter\", \"dark\", \"morning\", \"rich\", \"drinker\", \"good\", \"taste\", \"flavor\", \"great\", \"brand\", \"nice\", \"favorite\", \"perfect\", \"ginger\", \"skeptical\", \"purse\", \"steep\", \"crystal\", \"coconut\", \"boost\", \"handy\", \"cranberry\", \"matcha\", \"salsa\", \"road\", \"guy\", \"grape\", \"foil\", \"economical\", \"pricing\", \"quaker\", \"kona\", \"specialty\", \"tart\", \"sport\", \"wasabi\", \"japanese\", \"energy\", \"trap\", \"quite\", \"take\", \"boil\", \"medicine\", \"lemon\", \"enjoy\", \"season\", \"water\", \"tired\", \"unit\", \"glass\", \"juice\", \"cube\", \"workout\", \"sleep\", \"packet\", \"cold\", \"bottle\", \"berry\", \"drink\", \"cake\", \"liquid\", \"benefit\", \"fridge\", \"caffeine\", \"beverage\", \"taste\", \"work\", \"soda\", \"great\", \"night\", \"good\", \"hour\", \"powder\", \"product\", \"little\", \"convenient\", \"stuff\", \"brand\", \"well\", \"flavor\", \"time\", \"much\", \"price\", \"store\", \"thing\", \"love\", \"bar\", \"refreshing\", \"hair\", \"vitamin\", \"craving\", \"basis\", \"shampoo\", \"terrific\", \"herbal\", \"kitty\", \"vegetarian\", \"conditioner\", \"oats\", \"fructose\", \"cheddar\", \"bran\", \"extract\", \"additive\", \"digestion\", \"vacation\", \"sushi\", \"mood\", \"puree\", \"scalp\", \"sugarfree\", \"stove\", \"xylitol\", \"lollipop\", \"trail\", \"jasmine\", \"cocoa\", \"preservative\", \"resealable\", \"roasted\", \"chocolate\", \"yogurt\", \"fruit\", \"breed\", \"cherry\", \"syrup\", \"muffin\", \"maple\", \"blueberry\", \"sugar\", \"candy\", \"milk\", \"strawberry\", \"sweet\", \"nutty\", \"moist\", \"dark\", \"good\", \"ingredient\", \"product\", \"flavor\", \"natural\", \"taste\", \"corn\", \"high\", \"color\", \"great\", \"calorie\", \"delicious\", \"little\", \"kind\", \"time\", \"rich\", \"healthy\", \"hooked\", \"beautiful\", \"everyday\", \"strength\", \"mocha\", \"spaghetti\", \"splenda\", \"sampler\", \"winner\", \"english\", \"firm\", \"mellow\", \"duck\", \"toffee\", \"pear\", \"raspberry\", \"lemonade\", \"mate\", \"irish\", \"fudge\", \"sweetner\", \"poodle\", \"combo\", \"punch\", \"peppermint\", \"compliment\", \"subtle\", \"teas\", \"complex\", \"royal\", \"tea\", \"creme\", \"sweetener\", \"shot\", \"licorice\", \"stevia\", \"mint\", \"vanilla\", \"cider\", \"diamond\", \"flavor\", \"caramel\", \"cream\", \"green\", \"black\", \"cinnamon\", \"artificial\", \"stash\", \"hint\", \"sour\", \"variety\", \"taste\", \"favorite\", \"strong\", \"sweet\", \"love\", \"good\", \"different\", \"apple\", \"nice\", \"sugar\", \"wonderful\", \"brand\", \"drink\", \"little\", \"bag\", \"many\", \"great\", \"pack\", \"milk\", \"soup\", \"noodle\", \"pumpkin\", \"egg\", \"sauce\", \"smoothie\", \"taco\", \"movie\", \"mushroom\", \"gravy\", \"oreo\", \"pizza\", \"stand\", \"carrot\", \"cook\", \"raman\", \"popper\", \"gummy\", \"guilt\", \"bell\", \"tomato\", \"kernel\", \"med\", \"twining\", \"cuisine\", \"chunky\", \"broccoli\", \"weather\", \"chef\", \"moderation\", \"cookie\", \"banana\", \"theater\", \"broth\", \"steak\", \"dish\", \"pasta\", \"truffle\", \"popcorn\", \"veggie\", \"pouch\", \"heat\", \"homemade\", \"beef\", \"jerky\", \"spice\", \"restaurant\", \"meat\", \"olive\", \"seasoning\", \"chicken\", \"recipe\", \"spicy\", \"salad\", \"meal\", \"cheese\", \"good\", \"little\", \"great\", \"family\", \"flavor\", \"time\", \"candy\", \"product\", \"easy\", \"taste\", \"well\", \"pocket\", \"plant\", \"tree\", \"fiber\", \"toddler\", \"latte\", \"chamomile\", \"indian\", \"scoop\", \"pressure\", \"hemp\", \"winter\", \"fragrant\", \"drawback\", \"feature\", \"cafe\", \"whey\", \"miracle\", \"follow\", \"prune\", \"mom\", \"peace\", \"indoor\", \"ride\", \"floral\", \"quinoa\", \"clump\", \"conscious\", \"volume\", \"pill\", \"organic\", \"chai\", \"blood\", \"celiac\", \"save\", \"yeast\", \"feeding\", \"doctor\", \"herb\", \"program\", \"grass\", \"subscribe\", \"source\", \"trick\", \"form\", \"flower\", \"shake\", \"protein\", \"honey\", \"body\", \"ingredient\", \"product\", \"milk\", \"leave\", \"natural\", \"powder\", \"spoon\", \"good\", \"great\", \"high\"], \"Freq\": [30706.0, 23273.0, 32079.0, 11229.0, 13683.0, 6314.0, 9230.0, 6822.0, 8293.0, 7646.0, 14568.0, 15919.0, 6812.0, 6152.0, 28341.0, 4509.0, 22389.0, 7369.0, 4706.0, 3896.0, 7223.0, 10230.0, 8994.0, 4306.0, 4125.0, 3908.0, 4110.0, 3525.0, 3689.0, 5747.0, 3778.097961242516, 666.9821559802274, 697.2681164237008, 411.34214326001666, 351.2020521961112, 339.1171790578594, 352.03070083192364, 309.54978573842226, 289.4577755221164, 457.68424331150425, 288.89476728310314, 284.7452853308157, 260.295368883028, 258.4242704947581, 309.47572082865344, 252.59760518119046, 248.67017430224723, 241.3324945313613, 234.98013048444952, 237.86644555915777, 226.07066978414068, 224.7947996150273, 219.19578795733833, 218.1833623010271, 216.87609304298428, 214.85684431289627, 209.8331953069889, 211.5140726787314, 207.38638538817148, 206.0804295560708, 1896.4350314069193, 1458.4092856616912, 13260.185447095473, 1049.6155581304852, 1044.1972656735236, 387.177076063432, 311.63183264636916, 387.1234718671682, 1024.5092570681097, 258.7620467069736, 1200.1908125942432, 830.5941479892472, 6328.054667039815, 3247.546775755069, 12418.64061031358, 952.5286721803132, 4210.562497370453, 5314.582374430928, 12668.909983311793, 1215.150487807929, 463.8085022123698, 1341.8638302003742, 2176.4751735227983, 2153.1676092881926, 2179.6032615822633, 811.6495384670885, 2346.7248918869414, 2288.5064661100787, 1624.4589962193352, 1554.0529627688084, 3648.0845540813057, 12474.702883228167, 3058.3520374231603, 2236.533873222851, 6881.591463227799, 2902.3304981120486, 8964.699455157706, 2322.6443764853825, 4217.925563202126, 2918.5555771318714, 2581.583509949462, 7869.167593248352, 1839.6794337731224, 2232.197104940126, 2673.566176421088, 2383.578967110605, 2598.0497668079115, 3188.0016255983955, 2260.197704244264, 2227.4861744421314, 3768.1185727403854, 1924.6039205407653, 907.5213608328316, 1586.698082357784, 869.4968248654444, 649.3930143675298, 829.4374807420869, 831.7438744125271, 4697.104611701734, 461.5841636316875, 1052.4300842459322, 4100.269003006385, 2011.1743832442778, 341.1132650318268, 336.60726585877904, 337.91776051144285, 302.88117799154526, 295.50632045854275, 289.1058248338378, 292.74325673904883, 281.0700152044331, 855.4734103574896, 273.8709158684277, 282.20090574769296, 270.6655401728659, 248.0100233414458, 245.09820293497856, 238.18121729865697, 236.26907772383294, 3167.005540266041, 7594.148894504429, 6745.060147432237, 669.7653251753966, 512.5197480418631, 465.6696763815768, 890.8202298115467, 396.93511320428604, 371.92024128365523, 2215.5755256802886, 2346.5091007861415, 3216.7093430308146, 1387.0149770655235, 1505.5650988122795, 439.69688382818805, 519.6006176206253, 803.8432541666211, 1033.2320586929836, 3179.1019603625, 1862.7511368766377, 4049.7680707967334, 1208.465032252302, 2185.6681724389828, 9539.931357290636, 7702.714386657375, 5538.712802748274, 2148.633958916382, 2749.6063591937127, 3103.7641258288486, 4876.952295558136, 1929.6428349763344, 3023.900677968874, 1527.3411676486783, 2552.6612871410307, 1699.6091991364087, 1651.0489143272976, 1962.607560384075, 1642.3136934774213, 1624.8642760988268, 6151.6138471235545, 8292.069730724466, 4124.479470343931, 1110.1072043102429, 1045.2931235438011, 1000.4795392850616, 859.8194416588784, 882.0616733324706, 1228.851138567032, 745.1578402079365, 550.4717008106105, 523.0381676871069, 533.5964512552215, 497.0021057519437, 461.9871730652851, 439.4914503848563, 630.7884791878301, 391.3083794362016, 378.88436094101775, 365.4092798943857, 442.93127164019756, 352.64062825842535, 347.41465791067543, 346.11789161605606, 568.6980094628942, 310.9039787682188, 312.4083846612128, 313.62369617789193, 304.95971121997115, 304.123701741907, 836.7226668196984, 457.91913767552757, 342.0003603784412, 1355.2025441457279, 1226.954534926793, 20712.909277985742, 1538.4306283819826, 2523.178088417738, 1226.0306539655285, 701.8535522437728, 629.6206388304554, 727.9725329624453, 765.0703717852741, 1818.266384285393, 1104.4692254164831, 948.1047711996426, 2724.117400538391, 1979.7351094934206, 721.2321890242097, 1980.9489258554759, 2801.082976720782, 1259.903008178143, 3306.5690881928113, 2501.050049178535, 3758.5291625191267, 2025.4036107064037, 1261.1019975901793, 1565.9713765516317, 3354.456897252328, 3971.4805468870636, 2484.689818092922, 3299.78781439675, 1693.357802918625, 1943.3658470591279, 2028.7140076396258, 1704.3156665599395, 1507.1918644429018, 1485.021587085578, 1320.4921557664964, 1332.9084181470694, 1292.5543194480204, 2704.7395444232984, 1585.4015090046648, 2259.1089674093787, 1429.9421820949492, 30677.130918614017, 2411.315979672819, 2464.100652427194, 812.6023047162683, 545.4784422801208, 457.226878881858, 674.6021185120696, 427.99391048623187, 424.21960590514095, 406.25316649096084, 1478.9828628912817, 385.1754700879435, 414.75457143196013, 411.9690109931221, 276.85834548731594, 276.43046694535985, 249.0113588572933, 246.06416757281096, 244.01459105569302, 243.1953294944771, 241.70826005543842, 373.2846050319464, 237.08988024065366, 234.96247031868504, 233.51556236939004, 222.9933478094101, 3869.7926266510403, 1920.5167490876393, 1718.2571396909177, 1130.8685413854587, 539.1504907128876, 2083.9934912142016, 1380.1247540119662, 610.6350972285255, 352.8353483979363, 3175.727451356651, 805.4888513142114, 703.2399964956351, 2157.708318876915, 1500.8465809304205, 1250.9682482243684, 1193.323488051745, 2455.2905128732805, 1129.014875241675, 4288.954264991259, 1909.3183687921276, 2264.866177151657, 2385.6515839762183, 1960.1350191172082, 980.2415062035428, 6348.414885860222, 3800.058710906301, 4218.511668571914, 3391.566897015648, 1794.8318593780507, 1557.6246408339155, 1536.4398380055939, 1462.9272404056771, 1720.0001983825518, 586.384933662906, 533.5298011156217, 556.9882394097324, 515.2515339679999, 3518.3275193447625, 475.418223489429, 469.0406416912708, 466.99806181599666, 377.6072902272649, 361.7645838718204, 338.5060393349832, 350.7326906436662, 314.9642702682486, 315.1158672113586, 292.4789502188918, 289.40059136173153, 263.18665716193067, 255.3416029408843, 254.0228496716611, 615.0744924888094, 248.90366263714975, 246.81816616276146, 242.89363711175477, 2701.0555365711402, 408.1749945419823, 230.67118987808703, 230.39139367126748, 227.1727738589848, 313.0185843123739, 1599.8807664642325, 447.21989080965454, 404.8012743907436, 8855.370722117435, 640.6609935168378, 281.48609483016514, 1150.1661575211144, 2309.1550669468847, 392.55557962321166, 497.3730042864129, 532.1349490837711, 2042.9622459064788, 1896.9072746368397, 3225.224614325688, 707.6647403339506, 5000.140642692174, 1344.4102385562135, 746.53206448074, 919.6721393758136, 590.8927030495125, 977.4272214504142, 649.9851314155765, 4042.538037267318, 1666.0234786794092, 802.5299933444958, 3787.6469710322363, 986.1372641058515, 3832.322675249224, 969.443482802376, 987.8858590211296, 2712.179719255582, 2011.7944349075883, 804.9970846992876, 1297.8577151359818, 1455.8126210274033, 1389.7237610112315, 1965.3604263639775, 1483.885031650768, 1204.0441815584225, 1403.4835984391723, 1062.6264051276457, 1013.0849845656086, 1016.2731748825427, 3893.605162851583, 965.1820031083715, 1766.7803280844687, 1199.8260747608467, 687.3339849940606, 620.8461543066361, 567.8366003598924, 535.4086695340901, 566.3371686972561, 439.6407292788292, 432.2983464679951, 398.29188379860506, 677.5666608707519, 383.48670855984807, 361.6477866552085, 339.6567634536269, 376.5027161892792, 492.6791364944252, 286.56958717628777, 282.86956595996054, 281.7214873549425, 280.43885399371544, 268.27762341540506, 263.03474988550994, 258.5334053651204, 258.22376052865604, 254.85444938084956, 252.67462010596708, 249.28776241742761, 248.77982759591532, 1492.0744074902375, 487.68315780572607, 368.00153449386164, 518.6161139779017, 10409.602579550654, 766.4763433254022, 3957.0451969463966, 365.02239929794234, 1424.0538817781987, 2254.8406426841852, 535.9566470628633, 584.8766841217151, 906.778576858072, 4499.203279429492, 2211.2880642860214, 2862.7389512381806, 723.3472746149297, 3379.3920577005515, 502.64472714483975, 721.5410130688878, 1419.4857759544323, 4576.664031719411, 1577.656580850004, 3173.525532663154, 3248.4517012189594, 1313.1716609803862, 2405.7962537312947, 914.6199100985725, 1226.926284679974, 822.1225230546397, 1924.8410683154427, 1100.081121908276, 1113.9897111398734, 1304.8591984296168, 891.5914359471825, 1099.0493477804691, 881.927045274056, 937.9113946974201, 775.8082186297365, 732.1214476455419, 555.2283642897513, 544.9043797297526, 516.9695663716616, 455.43302835285056, 543.7400997188056, 391.810330743599, 383.7109701779948, 377.47871519394005, 370.21526416482703, 351.0952458825832, 297.3598985877142, 290.5775756876979, 290.4833478419255, 792.9466917520995, 289.4008504895735, 282.61090140342964, 267.45741224266766, 260.37727039912386, 258.26406825910215, 255.50912021712531, 253.31266164634292, 249.97557359889262, 713.5128516980243, 242.3663709410515, 784.7997260062205, 258.3109950363165, 233.65609672292814, 228.4642781014789, 2861.724940774634, 428.47567683879026, 1449.0245835482376, 424.6386759154321, 855.2144546972152, 923.5827922530356, 1005.5460464213091, 2994.788694930704, 321.33325915067206, 425.8295773981985, 15833.60778556296, 647.8191065113334, 2022.0796023821329, 3088.804504656945, 2113.023977342103, 907.1348398733516, 984.5410969322728, 782.6484865083969, 883.8877916628124, 714.5366788822538, 1824.822262744857, 5549.496856698115, 2877.7356272920592, 2372.8869714350053, 2711.2740436847407, 3183.0503164138795, 5774.721432681128, 1954.6401623685, 912.3258865189044, 1876.2817081312467, 1922.4613998236305, 1441.9909006177286, 1765.008821713113, 1422.8797717548973, 1608.0927902437668, 1171.3988451581256, 1198.961378988505, 1345.0970711770658, 973.3275154211732, 915.5090472512647, 2186.94469077986, 1436.7975373675085, 763.8278827528598, 648.7916644249466, 4502.61544857754, 597.113979562751, 381.55873159623786, 596.9325564084763, 366.0142444902388, 363.0713637127055, 321.8390780338212, 494.75714152686453, 277.97752822741654, 359.55982106623605, 1025.2318090018173, 254.01462122960277, 250.31031184790072, 383.49162589273055, 245.61760956655667, 225.23108156519731, 983.6013858736258, 232.52693178849032, 216.2220355177878, 213.19646893199746, 203.71390252064688, 199.74079475487343, 197.09646145853154, 183.80302643847392, 180.41668949359064, 172.58390977162287, 6752.3008183661705, 961.7513505760651, 217.41313005363207, 448.11163228791537, 451.7050637263327, 1504.1545348387879, 1904.312179531311, 269.4097697215856, 2124.0892414225737, 898.3677203642412, 1180.7468916380635, 1164.0059162346863, 698.2681385234162, 1246.7052181631266, 622.9985855582034, 1351.9954469218887, 826.7109125814951, 1263.3535913925402, 940.1634780384207, 884.0074141409863, 1901.2931558933608, 1324.9505705329661, 1177.2320867853057, 848.668600686578, 1267.8271141888722, 1126.8235855219864, 4065.9394804341405, 1884.3437699927763, 2261.546307007492, 1058.572743527644, 1858.0414903808112, 1238.2769375113942, 981.8392013493919, 1109.9338831682721, 975.9309750555655, 1018.5086242642691, 982.7062068116265, 1007.0272672124668, 775.3565695713612, 537.9081123833357, 1858.0306575079433, 458.25300318187504, 722.9588788858025, 375.28796944594626, 359.24647412495233, 350.76487439096314, 324.5363973844203, 322.5531940194021, 536.0842256128781, 246.23698593149135, 244.59704693962158, 238.15433276858496, 234.00570331628882, 226.31206127346127, 216.97029168024417, 212.20236700613742, 212.51931881124236, 209.21186176240826, 197.9059080960949, 196.8072000681473, 187.75532728268584, 186.6577984071651, 323.03374230565385, 173.08104828254147, 172.75923793271483, 176.6059279371923, 1582.9319506753582, 6244.592805588744, 1358.4856142473516, 852.3300677926143, 480.26358644912256, 1080.2329803791388, 349.5746947053108, 413.1300278852729, 466.8258780481645, 648.7101835614294, 493.59840288276035, 305.3847565206844, 1369.050732647265, 832.8850581723103, 417.24264951623815, 595.8763811671863, 414.09374479650273, 506.7565648139318, 1993.9140869066634, 1455.2083434150345, 702.7879044213706, 1488.4577341687334, 2847.2672222826586, 998.0372344209466, 514.8815364472683, 655.8585549514651, 567.3707642989999, 439.86084566180807, 761.039126115352, 605.1250850633068, 474.61675649389474], \"Total\": [30706.0, 23273.0, 32079.0, 11229.0, 13683.0, 6314.0, 9230.0, 6822.0, 8293.0, 7646.0, 14568.0, 15919.0, 6812.0, 6152.0, 28341.0, 4509.0, 22389.0, 7369.0, 4706.0, 3896.0, 7223.0, 10230.0, 8994.0, 4306.0, 4125.0, 3908.0, 4110.0, 3525.0, 3689.0, 5747.0, 3779.9938818774617, 668.0277698684855, 698.4560760816462, 412.2658216934458, 352.1258491000937, 340.04065806579285, 353.0058251568921, 310.53732156615433, 290.38305547375734, 459.1495091057588, 289.82117834929505, 285.67510976777555, 261.2200070400515, 259.347716800922, 310.5916867341856, 253.52121405110262, 249.59448766801913, 242.26864022394406, 235.90353064197535, 238.80501546497638, 226.9941920622834, 225.71842399769386, 220.1202138482437, 219.10875024291659, 217.8015637662365, 215.7809825633483, 210.75747305275775, 212.45597300594716, 208.31049377496674, 207.00350002408953, 1906.1885877176378, 1467.3997100205615, 13683.734393791003, 1056.6280508573814, 1053.8549805979767, 389.0305142786562, 313.04883035741716, 390.7462851833708, 1050.5074420350816, 260.44935831201474, 1249.9394850763401, 856.2371852546536, 7160.056190449194, 3583.1131961549336, 14568.518779902754, 1017.135441779231, 4879.485679876449, 6243.586528085634, 15919.342879680047, 1341.5034117067503, 484.5841433903005, 1568.949594792153, 2721.972990464081, 2692.048683345007, 2748.8685875425003, 911.0648161011284, 3169.3256281781914, 3080.1720998384094, 2081.4436473350065, 1995.3220448331015, 5531.9531332988445, 28341.317926624306, 5280.272862000203, 3608.6818221270864, 17611.657504984123, 5705.820035006862, 33283.025055823025, 4085.9797327351616, 11385.162469502793, 6173.896248011881, 5205.069745294972, 46739.68112948553, 2909.668400767998, 4770.3922505582605, 7431.041925814308, 5705.781251315972, 7980.149274453042, 15145.738449358998, 5712.5405646019235, 5793.583970075025, 3770.084510688412, 1925.618859804638, 908.4693060240851, 1588.639926583565, 870.5998545390772, 650.3399331837594, 830.7838151538521, 833.4108609684978, 4706.591732873267, 462.53176041251754, 1054.6551688081947, 4110.242037132098, 2016.744727772427, 342.06023414516096, 337.5591947487137, 338.8871160812922, 303.82879083271536, 296.4540297210096, 290.0532962905009, 293.70435112529947, 282.01743693050486, 858.384891176596, 274.82673167797907, 283.1867463321472, 271.6331643691072, 248.95738877214757, 246.0454789348724, 239.1287921363738, 237.2165408440229, 3179.9982686115604, 7646.22802182376, 6812.449900070048, 674.4687412677484, 514.7364081623078, 467.7305351391518, 901.2647066510898, 398.9066634174784, 373.80992720832825, 2292.2724457907516, 2447.943830496819, 3415.7724089182475, 1442.9382716164614, 1584.0717469807946, 446.1029482153156, 538.816258837662, 897.540063379734, 1215.2299511230287, 4877.485237348739, 2629.169105970638, 7846.244203522439, 1642.9182266453702, 3717.9285736786046, 46739.68112948553, 33283.025055823025, 22389.699752987755, 4663.688464792677, 7431.041925814308, 10230.767541767245, 32079.22870356084, 5132.837302629064, 15145.738449358998, 3185.8183979355667, 14393.499564630278, 5043.327861192457, 5323.5230105543105, 28341.317926624306, 7738.001035624254, 6666.8093428788325, 6152.866078732953, 8293.921143908656, 4125.605106708688, 1111.0728561119167, 1046.2388109559326, 1001.4186492558362, 860.7644312553301, 883.1974366399066, 1230.7603087731961, 746.323539150218, 551.411127111906, 523.9776476680405, 534.5994106025479, 497.94372692629486, 462.93467897346324, 440.4299586375337, 632.2713269759207, 392.24902530377506, 379.8423684646238, 366.3485693835954, 444.0900072035209, 353.5792069725469, 348.3532186699084, 347.06734266639603, 570.3529018072865, 311.8446315429891, 313.36137491628875, 314.58689727645674, 305.8989534475139, 305.07257587153447, 842.4712154428162, 460.58539374276063, 343.2909867578229, 1381.0577968516789, 1255.6450066531474, 23273.37575248344, 1614.794296986951, 2720.5363295112147, 1291.39030186549, 733.6088386065181, 660.2301020716781, 789.278150865623, 842.5001270346362, 2462.5488328628267, 1437.7655629977737, 1236.9735396113933, 6173.896248011881, 3888.18103681869, 868.9683833405044, 4464.2969565425765, 7980.149274453042, 2157.7677522317267, 11385.162469502793, 7846.244203522439, 17611.657504984123, 5747.216369545172, 2274.7522925864837, 3762.064310330797, 28341.317926624306, 46739.68112948553, 14393.499564630278, 33283.025055823025, 5705.820035006862, 9754.506061583439, 15145.738449358998, 7738.001035624254, 5705.781251315972, 5940.488170997877, 2886.099283409457, 4770.3922505582605, 3678.9169450233853, 2705.6756403831623, 1586.330806686553, 2260.5568346837244, 1431.005672587993, 30706.737383134176, 2413.7071892219947, 2466.970051283743, 813.6907773595813, 546.4040427825979, 458.1964312198785, 676.0515852543521, 428.9270179408014, 425.14490188301505, 407.19516099131357, 1482.6237249716492, 386.1738602328727, 415.8899666782372, 413.19200764836944, 277.783539887806, 277.35766708087124, 249.93792242872715, 246.99010539460247, 244.94032424433288, 244.12332851886427, 242.6353083703005, 374.7287355680351, 238.01645040920783, 235.8885101232637, 234.44131204958651, 223.9200787912371, 3908.6918410317735, 1938.4770761259078, 1735.573390095217, 1147.5136144289017, 545.2751525757842, 2150.1776536561033, 1430.8407972464954, 629.4104360001144, 357.8003559952649, 3501.513511695785, 843.2642336728088, 733.4601944749746, 2428.183554260141, 1651.180350016919, 1436.8181493854172, 1381.0980952081497, 3404.5092132873683, 1382.181834778314, 7223.0748162247555, 2783.9792442765593, 3718.125192605428, 4387.435704073068, 3372.1492049905605, 1271.8135824145365, 46739.68112948553, 22389.699752987755, 32079.22870356084, 33283.025055823025, 9754.506061583439, 8443.85469100309, 8654.22006947797, 6666.8093428788325, 1721.0820203565752, 587.3171867475473, 534.4620102739781, 557.9829314074782, 516.2431312360171, 3525.122342961978, 476.3594372731069, 469.9735610996076, 467.9339009097655, 378.5390782360847, 362.69668098033793, 339.4383020247692, 351.73551272059734, 315.8959337849203, 316.0564244005784, 293.4111894620068, 290.3332545820541, 264.11864320451065, 256.27390710424964, 254.95507571503606, 617.3518606508957, 249.8354404600682, 247.7549132322799, 243.82581221453063, 2711.470779788016, 409.7579604053594, 231.60324815184592, 231.32644662499823, 228.10913543605406, 314.33709823871715, 1620.185623530062, 449.9619478937533, 407.08313373667636, 9230.057630748574, 651.0721989047114, 283.0177286518129, 1201.287296757609, 2471.7284266424795, 398.26983453882883, 508.7380319165817, 545.932621750153, 2315.0369710713176, 2172.2094029762543, 4117.796815750611, 771.7592071330245, 7369.254774227625, 1864.7821163994656, 925.4995447999311, 1310.3400794523998, 719.5796997112677, 1565.535384443457, 875.2298286391476, 22389.699752987755, 4759.63568422457, 1290.9394505391037, 33283.025055823025, 2213.5678318165947, 46739.68112948553, 2274.7522925864837, 2397.5602523361345, 28341.317926624306, 14393.499564630278, 1492.1172719606484, 5940.488170997877, 9754.506061583439, 8404.379960755214, 32079.22870356084, 17611.657504984123, 7282.460810649377, 15919.342879680047, 14568.518779902754, 7738.001035624254, 15145.738449358998, 3896.1610515728244, 966.1099219088402, 1768.5615163490368, 1201.2776102874482, 688.2605643901709, 621.773085965534, 568.767435151954, 536.3457458212421, 567.4490143732348, 440.56763841187404, 433.22471864920755, 399.2176401564639, 679.1654697924697, 384.42628387886504, 362.5834565497222, 340.6015712754321, 377.62254840054396, 494.27105415788276, 287.4962257286089, 283.7959889924794, 282.6475983653958, 281.3653472567866, 269.20514674319816, 263.9632679996264, 259.46036835758986, 259.150399490089, 255.78046811905566, 253.60076779327306, 250.213732497645, 249.7061773005322, 1508.7539536513868, 489.987888652941, 370.56588546231944, 525.3015766955656, 11229.921233734802, 791.8394446972029, 4306.542166857519, 369.2969075525212, 1524.6756283860077, 2504.1935284202436, 566.3369281914688, 629.2973971829864, 1091.7888384957773, 8994.078424564867, 4001.5968035717733, 6629.936153221441, 960.308293764577, 10230.767541767245, 581.9773784542473, 1080.3059521485038, 3718.125192605428, 46739.68112948553, 5747.216369545172, 28341.317926624306, 32079.22870356084, 4681.803166015295, 22389.699752987755, 2242.9409260765437, 5265.469968582992, 1723.5790597476541, 33283.025055823025, 4877.485237348739, 5323.5230105543105, 14393.499564630278, 3079.2451371646453, 17611.657504984123, 3372.1492049905605, 7846.244203522439, 776.7324398229875, 733.0456010441824, 556.1522141929281, 545.8467196134362, 517.8938573171794, 456.35735746938167, 544.9841803681516, 392.73786746343666, 384.6349633532702, 378.4034856564017, 371.13972250343505, 352.0196975018489, 298.29281333199526, 291.5013012549833, 291.40744453426345, 795.4694670358813, 290.3340389618531, 283.5345518890816, 268.38309340800635, 261.30122364235075, 259.20513371692147, 256.44100358721744, 254.2366282318411, 250.89931150383558, 716.2068371164845, 243.2905451267954, 787.8533154147138, 259.31616964161185, 234.58004899023655, 229.3907833665285, 2905.9654110385486, 430.2751239495966, 1479.200422626223, 429.72292611312633, 883.9968073751547, 957.7553286217667, 1051.5590194481365, 3814.2234377866203, 329.63854246796865, 451.03999020855116, 32079.22870356084, 750.4315268579346, 2873.918253772513, 4773.9333865294475, 3429.882647051922, 1208.5631910486109, 1362.5564655506223, 1017.7600427402135, 1237.038662027208, 930.0364159660778, 3657.5824371965923, 22389.699752987755, 8654.22006947797, 7223.0748162247555, 10230.767541767245, 15145.738449358998, 46739.68112948553, 6125.871760672356, 1545.4684853081849, 8443.85469100309, 8994.078424564867, 5340.920687362947, 9754.506061583439, 7369.254774227625, 14393.499564630278, 5531.9531332988445, 7647.482451376696, 33283.025055823025, 5205.069745294972, 6629.936153221441, 2188.181664092139, 1438.3687096247866, 764.8093083749704, 649.7999158718507, 4509.921735699447, 598.1089382862536, 382.5001244873041, 598.4287203434166, 366.9554519326667, 364.0155380111941, 322.77928560471474, 496.2922505531508, 278.91831615058726, 360.80700897026236, 1028.93660029638, 254.95537734617793, 251.25054239784393, 384.950426925801, 246.55946363438235, 226.17144303346643, 987.709557687061, 233.50870610162858, 217.16315997776124, 214.13837667660277, 204.6543872918973, 200.68124182265385, 198.0376745893948, 184.7476053365653, 181.3570387536972, 173.5245105366099, 6822.852042069572, 967.7196957159358, 218.7149698577498, 456.46398581240004, 461.1610663058999, 1587.6320515031523, 2032.4881627162392, 272.4410010722492, 2379.0945722139604, 995.435592053046, 1422.589779244223, 1418.281354874256, 840.1629292929036, 1713.5080020569585, 746.0464802727745, 2003.1305946799107, 1111.3226860206864, 1945.1413472195904, 1319.654859878273, 1279.9515374996563, 3888.18103681869, 2456.932511082051, 2116.829081927128, 1416.3814225262167, 2973.456611796626, 2503.781605088713, 46739.68112948553, 14393.499564630278, 33283.025055823025, 3913.4905891119233, 32079.22870356084, 17611.657504984123, 4001.5968035717733, 28341.317926624306, 5042.000552512652, 22389.699752987755, 8404.379960755214, 1007.9534514399279, 776.3438564785713, 538.8655008199142, 1861.8882993199381, 459.2235649367291, 724.4966861894502, 376.22012613388904, 360.18055261923, 351.7070400937017, 325.46660431772426, 323.5962706065595, 537.8557188150463, 247.1672836621315, 245.52449434950165, 239.09193354395325, 234.93149734174284, 227.24097271767212, 217.90034086825935, 213.12828153056202, 213.44679387576127, 210.13967512136622, 198.83172350770187, 197.73646260323085, 188.68115614180212, 187.5835262353051, 324.6467763151546, 174.00672254829362, 173.68518526454153, 177.5581978981089, 1591.9568218585496, 6314.225695702392, 1374.0806062782406, 861.8011376014614, 484.60728271463887, 1100.211710495072, 352.159066878347, 416.9035021628497, 472.50596663504535, 662.38028546548, 512.9275050856902, 311.3017744521827, 1514.4452590331312, 895.6915935313993, 454.23610367929945, 684.3920466727708, 471.7678703169229, 608.8959756646481, 3689.648498363349, 2625.623135159694, 1276.1722001326198, 5747.216369545172, 28341.317926624306, 6629.936153221441, 1039.2993383740832, 4681.803166015295, 2397.5602523361345, 659.8428005940906, 46739.68112948553, 33283.025055823025, 5265.469968582992], \"Category\": [\"Default\", \"Default\", \"Default\", \"Default\", \"Default\", \"Default\", \"Default\", \"Default\", \"Default\", \"Default\", \"Default\", \"Default\", \"Default\", \"Default\", \"Default\", \"Default\", \"Default\", \"Default\", \"Default\", \"Default\", \"Default\", \"Default\", \"Default\", \"Default\", \"Default\", \"Default\", \"Default\", \"Default\", \"Default\", \"Default\", \"Topic1\", \"Topic1\", \"Topic1\", \"Topic1\", \"Topic1\", \"Topic1\", \"Topic1\", \"Topic1\", \"Topic1\", \"Topic1\", \"Topic1\", \"Topic1\", \"Topic1\", \"Topic1\", \"Topic1\", \"Topic1\", \"Topic1\", \"Topic1\", \"Topic1\", \"Topic1\", \"Topic1\", \"Topic1\", \"Topic1\", \"Topic1\", \"Topic1\", \"Topic1\", \"Topic1\", \"Topic1\", \"Topic1\", \"Topic1\", \"Topic1\", \"Topic1\", \"Topic1\", \"Topic1\", \"Topic1\", \"Topic1\", \"Topic1\", \"Topic1\", \"Topic1\", \"Topic1\", \"Topic1\", \"Topic1\", \"Topic1\", \"Topic1\", \"Topic1\", \"Topic1\", \"Topic1\", \"Topic1\", \"Topic1\", \"Topic1\", \"Topic1\", \"Topic1\", \"Topic1\", \"Topic1\", \"Topic1\", \"Topic1\", \"Topic1\", \"Topic1\", \"Topic1\", \"Topic1\", \"Topic1\", \"Topic1\", \"Topic1\", \"Topic1\", \"Topic1\", \"Topic1\", \"Topic1\", \"Topic1\", \"Topic1\", \"Topic1\", \"Topic1\", \"Topic1\", \"Topic1\", \"Topic1\", \"Topic1\", \"Topic1\", \"Topic1\", \"Topic1\", \"Topic1\", \"Topic1\", \"Topic2\", \"Topic2\", \"Topic2\", \"Topic2\", \"Topic2\", \"Topic2\", \"Topic2\", \"Topic2\", \"Topic2\", \"Topic2\", \"Topic2\", \"Topic2\", \"Topic2\", \"Topic2\", \"Topic2\", \"Topic2\", \"Topic2\", \"Topic2\", \"Topic2\", \"Topic2\", \"Topic2\", \"Topic2\", \"Topic2\", \"Topic2\", \"Topic2\", \"Topic2\", \"Topic2\", \"Topic2\", \"Topic2\", \"Topic2\", \"Topic2\", \"Topic2\", \"Topic2\", \"Topic2\", \"Topic2\", \"Topic2\", \"Topic2\", \"Topic2\", \"Topic2\", \"Topic2\", \"Topic2\", \"Topic2\", \"Topic2\", \"Topic2\", \"Topic2\", \"Topic2\", \"Topic2\", \"Topic2\", \"Topic2\", \"Topic2\", \"Topic2\", \"Topic2\", \"Topic2\", \"Topic2\", \"Topic2\", \"Topic2\", \"Topic2\", \"Topic2\", \"Topic2\", \"Topic2\", \"Topic2\", \"Topic2\", \"Topic2\", \"Topic2\", \"Topic2\", \"Topic2\", \"Topic2\", \"Topic2\", \"Topic3\", \"Topic3\", \"Topic3\", \"Topic3\", \"Topic3\", \"Topic3\", \"Topic3\", \"Topic3\", \"Topic3\", \"Topic3\", \"Topic3\", \"Topic3\", \"Topic3\", \"Topic3\", \"Topic3\", \"Topic3\", \"Topic3\", \"Topic3\", \"Topic3\", \"Topic3\", \"Topic3\", \"Topic3\", \"Topic3\", \"Topic3\", \"Topic3\", \"Topic3\", \"Topic3\", \"Topic3\", \"Topic3\", \"Topic3\", \"Topic3\", \"Topic3\", \"Topic3\", \"Topic3\", \"Topic3\", \"Topic3\", \"Topic3\", \"Topic3\", \"Topic3\", \"Topic3\", \"Topic3\", \"Topic3\", \"Topic3\", \"Topic3\", \"Topic3\", \"Topic3\", \"Topic3\", \"Topic3\", \"Topic3\", \"Topic3\", \"Topic3\", \"Topic3\", \"Topic3\", \"Topic3\", \"Topic3\", \"Topic3\", \"Topic3\", \"Topic3\", \"Topic3\", \"Topic3\", \"Topic3\", \"Topic3\", \"Topic3\", \"Topic3\", \"Topic3\", \"Topic3\", \"Topic3\", \"Topic3\", \"Topic3\", \"Topic3\", \"Topic3\", \"Topic4\", \"Topic4\", \"Topic4\", \"Topic4\", \"Topic4\", \"Topic4\", \"Topic4\", \"Topic4\", \"Topic4\", \"Topic4\", \"Topic4\", \"Topic4\", \"Topic4\", \"Topic4\", \"Topic4\", \"Topic4\", \"Topic4\", \"Topic4\", \"Topic4\", \"Topic4\", \"Topic4\", \"Topic4\", \"Topic4\", \"Topic4\", \"Topic4\", \"Topic4\", \"Topic4\", \"Topic4\", \"Topic4\", \"Topic4\", \"Topic4\", \"Topic4\", \"Topic4\", \"Topic4\", \"Topic4\", \"Topic4\", \"Topic4\", \"Topic4\", \"Topic4\", \"Topic4\", \"Topic4\", \"Topic4\", \"Topic4\", \"Topic4\", \"Topic4\", \"Topic4\", \"Topic4\", \"Topic4\", \"Topic4\", \"Topic4\", \"Topic4\", \"Topic4\", \"Topic4\", \"Topic4\", \"Topic4\", \"Topic4\", \"Topic4\", \"Topic4\", \"Topic4\", \"Topic4\", \"Topic4\", \"Topic4\", \"Topic5\", \"Topic5\", \"Topic5\", \"Topic5\", \"Topic5\", \"Topic5\", \"Topic5\", \"Topic5\", \"Topic5\", \"Topic5\", \"Topic5\", \"Topic5\", \"Topic5\", \"Topic5\", \"Topic5\", \"Topic5\", \"Topic5\", \"Topic5\", \"Topic5\", \"Topic5\", \"Topic5\", \"Topic5\", \"Topic5\", \"Topic5\", \"Topic5\", \"Topic5\", \"Topic5\", \"Topic5\", \"Topic5\", \"Topic5\", \"Topic5\", \"Topic5\", \"Topic5\", \"Topic5\", \"Topic5\", \"Topic5\", \"Topic5\", \"Topic5\", \"Topic5\", \"Topic5\", \"Topic5\", \"Topic5\", \"Topic5\", \"Topic5\", \"Topic5\", \"Topic5\", \"Topic5\", \"Topic5\", \"Topic5\", \"Topic5\", \"Topic5\", \"Topic5\", \"Topic5\", \"Topic5\", \"Topic5\", \"Topic5\", \"Topic5\", \"Topic5\", \"Topic5\", \"Topic5\", \"Topic5\", \"Topic5\", \"Topic5\", \"Topic5\", \"Topic5\", \"Topic5\", \"Topic5\", \"Topic5\", \"Topic5\", \"Topic5\", \"Topic5\", \"Topic5\", \"Topic5\", \"Topic6\", \"Topic6\", \"Topic6\", \"Topic6\", \"Topic6\", \"Topic6\", \"Topic6\", \"Topic6\", \"Topic6\", \"Topic6\", \"Topic6\", \"Topic6\", \"Topic6\", \"Topic6\", \"Topic6\", \"Topic6\", \"Topic6\", \"Topic6\", \"Topic6\", \"Topic6\", \"Topic6\", \"Topic6\", \"Topic6\", \"Topic6\", \"Topic6\", \"Topic6\", \"Topic6\", \"Topic6\", \"Topic6\", \"Topic6\", \"Topic6\", \"Topic6\", \"Topic6\", \"Topic6\", \"Topic6\", \"Topic6\", \"Topic6\", \"Topic6\", \"Topic6\", \"Topic6\", \"Topic6\", \"Topic6\", \"Topic6\", \"Topic6\", \"Topic6\", \"Topic6\", \"Topic6\", \"Topic6\", \"Topic6\", \"Topic6\", \"Topic6\", \"Topic6\", \"Topic6\", \"Topic6\", \"Topic6\", \"Topic6\", \"Topic6\", \"Topic6\", \"Topic6\", \"Topic6\", \"Topic6\", \"Topic6\", \"Topic6\", \"Topic6\", \"Topic6\", \"Topic6\", \"Topic6\", \"Topic6\", \"Topic7\", \"Topic7\", \"Topic7\", \"Topic7\", \"Topic7\", \"Topic7\", \"Topic7\", \"Topic7\", \"Topic7\", \"Topic7\", \"Topic7\", \"Topic7\", \"Topic7\", \"Topic7\", \"Topic7\", \"Topic7\", \"Topic7\", \"Topic7\", \"Topic7\", \"Topic7\", \"Topic7\", \"Topic7\", \"Topic7\", \"Topic7\", \"Topic7\", \"Topic7\", \"Topic7\", \"Topic7\", \"Topic7\", \"Topic7\", \"Topic7\", \"Topic7\", \"Topic7\", \"Topic7\", \"Topic7\", \"Topic7\", \"Topic7\", \"Topic7\", \"Topic7\", \"Topic7\", \"Topic7\", \"Topic7\", \"Topic7\", \"Topic7\", \"Topic7\", \"Topic7\", \"Topic7\", \"Topic7\", \"Topic7\", \"Topic7\", \"Topic7\", \"Topic7\", \"Topic7\", \"Topic7\", \"Topic7\", \"Topic7\", \"Topic7\", \"Topic7\", \"Topic7\", \"Topic7\", \"Topic7\", \"Topic7\", \"Topic7\", \"Topic7\", \"Topic7\", \"Topic7\", \"Topic7\", \"Topic7\", \"Topic7\", \"Topic7\", \"Topic8\", \"Topic8\", \"Topic8\", \"Topic8\", \"Topic8\", \"Topic8\", \"Topic8\", \"Topic8\", \"Topic8\", \"Topic8\", \"Topic8\", \"Topic8\", \"Topic8\", \"Topic8\", \"Topic8\", \"Topic8\", \"Topic8\", \"Topic8\", \"Topic8\", \"Topic8\", \"Topic8\", \"Topic8\", \"Topic8\", \"Topic8\", \"Topic8\", \"Topic8\", \"Topic8\", \"Topic8\", \"Topic8\", \"Topic8\", \"Topic8\", \"Topic8\", \"Topic8\", \"Topic8\", \"Topic8\", \"Topic8\", \"Topic8\", \"Topic8\", \"Topic8\", \"Topic8\", \"Topic8\", \"Topic8\", \"Topic8\", \"Topic8\", \"Topic8\", \"Topic8\", \"Topic8\", \"Topic8\", \"Topic8\", \"Topic8\", \"Topic8\", \"Topic8\", \"Topic8\", \"Topic8\", \"Topic8\", \"Topic8\", \"Topic8\", \"Topic8\", \"Topic8\", \"Topic8\", \"Topic8\", \"Topic8\", \"Topic8\", \"Topic8\", \"Topic8\", \"Topic8\", \"Topic8\", \"Topic9\", \"Topic9\", \"Topic9\", \"Topic9\", \"Topic9\", \"Topic9\", \"Topic9\", \"Topic9\", \"Topic9\", \"Topic9\", \"Topic9\", \"Topic9\", \"Topic9\", \"Topic9\", \"Topic9\", \"Topic9\", \"Topic9\", \"Topic9\", \"Topic9\", \"Topic9\", \"Topic9\", \"Topic9\", \"Topic9\", \"Topic9\", \"Topic9\", \"Topic9\", \"Topic9\", \"Topic9\", \"Topic9\", \"Topic9\", \"Topic9\", \"Topic9\", \"Topic9\", \"Topic9\", \"Topic9\", \"Topic9\", \"Topic9\", \"Topic9\", \"Topic9\", \"Topic9\", \"Topic9\", \"Topic9\", \"Topic9\", \"Topic9\", \"Topic9\", \"Topic9\", \"Topic9\", \"Topic9\", \"Topic9\", \"Topic9\", \"Topic9\", \"Topic9\", \"Topic9\", \"Topic9\", \"Topic9\", \"Topic9\", \"Topic9\", \"Topic9\", \"Topic9\", \"Topic9\"], \"logprob\": [30.0, 29.0, 28.0, 27.0, 26.0, 25.0, 24.0, 23.0, 22.0, 21.0, 20.0, 19.0, 18.0, 17.0, 16.0, 15.0, 14.0, 13.0, 12.0, 11.0, 10.0, 9.0, 8.0, 7.0, 6.0, 5.0, 4.0, 3.0, 2.0, 1.0, -4.536, -6.2702, -6.2258, -6.7536, -6.9116, -6.9467, -6.9093, -7.0379, -7.105, -6.6468, -7.1069, -7.1214, -7.2112, -7.2184, -7.0381, -7.2412, -7.2569, -7.2868, -7.3135, -7.3013, -7.3522, -7.3578, -7.383, -7.3877, -7.3937, -7.403, -7.4267, -7.4187, -7.4384, -7.4447, -5.2253, -5.4879, -3.2805, -5.8168, -5.822, -6.8141, -7.0312, -6.8143, -5.841, -7.2171, -5.6828, -6.0509, -4.0203, -4.6873, -3.3461, -5.9139, -4.4277, -4.1948, -3.3261, -5.6704, -6.6335, -5.5712, -5.0875, -5.0983, -5.0861, -6.0739, -5.0122, -5.0374, -5.3801, -5.4244, -4.571, -3.3415, -4.7474, -5.0603, -3.9364, -4.7997, -3.672, -5.0225, -4.4259, -4.7942, -4.9168, -3.8023, -5.2557, -5.0623, -4.8818, -4.9966, -4.9105, -4.7059, -5.0498, -5.0644, -4.2913, -4.9631, -5.7149, -5.1562, -5.7577, -6.0496, -5.8049, -5.8021, -4.0709, -6.391, -5.5668, -4.2068, -4.9191, -6.6934, -6.7067, -6.7028, -6.8123, -6.8369, -6.8588, -6.8463, -6.887, -5.774, -6.913, -6.883, -6.9247, -7.0122, -7.024, -7.0526, -7.0606, -4.4651, -3.5905, -3.7091, -6.0187, -6.2863, -6.3821, -5.7335, -6.5418, -6.6069, -4.8224, -4.7649, -4.4495, -5.2907, -5.2087, -6.4395, -6.2726, -5.8362, -5.5852, -4.4613, -4.9958, -4.2192, -5.4285, -4.8359, -3.3624, -3.5763, -3.9061, -4.853, -4.6064, -4.4852, -4.0333, -4.9605, -4.5113, -5.1943, -4.6807, -5.0875, -5.1165, -4.9436, -5.1218, -5.1324, -3.7727, -3.4741, -4.1724, -5.4849, -5.5451, -5.5889, -5.7404, -5.7149, -5.3833, -5.8835, -6.1864, -6.2375, -6.2175, -6.2885, -6.3616, -6.4115, -6.0502, -6.5276, -6.5599, -6.5961, -6.4037, -6.6317, -6.6466, -6.6504, -6.1538, -6.7576, -6.7528, -6.7489, -6.777, -6.7797, -5.7676, -6.3704, -6.6623, -5.2854, -5.3848, -2.5586, -5.1586, -4.6639, -5.3856, -5.9434, -6.052, -5.9069, -5.8572, -4.9915, -5.49, -5.6427, -4.5872, -4.9064, -5.9162, -4.9058, -4.5594, -5.3583, -4.3935, -4.6727, -4.2653, -4.8836, -5.3574, -5.1409, -4.3791, -4.2102, -4.6792, -4.3955, -5.0627, -4.925, -4.882, -5.0562, -5.1791, -5.1939, -5.3114, -5.302, -5.3328, -4.4646, -4.9988, -4.6446, -5.102, -2.0361, -4.5794, -4.5578, -5.6671, -6.0657, -6.2422, -5.8532, -6.3082, -6.3171, -6.3604, -5.0682, -6.4137, -6.3397, -6.3464, -6.7438, -6.7454, -6.8499, -6.8618, -6.8701, -6.8735, -6.8796, -6.445, -6.8989, -6.9079, -6.9141, -6.9602, -4.1064, -4.807, -4.9183, -5.3366, -6.0774, -4.7253, -5.1374, -5.9529, -6.5014, -4.3041, -5.6759, -5.8117, -4.6906, -5.0536, -5.2357, -5.2829, -4.5614, -5.3383, -4.0036, -4.8129, -4.6421, -4.5901, -4.7866, -5.4796, -3.6114, -4.1246, -4.0201, -4.2383, -4.8747, -5.0164, -5.0301, -5.0792, -4.8281, -5.9042, -5.9987, -5.9556, -6.0335, -4.1125, -6.114, -6.1275, -6.1319, -6.3443, -6.3872, -6.4537, -6.4182, -6.5257, -6.5253, -6.5998, -6.6104, -6.7053, -6.7356, -6.7408, -5.8564, -6.7611, -6.7695, -6.7856, -4.3768, -6.2665, -6.8372, -6.8384, -6.8525, -6.5319, -4.9005, -6.1751, -6.2748, -3.1894, -5.8157, -6.6381, -5.2305, -4.5336, -6.3055, -6.0689, -6.0013, -4.656, -4.7302, -4.1994, -5.7162, -3.761, -5.0745, -5.6628, -5.4542, -5.8966, -5.3933, -5.8012, -3.9736, -4.86, -5.5904, -4.0387, -5.3844, -4.027, -5.4015, -5.3826, -4.3727, -4.6714, -5.5874, -5.1097, -4.9949, -5.0413, -4.6948, -4.9758, -5.1848, -5.0315, -5.3097, -5.3574, -5.3543, -3.9465, -5.3412, -4.7366, -5.1236, -5.6807, -5.7825, -5.8717, -5.9305, -5.8744, -6.1276, -6.1444, -6.2264, -5.695, -6.2643, -6.3229, -6.3856, -6.2826, -6.0137, -6.5556, -6.5686, -6.5726, -6.5772, -6.6215, -6.6413, -6.6585, -6.6597, -6.6729, -6.6815, -6.6949, -6.697, -4.9056, -6.0239, -6.3055, -5.9624, -2.9631, -5.5718, -3.9303, -6.3136, -4.9523, -4.4927, -5.9295, -5.8422, -5.4037, -3.8019, -4.5122, -4.254, -5.6297, -4.0881, -5.9937, -5.6322, -4.9555, -3.7848, -4.8499, -4.151, -4.1276, -5.0334, -4.4279, -5.395, -5.1013, -5.5017, -4.651, -5.2104, -5.1979, -5.0397, -5.4205, -5.2114, -5.4314, -5.3699, -5.5569, -5.6148, -5.8914, -5.9102, -5.9628, -6.0895, -5.9123, -6.24, -6.2609, -6.2773, -6.2967, -6.3497, -6.5158, -6.5389, -6.5392, -5.535, -6.543, -6.5667, -6.6218, -6.6487, -6.6568, -6.6675, -6.6762, -6.6894, -5.6406, -6.7203, -5.5454, -6.6566, -6.7569, -6.7794, -4.2516, -6.1506, -4.9321, -6.1596, -5.4594, -5.3825, -5.2975, -4.2062, -6.4383, -6.1568, -2.5409, -5.7372, -4.5989, -4.1753, -4.5549, -5.4005, -5.3186, -5.5481, -5.4265, -5.6392, -4.7016, -3.5893, -4.246, -4.4389, -4.3056, -4.1452, -3.5495, -4.6328, -5.3948, -4.6737, -4.6494, -4.937, -4.7349, -4.9504, -4.828, -5.1448, -5.1216, -5.0066, -5.3301, -5.3913, -4.2878, -4.7078, -5.3397, -5.5029, -3.5656, -5.5859, -6.0338, -5.5862, -6.0753, -6.0834, -6.204, -5.774, -6.3505, -6.0931, -5.0453, -6.4406, -6.4553, -6.0287, -6.4742, -6.5609, -5.0868, -6.529, -6.6017, -6.6158, -6.6613, -6.681, -6.6943, -6.7642, -6.7828, -6.8271, -3.1604, -5.1093, -6.5962, -5.873, -5.865, -4.662, -4.4261, -6.3818, -4.3169, -5.1774, -4.9041, -4.9184, -5.4294, -4.8498, -5.5435, -4.7687, -5.2606, -4.8365, -5.132, -5.1936, -4.4277, -4.7889, -4.9071, -5.2344, -4.833, -4.9509, -3.6676, -4.4367, -4.2542, -5.0133, -4.4507, -4.8565, -5.0886, -4.966, -5.0946, -5.0519, -5.0877, -4.534, -4.7954, -5.1611, -3.9215, -5.3213, -4.8654, -5.5211, -5.5648, -5.5887, -5.6664, -5.6725, -5.1645, -5.9425, -5.9492, -5.9758, -5.9934, -6.0269, -6.069, -6.0912, -6.0897, -6.1054, -6.161, -6.1665, -6.2136, -6.2195, -5.671, -6.295, -6.2969, -6.2748, -4.0817, -2.7093, -4.2346, -4.7008, -5.2744, -4.4638, -5.592, -5.425, -5.3028, -4.9738, -5.247, -5.7272, -4.2269, -4.7239, -5.4151, -5.0587, -5.4227, -5.2207, -3.8509, -4.1659, -4.8937, -4.1433, -3.4947, -4.543, -5.2048, -4.9628, -5.1078, -5.3623, -4.8141, -5.0433, -5.2863], \"loglift\": [30.0, 29.0, 28.0, 27.0, 26.0, 25.0, 24.0, 23.0, 22.0, 21.0, 20.0, 19.0, 18.0, 17.0, 16.0, 15.0, 14.0, 13.0, 12.0, 11.0, 10.0, 9.0, 8.0, 7.0, 6.0, 5.0, 4.0, 3.0, 2.0, 1.0, 1.7356, 1.7345, 1.7344, 1.7338, 1.7335, 1.7334, 1.7333, 1.7329, 1.7329, 1.7329, 1.7329, 1.7328, 1.7325, 1.7325, 1.7325, 1.7324, 1.7324, 1.7322, 1.7322, 1.7321, 1.732, 1.732, 1.7319, 1.7318, 1.7318, 1.7318, 1.7317, 1.7316, 1.7316, 1.7316, 1.7309, 1.7299, 1.7046, 1.7294, 1.7269, 1.7313, 1.7315, 1.7268, 1.711, 1.7296, 1.6955, 1.7057, 1.6126, 1.6377, 1.5764, 1.6705, 1.5886, 1.575, 1.5077, 1.6372, 1.6923, 1.5797, 1.5124, 1.5127, 1.504, 1.6205, 1.4356, 1.439, 1.4882, 1.4861, 1.3197, 0.9155, 1.19, 1.2577, 0.7964, 1.0601, 0.4243, 1.1712, 0.7431, 0.9868, 1.0348, -0.0456, 1.2776, 0.9766, 0.7138, 0.8632, 0.6139, 0.1778, 0.8089, 0.7802, 1.9829, 1.9829, 1.9824, 1.9822, 1.9822, 1.982, 1.9818, 1.9815, 1.9814, 1.9814, 1.9813, 1.981, 1.9807, 1.9807, 1.9806, 1.9806, 1.9803, 1.9803, 1.9802, 1.9802, 1.9801, 1.9801, 1.98, 1.98, 1.9799, 1.9796, 1.9796, 1.9795, 1.9795, 1.9794, 1.9766, 1.9735, 1.9765, 1.9791, 1.979, 1.9718, 1.9785, 1.9784, 1.9494, 1.9411, 1.9234, 1.9439, 1.9326, 1.969, 1.9471, 1.8732, 1.8212, 1.5554, 1.6388, 1.3221, 1.6763, 1.4522, 0.3944, 0.52, 0.5866, 1.2085, 0.9893, 0.7907, 0.0998, 1.0051, 0.3723, 1.2483, 0.2538, 0.8958, 0.8127, -0.6866, 0.4334, 0.5717, 2.0117, 2.0117, 2.0117, 2.0111, 2.011, 2.011, 2.0109, 2.0107, 2.0104, 2.0104, 2.0102, 2.0102, 2.0101, 2.0101, 2.0099, 2.0098, 2.0096, 2.0096, 2.0094, 2.0094, 2.0093, 2.0093, 2.0093, 2.0092, 2.009, 2.0089, 2.0089, 2.0089, 2.0089, 2.0088, 2.0051, 2.0061, 2.0082, 1.9931, 1.9888, 1.8954, 1.9635, 1.9366, 1.96, 1.9677, 1.9645, 1.9311, 1.9155, 1.7086, 1.7482, 1.746, 1.1938, 1.337, 1.8256, 1.1994, 0.965, 1.4739, 0.7756, 0.8686, 0.4674, 0.969, 1.4221, 1.1355, -0.1221, -0.4535, 0.2553, -0.2992, 0.7972, 0.3986, 0.0016, 0.499, 0.6807, 0.6256, 1.2301, 0.7369, 0.966, 2.1414, 2.1411, 2.1411, 2.141, 2.1408, 2.1407, 2.1406, 2.1404, 2.14, 2.1396, 2.1396, 2.1396, 2.1395, 2.1394, 2.1393, 2.1391, 2.139, 2.1388, 2.1384, 2.1384, 2.138, 2.138, 2.1379, 2.1379, 2.1379, 2.1379, 2.1378, 2.1378, 2.1378, 2.1376, 2.1317, 2.1324, 2.1317, 2.1271, 2.1304, 2.1105, 2.1056, 2.1114, 2.1278, 2.0441, 2.0959, 2.0997, 2.0236, 2.0463, 2.0032, 1.9956, 1.8149, 1.9394, 1.6205, 1.7646, 1.646, 1.5325, 1.5992, 1.8813, 0.1453, 0.3681, 0.113, -0.142, 0.4489, 0.4515, 0.4131, 0.625, 2.2303, 2.2293, 2.2291, 2.2291, 2.229, 2.229, 2.2289, 2.2289, 2.2289, 2.2284, 2.2283, 2.2281, 2.228, 2.2279, 2.2279, 2.2277, 2.2277, 2.2274, 2.2272, 2.2272, 2.2272, 2.2272, 2.2271, 2.2271, 2.227, 2.227, 2.2269, 2.2268, 2.2268, 2.2267, 2.2183, 2.2248, 2.2253, 2.1894, 2.2148, 2.2255, 2.1874, 2.1629, 2.2164, 2.2083, 2.2053, 2.1059, 2.0954, 1.9866, 2.1442, 1.843, 1.9037, 2.016, 1.8769, 2.0339, 1.7598, 1.9334, 0.5192, 1.1812, 1.7555, 0.0576, 1.4223, -0.2702, 1.378, 1.3443, -0.1157, 0.2631, 1.6138, 0.7098, 0.3287, 0.4312, -0.5616, -0.243, 0.4311, -0.1977, -0.3872, 0.1977, -0.4707, 2.2949, 2.2946, 2.2945, 2.2943, 2.2942, 2.294, 2.2939, 2.2938, 2.2936, 2.2934, 2.2934, 2.2932, 2.2932, 2.2931, 2.2929, 2.2927, 2.2926, 2.2923, 2.2923, 2.2923, 2.2922, 2.2922, 2.2921, 2.292, 2.2919, 2.2919, 2.2919, 2.2919, 2.2918, 2.2918, 2.2844, 2.2908, 2.2886, 2.2827, 2.2197, 2.263, 2.2109, 2.2839, 2.2273, 2.1906, 2.2404, 2.2223, 2.1099, 1.6029, 1.7024, 1.4557, 2.0122, 1.1878, 2.149, 1.8919, 1.3326, -0.0281, 1.0028, 0.106, 0.0055, 1.0243, 0.0648, 1.3985, 0.8389, 1.5553, -0.5547, 0.8063, 0.7313, -0.1052, 1.0561, -0.4786, 0.9543, 0.1714, 2.2971, 2.297, 2.2966, 2.2966, 2.2965, 2.2963, 2.296, 2.2959, 2.2959, 2.2958, 2.2958, 2.2957, 2.2952, 2.2951, 2.2951, 2.2951, 2.2951, 2.295, 2.2948, 2.2947, 2.2947, 2.2946, 2.2946, 2.2946, 2.2945, 2.2945, 2.2944, 2.2944, 2.2943, 2.2942, 2.2829, 2.2941, 2.2777, 2.2864, 2.2652, 2.262, 2.2535, 2.0564, 2.2728, 2.2408, 1.5922, 2.1513, 1.9467, 1.8629, 1.8139, 2.0114, 1.9733, 2.0356, 1.9621, 2.0347, 1.603, 0.9034, 1.1972, 1.1851, 0.9703, 0.7384, 0.2072, 1.156, 1.7712, 0.7941, 0.7553, 0.9889, 0.5887, 0.6537, 0.1066, 0.7459, 0.4454, -0.9103, 0.6216, 0.3184, 2.5305, 2.53, 2.5298, 2.5295, 2.5294, 2.5294, 2.5286, 2.5286, 2.5285, 2.5285, 2.5281, 2.528, 2.5277, 2.5276, 2.5275, 2.5274, 2.5273, 2.5273, 2.5272, 2.5269, 2.5269, 2.5268, 2.5267, 2.5267, 2.5265, 2.5264, 2.5263, 2.5259, 2.5259, 2.5256, 2.5207, 2.5249, 2.5251, 2.5126, 2.5103, 2.477, 2.4659, 2.5199, 2.4177, 2.4285, 2.3447, 2.3335, 2.3461, 2.213, 2.3508, 2.1379, 2.2352, 2.0995, 2.192, 2.1609, 1.8157, 1.9135, 1.9443, 2.0189, 1.6786, 1.7327, 0.0891, 0.4979, -0.1579, 1.2236, -0.3176, -0.1238, 1.126, -0.709, 0.8889, -0.5592, 0.3849, 3.0594, 3.059, 3.0585, 3.0582, 3.0582, 3.0582, 3.0578, 3.0577, 3.0576, 3.0575, 3.0571, 3.057, 3.0565, 3.0565, 3.0564, 3.0564, 3.0562, 3.056, 3.056, 3.056, 3.0559, 3.0556, 3.0556, 3.0554, 3.0554, 3.0553, 3.055, 3.055, 3.0549, 3.0546, 3.0492, 3.0489, 3.0493, 3.0513, 3.042, 3.053, 3.0512, 3.0482, 3.0395, 3.0219, 3.0411, 2.9594, 2.9876, 2.9754, 2.9218, 2.9299, 2.8767, 2.4449, 2.4701, 2.4638, 1.7093, 0.7624, 1.1668, 2.358, 1.0948, 1.6191, 2.6548, -1.0573, -0.9471, 0.6539]}, \"token.table\": {\"Topic\": [4, 5, 3, 4, 6, 2, 4, 1, 2, 3, 9, 2, 5, 6, 7, 1, 2, 3, 4, 5, 6, 7, 8, 9, 3, 5, 2, 5, 6, 7, 9, 2, 6, 7, 9, 1, 1, 2, 3, 5, 8, 9, 1, 2, 3, 4, 5, 6, 7, 8, 9, 3, 2, 7, 8, 2, 6, 6, 1, 2, 3, 4, 7, 8, 7, 1, 2, 3, 6, 8, 1, 2, 8, 2, 4, 5, 6, 7, 5, 6, 7, 9, 4, 5, 6, 2, 3, 4, 5, 6, 7, 1, 2, 3, 4, 5, 6, 7, 8, 9, 2, 4, 5, 6, 7, 9, 2, 3, 9, 5, 6, 7, 4, 2, 3, 4, 5, 6, 7, 9, 5, 4, 7, 3, 7, 5, 1, 3, 5, 6, 7, 8, 1, 2, 3, 4, 5, 6, 7, 8, 9, 2, 6, 1, 2, 3, 4, 5, 6, 7, 8, 9, 2, 3, 8, 9, 3, 6, 7, 4, 5, 7, 4, 8, 3, 8, 1, 2, 3, 4, 5, 6, 7, 8, 3, 2, 3, 8, 1, 9, 4, 5, 6, 2, 5, 6, 3, 2, 4, 5, 6, 7, 8, 1, 3, 5, 6, 8, 1, 2, 3, 6, 7, 8, 4, 6, 7, 2, 4, 6, 8, 1, 2, 3, 4, 5, 6, 7, 8, 9, 3, 2, 9, 1, 2, 6, 7, 9, 9, 1, 5, 1, 2, 3, 4, 5, 6, 7, 8, 9, 6, 1, 2, 3, 8, 8, 5, 6, 7, 1, 2, 3, 5, 6, 8, 2, 3, 8, 9, 2, 1, 2, 3, 6, 1, 2, 4, 6, 7, 8, 8, 5, 7, 2, 6, 7, 9, 9, 3, 6, 7, 8, 5, 6, 9, 4, 7, 4, 1, 2, 3, 5, 6, 7, 8, 9, 1, 2, 3, 4, 5, 6, 7, 8, 9, 7, 1, 2, 3, 4, 5, 6, 7, 8, 9, 7, 7, 1, 2, 3, 5, 6, 9, 6, 9, 3, 4, 5, 6, 8, 2, 6, 8, 1, 2, 6, 8, 1, 2, 3, 5, 6, 8, 9, 1, 2, 3, 4, 5, 6, 8, 2, 5, 1, 6, 2, 4, 5, 6, 7, 8, 9, 4, 5, 7, 4, 2, 7, 2, 2, 2, 6, 5, 3, 5, 8, 4, 5, 7, 2, 1, 3, 4, 5, 6, 7, 9, 1, 2, 4, 5, 6, 7, 8, 1, 1, 2, 4, 6, 8, 9, 1, 2, 3, 4, 5, 6, 7, 8, 4, 7, 1, 2, 3, 4, 5, 6, 7, 8, 1, 4, 9, 4, 2, 3, 7, 1, 2, 3, 5, 6, 7, 9, 1, 1, 2, 3, 4, 5, 6, 7, 8, 9, 6, 3, 6, 7, 3, 6, 8, 2, 9, 3, 4, 7, 1, 2, 4, 5, 8, 9, 2, 6, 4, 5, 6, 7, 9, 3, 4, 5, 6, 7, 4, 7, 1, 2, 3, 4, 5, 6, 7, 8, 9, 3, 8, 5, 8, 1, 9, 3, 5, 6, 7, 5, 6, 4, 7, 2, 1, 2, 6, 1, 2, 4, 5, 6, 7, 8, 9, 1, 2, 3, 4, 5, 6, 7, 8, 9, 1, 2, 3, 7, 9, 6, 9, 6, 9, 4, 3, 7, 1, 2, 3, 4, 5, 6, 7, 8, 9, 2, 9, 2, 9, 7, 8, 9, 5, 9, 1, 2, 3, 4, 5, 6, 7, 8, 9, 1, 2, 6, 9, 1, 2, 3, 5, 6, 7, 9, 1, 2, 3, 4, 5, 6, 7, 8, 9, 4, 7, 1, 2, 3, 4, 5, 6, 7, 8, 9, 1, 5, 6, 6, 2, 3, 5, 6, 7, 9, 1, 7, 4, 7, 1, 1, 1, 3, 4, 7, 8, 5, 1, 4, 5, 6, 8, 1, 2, 6, 2, 6, 8, 9, 1, 2, 3, 4, 5, 6, 7, 8, 9, 1, 3, 9, 5, 5, 9, 8, 1, 2, 3, 4, 5, 6, 7, 8, 9, 1, 4, 5, 6, 7, 8, 9, 4, 4, 1, 2, 3, 4, 5, 6, 7, 8, 9, 2, 3, 4, 5, 7, 8, 1, 8, 5, 3, 6, 5, 1, 2, 3, 4, 5, 6, 7, 8, 9, 1, 2, 3, 5, 6, 7, 8, 9, 2, 1, 5, 6, 7, 8, 9, 8, 9, 6, 1, 2, 3, 4, 5, 6, 7, 8, 9, 4, 5, 6, 7, 8, 2, 3, 6, 8, 1, 2, 5, 6, 7, 8, 9, 7, 4, 1, 2, 3, 4, 5, 6, 7, 9, 9, 1, 2, 3, 5, 6, 7, 8, 9, 4, 5, 1, 7, 1, 2, 3, 4, 5, 6, 7, 8, 9, 5, 6, 1, 2, 3, 6, 8, 3, 5, 6, 9, 4, 7, 8, 1, 4, 7, 1, 2, 1, 2, 3, 5, 6, 7, 8, 9, 1, 2, 3, 4, 5, 6, 7, 8, 3, 6, 5, 1, 2, 3, 4, 5, 6, 7, 8, 9, 8, 9, 1, 2, 3, 4, 6, 7, 9, 5, 6, 7, 7, 5, 6, 7, 9, 1, 2, 3, 4, 5, 6, 7, 8, 9, 1, 2, 3, 4, 5, 6, 7, 8, 9, 3, 1, 2, 3, 4, 5, 6, 7, 8, 9, 6, 1, 2, 3, 4, 5, 6, 7, 8, 9, 2, 4, 5, 8, 1, 6, 8, 4, 5, 6, 9, 1, 1, 2, 3, 4, 5, 6, 7, 8, 9, 2, 4, 6, 8, 5, 7, 1, 2, 3, 5, 6, 8, 9, 1, 2, 3, 6, 8, 8, 2, 5, 1, 3, 4, 5, 7, 7, 2, 4, 2, 1, 2, 3, 4, 5, 6, 7, 8, 9, 4, 6, 7, 9, 9, 7, 8, 3, 5, 6, 7, 9, 9, 1, 2, 3, 4, 5, 6, 7, 8, 9, 1, 6, 1, 3, 4, 5, 7, 8, 4, 5, 7, 5, 8, 1, 2, 3, 4, 5, 6, 7, 8, 9, 4, 6, 8, 1, 2, 1, 2, 3, 4, 5, 6, 7, 8, 9, 1, 2, 3, 4, 5, 6, 7, 8, 9, 1, 2, 3, 4, 5, 6, 7, 8, 2, 8, 1, 2, 4, 6, 1, 2, 5, 6, 7, 8, 1, 6, 1, 3, 6, 1, 4, 5, 8, 9, 1, 2, 3, 5, 6, 8, 9, 1, 2, 3, 4, 5, 6, 7, 8, 9, 8, 2, 3, 4, 6, 7, 9, 3, 1, 2, 3, 4, 5, 6, 7, 8, 9, 1, 2, 3, 4, 5, 6, 7, 8, 9, 1, 2, 5, 6, 7, 8, 9, 4, 2, 6, 7, 2, 8, 9, 2, 8, 7, 7, 9, 1, 2, 3, 4, 5, 6, 7, 8, 3, 1, 2, 3, 4, 5, 7, 8, 1, 2, 3, 5, 6, 7, 8, 9, 5, 9, 4, 8, 9, 2, 9, 4, 7, 2, 2, 8, 8, 1, 2, 3, 5, 6, 8, 3, 6, 8, 1, 2, 3, 4, 5, 6, 8, 9, 4, 1, 2, 6, 4, 9, 2, 3, 1, 2, 3, 4, 5, 6, 7, 8, 9, 5, 1, 3, 4, 5, 8, 1, 2, 3, 4, 5, 6, 7, 8, 9, 1, 2, 3, 4, 5, 6, 7, 8, 9, 1, 4, 6, 9, 2, 3, 6, 8, 9, 9, 1, 8, 7, 3, 1, 2, 3, 4, 5, 6, 7, 8, 9, 6, 1, 5, 5, 1, 2, 3, 4, 5, 6, 7, 8, 9, 8, 9, 5, 2, 3, 6, 8, 4, 5, 7, 3, 1, 2, 3, 5, 6, 7, 8, 9, 6, 1, 2, 3, 4, 5, 6, 7, 8, 9, 2, 6, 1, 2, 4, 5, 6, 8, 9, 1, 5, 3, 2, 3, 6, 8, 1, 2, 3, 4, 6, 7, 9, 5, 4, 3, 6, 4, 6, 7, 2, 3, 6, 8, 2, 3, 5, 1, 2, 5, 6, 8, 9, 1, 2, 6, 7, 3, 2, 8, 2, 4, 9, 1, 6, 3, 9, 5, 7, 1, 2, 5, 6, 7, 8, 9, 4, 1, 9, 1, 5, 6, 9, 2, 1, 4, 7, 8, 9, 6, 1, 3, 1, 1, 3, 4, 5, 7, 9, 1, 5, 2, 7, 1, 2, 3, 4, 5, 6, 7, 8, 9, 5, 2, 3, 6, 8, 9, 3, 5, 1, 1, 2, 3, 4, 5, 6, 7, 8, 9, 2, 4, 5, 6, 7, 8, 1, 2, 5, 6, 7, 8, 1, 5, 6, 7, 1, 2, 6, 8, 9, 3, 8, 2, 4, 5, 6, 7, 8, 3, 6, 7, 8, 9, 7, 5, 2, 5, 6, 7, 8, 9, 1, 2, 5, 6, 7, 8, 1, 7, 2, 3, 9, 5, 3, 8, 4, 7, 5, 7, 9, 2, 8, 5, 5, 6, 7, 2, 2, 3, 4, 5, 6, 7, 9, 3, 1, 2, 3, 4, 5, 6, 7, 8, 9, 6, 2, 5, 6, 7, 7, 2, 4, 5, 6, 7, 9, 1, 2, 3, 4, 5, 6, 7, 8, 9, 4, 9, 6, 7, 1, 2, 4, 5, 6, 7, 8, 9, 6, 4, 6, 2, 3, 4, 5, 6, 7, 8, 9, 6, 7, 9, 7, 2, 5, 6, 7, 3, 8, 5, 2, 1, 5, 1, 2, 3, 4, 5, 6, 7, 8, 9, 1, 2, 3, 4, 5, 6, 7, 8, 9, 5, 7, 9, 7, 6, 2, 5, 6, 7, 8, 1, 2, 3, 4, 5, 6, 7, 8, 9, 8, 1, 2, 3, 4, 5, 6, 7, 8, 9, 2, 1, 2, 3, 4, 5, 6, 7, 8, 9, 1, 4, 5, 6, 9, 7, 8, 9, 2, 3, 5, 6, 7, 8, 3, 3, 6, 3, 5, 9, 2, 3, 7, 9, 6, 9, 4, 8, 2, 3, 6, 8, 3, 5, 6, 4, 7, 1, 2, 3, 4, 5, 6, 7, 8, 6, 3, 6, 8, 9, 1, 4, 1, 2, 6, 4, 6, 9, 4, 5, 1, 3, 4, 5, 6, 7, 8, 9, 4, 5, 7, 8, 1, 2, 3, 4, 5, 6, 7, 8, 9, 1, 2, 3, 5, 6, 1, 2, 3, 4, 5, 6, 7, 8, 9, 3, 2, 3, 9, 9, 1, 2, 3, 4, 5, 6, 7, 8, 9, 1, 1, 7, 3, 9, 1, 2, 3, 4, 5, 6, 7, 8, 1, 2, 3, 4, 5, 6, 7, 8, 9, 2, 5, 1, 6, 1, 2, 3, 4, 5, 6, 7, 8, 9, 2, 9, 1, 3, 6, 4], \"Freq\": [0.98658370257371, 0.011179418726047706, 0.9981341805850087, 0.0020231813932615494, 0.9974284268779439, 0.9948716019561941, 0.9958910393556314, 0.0015487184603375766, 0.0038717961508439413, 0.9493644161869345, 0.04491283534978972, 0.7085888829932134, 0.006465921100850578, 0.28297913523722534, 0.0019017415002501703, 0.9690337168497459, 0.0035078143596370894, 0.0013885098506896813, 0.016077482481669993, 0.002411622372250499, 0.0012423509190381359, 0.0008038741240834997, 0.0016077482481669993, 0.003946291154591725, 0.9976279566510498, 0.0017533004510563264, 0.009058741820418442, 0.21676275070286988, 0.18246894238271436, 0.5901123243015443, 0.001294105974345492, 0.0014678290775947994, 0.2656770630446587, 0.7229058207154387, 0.010274803543163596, 0.9969396069525559, 0.002205447482878492, 0.004410894965756984, 0.9273906665504058, 0.00036757458047974865, 0.05844435829628004, 0.006616342448635476, 0.6594415954179649, 0.08839554280684891, 0.003796127605202101, 0.014099902533607803, 0.009580703003605301, 0.0014461438496008003, 0.21167930598531715, 0.0021692157744012002, 0.009399935022405203, 0.9982265879597941, 0.003100071243027195, 0.00206671416201813, 0.9940895119307205, 0.0005133258028932425, 0.9994453382331431, 0.9987566429249128, 0.00025584007147926783, 0.004349281215147553, 0.0015350404288756072, 0.9901010766247667, 0.0007675202144378036, 0.0030700808577512144, 0.9985736207369733, 0.015757148474117542, 0.001750794274901949, 0.2526979736775146, 0.001167196183267966, 0.7277468202675768, 0.0026751563487576653, 0.9951581617378514, 0.9948205528613394, 0.07936870865116354, 0.003052642640429367, 0.7021078072987543, 0.183158558425762, 0.03205274772450835, 0.9173845850574549, 0.07904019730014794, 0.0025914818786933755, 0.0012957409393466878, 0.053700180754897284, 0.742662074269856, 0.20337515264620673, 0.169166108708006, 0.829719485567839, 0.6857091351972597, 0.027299054099000384, 0.02047429057425029, 0.26580657938500374, 0.0011662206587266504, 0.011370651422584841, 0.0002915551646816626, 0.24140767635641663, 0.08659188391045379, 0.012536872081311492, 0.616056062972353, 0.001457775823408313, 0.0288639613034846, 0.0002855907871438427, 0.9070363399688444, 0.001713544722863056, 0.0002855907871438427, 0.08396369142028974, 0.006854178891452224, 0.004641442004976551, 0.004641442004976551, 0.9886271470600055, 0.005495568179893246, 0.8307467231938623, 0.16303518933683298, 0.9973070313722588, 0.011753899668431267, 0.14966632244469147, 0.27504125224129167, 0.0015671866224575024, 0.009403119734745013, 0.0015671866224575024, 0.550866097793812, 0.9951376983042182, 0.9988784102586746, 0.0008286009209943382, 0.9985697387536402, 0.0008125058899541418, 0.9971461943088838, 0.19306440690786822, 0.012628112149948613, 0.7831858016073899, 0.0031570280374871532, 0.004856966211518697, 0.002914179726911218, 0.7930535529706528, 0.04110782178242375, 0.00036378603347277653, 0.03201317094560434, 0.006911934635982754, 0.0036378603347277656, 0.08803622010041193, 0.028739096644349347, 0.006548148602509978, 0.996392290698126, 0.9982337977092136, 0.09031723333174987, 0.07493972481896613, 0.1991899936022588, 0.18401751853631218, 0.1492643492974209, 0.06274023473215769, 0.18094201683375544, 0.05474393030551014, 0.003793118766486658, 0.958763828957492, 0.0012255183156678637, 0.033906006733477566, 0.005719085473116697, 0.996924681365305, 0.9883646262271771, 0.008123544873100087, 0.9090466707556324, 0.0006056273622622468, 0.08963284961481252, 0.9991510566682066, 0.9947602162490229, 0.015335273356870911, 0.9814574948397383, 0.8553493397458584, 0.029956347964273725, 0.0012747382112456905, 0.0019121073168685357, 0.0803085073084785, 0.01720896585181682, 0.0038242146337370713, 0.010835274795588368, 0.9988787668099516, 0.997508166906092, 0.0002432946748551444, 0.001946357398841155, 0.9982697037398133, 0.9960350257318292, 0.3653702149973086, 0.6240676574342141, 0.009581386756922428, 0.27724418603832773, 0.720727632563854, 0.0016087670369728884, 0.9972914988505337, 0.6517702966391782, 0.00020502368563673424, 0.10989269550128955, 0.22552605420040767, 0.009431089539289774, 0.0028703315989142796, 0.7788216463723701, 0.15536339148998374, 0.06214535659599349, 0.0010023444612257014, 0.0020046889224514027, 0.1961716880869455, 0.0007497007188036134, 0.00024990023960120444, 0.552529429758263, 0.004998004792024089, 0.24540203528838278, 0.9984445192093494, 0.1345892281776702, 0.8635031669220821, 0.9974824294359689, 0.0009481772142927461, 0.0009481772142927461, 0.9977633223573856, 0.6198939419606221, 0.14409693778253171, 0.0665062789765531, 0.011084379829425518, 0.06068697956610471, 0.02937360654797762, 0.0379640009157824, 0.020783212180172844, 0.00942172285501169, 0.9996109402942909, 0.006190579685874327, 0.9904927497398922, 0.0028301902201756696, 0.9959124919218162, 0.0006289311600390377, 0.0109163901531426, 0.9882971885311768, 0.9967568823432513, 0.9966496269728282, 0.0031943898300411163, 0.5685294964605662, 0.0234949770384048, 0.11527223109467355, 0.059471660628462146, 0.1404803835421287, 0.05017156555076025, 0.0044053081947009, 0.0376898589991077, 0.0004894786883001, 0.99839083516034, 0.0007987917140756918, 0.5483705117129624, 0.0003993958570378459, 0.45011913088165234, 0.9925173086028373, 0.06493184396526329, 0.9339691495609588, 0.0006558772117703362, 0.04154302044225224, 0.004747773764828827, 0.9080117325235132, 0.0011869434412072068, 0.04154302044225224, 0.0023738868824144136, 0.0010287586823047726, 0.5092355477408624, 0.4889175637653432, 0.0005143793411523863, 0.9981623537716713, 0.009541354571918634, 0.9900990244244798, 0.00014679007033720977, 0.00014679007033720977, 0.0014247651133950817, 0.004363343159772438, 0.0006233347371103483, 0.926987801902675, 0.05405202648942591, 0.01264479038138135, 0.996605353761684, 0.02123538087382545, 0.9737938943568528, 0.22837035087964938, 0.0024822864226048845, 0.7504779284342101, 0.019030862573304115, 0.994214461754406, 0.9986442027679991, 0.988895503066726, 0.00994197891823116, 0.0006627985945487439, 0.9979795472982099, 0.0014183904879167281, 0.00028367809758334564, 0.9990315681290677, 0.0009444181463553465, 0.9970648939235821, 0.0013810823191767552, 0.005984690049765939, 0.0004603607730589184, 0.8733043864927682, 0.005524329276707021, 0.10312081316519772, 0.002301803865294592, 0.008286493915060531, 0.08006595300606885, 0.008122632913659158, 0.00754244484839779, 0.02262733454519337, 0.13344325501011475, 0.47691458964484484, 0.25818368904130895, 0.012183949370488736, 0.0011603761305227368, 0.9951359163294385, 0.6323744655969518, 0.027838223757257117, 0.07629735400137136, 0.05842590171276185, 0.005498908396495233, 0.05533276573973328, 0.040554449424152345, 0.00996677146864761, 0.09382512451519992, 0.9975272876242741, 0.9946954571287479, 0.9369450329377554, 0.0009831532349819049, 0.032444056754402865, 0.0019663064699638098, 0.010814685584800955, 0.016713604994692384, 0.9969499339859164, 0.996055016071187, 0.07439093567635306, 0.13939923081694988, 0.5395018308059839, 0.002010565829090623, 0.24461884253935917, 0.000971877178547206, 0.001943754357094412, 0.9961741080108861, 0.001465662737274705, 0.008500843876193289, 0.000293132547454941, 0.9896154802078808, 0.0008916864357629306, 0.42711780273044375, 0.09407291897298917, 0.0004458432178814653, 0.4079465443615407, 0.06108052084976074, 0.00847102113974784, 0.7802277049774092, 0.003843486231415809, 0.05044575678733249, 0.07062405950226548, 0.0864784402068557, 0.006245665126050689, 0.0014413073367809284, 0.9996786177069844, 0.9980042033544699, 0.9963806700939504, 0.9981684779640283, 0.0883810803131165, 0.1099544148777355, 0.0010438710273202737, 0.005915269154814884, 0.7035690724138645, 0.08907699433133003, 0.0020877420546405474, 0.9584705554515079, 0.0013634005056209217, 0.03953861466300673, 0.9981176011781867, 0.0023240943859844016, 0.9947123972013239, 0.9979396418466883, 0.9994834101482867, 0.9971514849185835, 0.0024792428764758415, 0.9975919655666106, 0.012554302551659938, 0.9867681805604711, 0.9968024761132339, 0.8887301770139593, 0.0008236609610880067, 0.1103705687857929, 0.9976018362594874, 0.9600464777114469, 0.0016000774628524114, 0.00960046477711447, 0.0008000387314262057, 0.0016000774628524114, 0.0016000774628524114, 0.024001161942786172, 0.0018826692586687327, 0.0002689527512383904, 0.6091779815549543, 0.0002689527512383904, 0.38164395400727597, 0.0064548660297213695, 0.0002689527512383904, 0.997944100839634, 0.9057002683684537, 0.08647014907879888, 0.0014908646392896357, 0.0037271615982240893, 0.0007454323196448179, 0.0014908646392896357, 0.7994201293044442, 0.032696871097470374, 0.002571664018902164, 0.06833278678797179, 0.053637563822816564, 0.010286656075608656, 0.011021417223866417, 0.021675453873603954, 0.9856092213449509, 0.013943189691882595, 0.09467414698889808, 0.31013296960053716, 0.008265203308554594, 0.07626528507439012, 0.05428735809482449, 0.20925992013022313, 0.10462996006511156, 0.14238691154282687, 0.9946549949027672, 0.0005246070648221346, 0.004196856518577077, 0.9971151241400975, 0.9961544070779768, 0.05321035943820174, 0.9444838800280808, 0.0010872765163701117, 0.38571134418229713, 0.3514621339166386, 0.0005436382581850558, 0.10084489689332786, 0.15656781835729608, 0.003805467807295391, 0.9937089401920268, 0.13728658268675453, 0.09549661221373533, 0.10039387437854226, 0.16128316729430855, 0.06611303922489369, 0.06497034471977206, 0.3191382510732522, 0.04162672840085899, 0.013875576133619663, 0.9982739748066212, 0.9943867222498058, 0.002171150048580362, 0.002171150048580362, 0.04598042722234312, 0.005668819794535453, 0.9473227745534802, 0.010581876956194936, 0.9883473077086071, 0.9998592397881133, 0.9707497128310866, 0.028598191212699766, 0.9757189325706559, 0.0038076836393001207, 0.017134576376850542, 0.0028557627294750905, 0.0009519209098250302, 0.9978637799422365, 0.9952202768408435, 0.0025068520827225276, 0.1180580705450213, 0.6784946583047202, 0.008820430557961362, 0.19309957975352335, 0.0014926882482703843, 0.0007862787548639803, 0.7705531797667007, 0.0518943978210227, 0.002358836264591941, 0.17376760482493964, 0.9971793149150505, 0.9956659588357015, 0.13169375788130358, 0.10888535101933082, 0.21142401491185184, 0.11324869841901256, 0.18762393818631504, 0.016065051789737335, 0.0005950019181384197, 0.19357395736769922, 0.03669178495186922, 0.997989269919923, 0.0015815994768936972, 0.9951904033905649, 0.9987689812628285, 0.994435162668827, 0.0038395180025823437, 0.0022128211908922298, 0.9961383394333186, 0.0011064105954461149, 0.9962910340163301, 0.9934173369378944, 0.004444820299498409, 0.9991610787101004, 0.9979282394935707, 0.9972721780893645, 0.9575220450956413, 0.03920887684658876, 0.9983514003515394, 0.28056794184067935, 0.1883229263538986, 0.03730684836861492, 0.03168526847745377, 0.07512474945460813, 0.09991080624745502, 0.2706024138518027, 0.01635368695610517, 0.058237483673141875, 0.1752902038336433, 0.05939298930157723, 0.17748566452767048, 0.034780719415904174, 0.06690377588640703, 0.33255451986369505, 0.09532921434591676, 0.9954329971414426, 0.002373968348519502, 0.002373968348519502, 0.9935057538554116, 0.001186984174259751, 0.001186984174259751, 0.007195909807512599, 0.9906369168342344, 0.0016112674434313602, 0.9979116366318225, 0.997388824664799, 0.997061273216588, 0.9969291282114797, 0.0013716040496670652, 0.1520298397778699, 0.0002493825544849209, 0.13151812467148516, 0.0612545899453587, 0.1012493171208779, 0.49359042096427974, 0.05791909827912289, 0.0008416661213866082, 0.9969004460638035, 0.9968892458361556, 0.9507145133232774, 0.04924019391714186, 0.0021196865300051543, 0.11870244568028865, 0.877550223422134, 0.9966574816424568, 0.9947060919252041, 0.029948384257304186, 0.054697694633498176, 0.8899869198300453, 4.29675527364479e-05, 0.000859351054728958, 0.004812365906482164, 0.0006445132910467185, 0.016327670039850202, 0.0026639882696597697, 0.0029223016394231455, 0.11835321639663739, 0.0073057540985578635, 0.8708458885480974, 0.0007240826577132722, 0.0007240826577132722, 0.9811320012014838, 0.0007240826577132722, 0.0021722479731398165, 0.013757570496552171, 0.9952773536819415, 0.3598418669542061, 0.37006923490054855, 0.08033866663113727, 0.02072387715443072, 0.0332389458256129, 0.08329922051034165, 0.015475622550386576, 0.0029605538792043884, 0.03418094024172339, 0.9898745911895706, 0.009218855331218351, 0.3843907349065593, 0.137393365507688, 0.005695956107730784, 0.12030549718449565, 0.11892465934019728, 0.06075686514912836, 0.026581128502743658, 0.12703708167545022, 0.01864131089802802, 0.14174941294331625, 0.8213127749950971, 0.036132203299276695, 0.9962898377694839, 0.012771267032579288, 0.0006966145654134157, 0.05271050211628178, 0.9188346117802952, 0.010913628191476845, 0.003947482537342689, 0.9968027081710389, 0.9950202160395094, 0.9953867013550093, 0.0026685970545710703, 0.9976181859079762, 0.9968171672255641, 0.799762654115448, 0.0003714643075315597, 0.033060323370308814, 0.01448710799373083, 0.15230036608793948, 0.9993713138922042, 0.03329761340851924, 0.0008324403352129811, 0.9573063854949283, 0.006659522681703849, 0.0016648806704259622, 0.004447945199596833, 0.9933744279099593, 0.001482648399865611, 0.8957817403409225, 0.0022283127869177177, 0.024511440656094896, 0.07687679114866126, 0.16835801635445635, 0.20410922302980222, 0.08495992920873634, 0.13581607419215772, 0.08198601075997926, 0.09792535784144704, 0.12355668375231738, 0.0869924634003329, 0.016281668629526153, 0.9971666033725618, 0.7663866442105326, 0.23282632229180736, 0.9971638324869028, 0.016061585285849445, 0.979756702436816, 0.9972101794974398, 0.26935652588560394, 0.23143929937499244, 0.09914964143028367, 0.10191381325197642, 0.11381177022361047, 0.05783729083433214, 0.04041099021931258, 0.06796257239857625, 0.018177434262218673, 0.0014662961196215722, 0.14746749545908383, 0.11332374295932436, 0.00020947087423165317, 0.6470555305015766, 0.004817830107328023, 0.08546411668651449, 0.9978387513445717, 0.9969602804494203, 0.8630007907117426, 0.013116136453467472, 0.00020493963208542926, 0.0004098792641708585, 0.07316344865449824, 0.001639517056683434, 0.001639517056683434, 0.04652129648339244, 0.00020493963208542926, 0.0013977795460185314, 0.03145003978541696, 0.9644678867527867, 0.0006988897730092657, 0.0013977795460185314, 0.997730918026282, 0.9978538000156183, 0.994933303642817, 0.9979089040088437, 0.000565431278898553, 0.9991170698137432, 0.9979284768757423, 0.5086034929590116, 0.03189725558874573, 0.2967145808337721, 0.0569593849799031, 0.01875278213184502, 0.01875278213184502, 0.009288761242876505, 0.04626854656829051, 0.012793954164716695, 0.0001274495126663362, 0.5161705262986616, 0.3187512311785068, 0.0008921465886643533, 0.11954764288102333, 0.0010195961013306895, 0.0015293941519960341, 0.0419308896672246, 0.99699180762755, 0.058521533625716125, 0.1184532246881965, 0.001410157436764244, 0.000705078718382122, 0.82071162819679, 0.9981573625510523, 0.019626187984843783, 0.9797996924741244, 0.9974464412898217, 0.146045842932981, 0.22258222095897753, 0.1479450086408221, 0.03950264672309499, 0.08337337457422452, 0.2330276323521036, 0.019941239932331604, 0.017282407941354057, 0.0902103711224525, 0.12206570791615148, 0.05982028070063053, 0.0800298349913841, 0.7146098397210457, 0.022634700805643986, 0.13568796720886564, 0.015473189243116256, 0.017853679895903373, 0.8307912378227036, 0.0003808619701011199, 0.21175925537622264, 0.19728650051238011, 0.003427757730910079, 0.02704119987717951, 0.005712929551516799, 0.5541541664971295, 0.9990570242912032, 0.9959913155507966, 0.0013188249154763487, 0.0030772581361114804, 0.5543460728052253, 0.0004396083051587829, 0.4259804476988607, 0.004835691356746612, 0.00923177440833444, 0.9967223310346851, 0.9962755346508418, 0.0017399727723825698, 0.10265839357057162, 0.35234448640747035, 0.0019139700496208266, 0.2745677034819695, 0.0013919782179060557, 0.006437899257815508, 0.2589079485305264, 0.8706738570466285, 0.128756725462531, 0.9956201872248317, 0.9948465702871093, 0.9064742926585333, 0.04549116678058526, 0.008372607382929803, 0.0005581738255286535, 0.013396171812687685, 0.006139912080815189, 0.002232695302114614, 0.014233432550980665, 0.0027908691276432676, 0.996613105860162, 0.9971719670367534, 0.01742518776477151, 0.10857232376511479, 0.03350997647071444, 0.004021197176485733, 0.8350686136502039, 0.00040457519087498195, 0.9341641157303334, 0.019419609161999134, 0.046121571759747945, 0.9987960732307238, 0.0008107110984015616, 0.9978214683721164, 0.9953295804028348, 0.9993113047812654, 0.00044236888215195457, 0.0021379831438682866, 0.9963001450426217, 0.034841910660045404, 0.4793116898908949, 0.009416732610823082, 0.053047593707636696, 0.20308753330675114, 0.03358634631193566, 0.18362628591105012, 0.002825019783246925, 0.05878064003915712, 0.2390196191647494, 0.07534314082367101, 0.10684436780598172, 0.07306985640226714, 0.28968138627032125, 0.11366422107019332, 0.04351715892401687, 0.9967532666443554, 0.9987115748811687, 0.9950291189663276, 0.4678860527116607, 0.019495252196319195, 0.2794319481472418, 0.09852439282010776, 0.08406017344864514, 0.0029347691478329974, 0.016350856680783843, 0.02662254869819933, 0.004402153721749496, 0.00138026856307595, 0.9979341711039119, 0.0009621866993242155, 0.0009621866993242155, 0.05292026846283185, 0.047147148266886554, 0.009621866993242155, 0.3925721733242799, 0.49552615015197093, 0.9875411661251002, 0.004937705830625501, 0.007406558745938252, 0.9954051582562513, 0.002262451609908621, 0.0011312258049543105, 0.9671980632359355, 0.028280645123857764, 0.0226904487614196, 0.0669908487241912, 0.016207463401014, 0.0075634829204732, 0.8071316773704972, 0.0064829853604056005, 0.0010804975600676, 0.010804975600676, 0.061588360923853204, 0.07989717822522752, 0.17737173566000508, 0.1726473807736438, 0.09115225898391174, 0.13978532399057197, 0.09066592833384514, 0.11171709790101378, 0.1308924206750684, 0.0059054436079515995, 0.9981047518519406, 0.8512735390294413, 0.023063666908793894, 0.01697742147452884, 0.005765916727198474, 0.06999182249404813, 0.0012813148282663275, 0.002562629656532655, 0.028188926221859204, 0.0011211504747330365, 0.9976310489968122, 0.2104882512436971, 0.1996601228861167, 0.13396507583860146, 0.0818051892380617, 0.06708157567866883, 0.028192748833456294, 0.21015812537913672, 0.057706001125154095, 0.010960178703404554, 0.0009301556997391609, 0.9692222391282057, 0.026974515292435667, 0.0023253892493479023, 0.9904124867582229, 0.002559205392140111, 0.002559205392140111, 0.9975558701033748, 0.0006744799662632689, 0.0006744799662632689, 0.0013489599325265378, 0.9961699147125245, 0.22347223558418844, 0.14998399895556708, 0.11663969230023177, 0.12840827111976189, 0.05531232045179152, 0.07113452086471533, 0.1567836222735178, 0.07950328802527008, 0.01856820213748084, 0.05561758265118446, 0.003178147580067683, 0.9296081671697973, 0.011123516530236893, 0.9985758980589357, 0.9981146851926155, 0.00033630892612748726, 0.3198297887472404, 0.2320531590279662, 0.0010089267783824616, 0.014797592749609439, 0.4264397183296538, 0.005717251744167283, 0.0025705072832609634, 0.003598710196565349, 0.3367364541071862, 0.007197420393130698, 0.6493101397517194, 0.9946438430078087, 0.9958093154163533, 0.9957462919705974, 0.023894030492473066, 0.11078141410146604, 0.8638054053794051, 0.0007240615300749414, 0.0007240615300749414, 0.9971032941932361, 0.9983071243313794, 0.0011998883705906002, 0.9963686112036252, 0.0013574791358476298, 0.029562878958459493, 0.0003016620301883622, 0.036651936667886006, 0.13544625155457463, 0.43182919621464044, 0.13816120982626987, 0.07616966262256145, 0.15052935306399273, 0.9962473784705695, 0.042793603751899945, 0.9566747860980298, 0.0009509689722644432, 0.9958681071141431, 0.9982740530621279, 0.9969773115337545, 0.26011149845203524, 0.042580529995706835, 0.6683291881934855, 0.01110796434670613, 0.01758761021561804, 0.9945765828337366, 0.4727970608414382, 0.0126338371858966, 0.44121246787669666, 0.021218367581441726, 0.013281726272352837, 0.005669029506492064, 0.010528197654913835, 0.002591556345824944, 0.019922589408529253, 0.9948034368008085, 0.9951474221324755, 0.0013675414079412972, 0.11715271394697112, 0.5438256332246558, 0.18211093082418273, 0.15384840839339592, 0.0015954649759315133, 0.954623672930903, 0.004743471666737407, 0.0391336412505836, 0.0016710427925754237, 0.9976125471675279, 0.10477227682217534, 0.15214637315723498, 0.1583256031139819, 0.11671878807188603, 0.16532873039829504, 0.10600812281352473, 0.10339911460956493, 0.08747043294328401, 0.005904597514224823, 0.05297200042349616, 0.9464330742331314, 0.9973962726875032, 0.01344981023775715, 0.9863194174355244, 0.0014951504264024268, 0.09120417601054805, 0.24029203281467576, 0.00021359291805748956, 0.0939808839452954, 0.28044750140948377, 0.15229175057499006, 0.00021359291805748956, 0.14011695424571316, 0.0773343483392449, 0.18984220580062722, 0.013027225600791637, 0.184512886236667, 0.0916642965001157, 0.0967567574167888, 0.2221734111553192, 0.09794105065322439, 0.026883456467088198, 0.006776390487970746, 0.02529852448842412, 0.3202973903980839, 0.0718297391724899, 0.44543473474261036, 0.009938706049023761, 0.015359818439400357, 0.10525993224647892, 0.0006952320314732517, 0.9990484292270626, 0.0019427419241047309, 0.9966266070657269, 0.1357441078033425, 0.864294762342801, 0.0013860606786453079, 0.9612330806405209, 0.0090093944111945, 0.017325758483066347, 0.004158182035935923, 0.007623333732549193, 0.0014723952327929254, 0.9982839678336034, 0.07221788660624462, 0.9223617798130892, 0.002533960933552443, 0.004546643355334173, 0.19323234260170236, 0.07426184147045817, 0.7123074590023538, 0.014397703958558215, 0.8912647987822941, 0.0021952334945376704, 0.040611819648946904, 0.05707607085797943, 0.0021952334945376704, 0.004390466989075341, 0.0021952334945376704, 0.8837919468342895, 0.005027893502849941, 0.006424530586974924, 0.04636835119294945, 0.002374283043012472, 0.0083798225047499, 0.018016618385212287, 0.022625520762824734, 0.006843521712212419, 0.9975857013152043, 0.0011086078226130501, 0.008868862580904401, 0.00031674509217515716, 0.0006334901843503143, 0.00015837254608757858, 0.9890365503169283, 0.9975455263891553, 0.4960548323745233, 0.08184328373026604, 0.0007684815373733901, 0.11392738791560508, 0.029394418804532172, 0.004995129992927036, 0.18693313396607714, 0.08549357103278965, 0.0003842407686866951, 0.5791367378013887, 0.11817571104907344, 0.011173664987011752, 0.048292958842169435, 0.021589793364734572, 0.01477196388113418, 0.01780211031828991, 0.16968820048072084, 0.019127799384545542, 0.008639170885787065, 0.0030237098100254728, 0.8824913059831487, 0.007343295252919006, 0.02505359556878249, 0.07256903544061136, 0.0004319585442893533, 0.9961610067789618, 0.9960566743294417, 0.0011649785664671834, 0.0011649785664671834, 0.06248498875893861, 0.9367828235985757, 0.9958169476528747, 0.9994470917873319, 0.0002652460434679756, 0.9951701833269466, 0.996918715373663, 0.0027924893988057788, 0.15014678664378192, 0.24374478351263298, 0.08219824083995254, 0.21944530355629666, 0.11069763091219886, 0.07799833072404255, 0.0019499582681010638, 0.11369756670927741, 0.9981343874092093, 0.9949397263154148, 0.0006192739235368262, 0.9524432943996386, 0.04334917464757783, 0.0006192739235368262, 0.0006192739235368262, 0.0024770956941473046, 0.16527497953448853, 0.07033715061949931, 0.4573647232400941, 0.007969233814031942, 0.1725512364951264, 0.000692976853394082, 0.12508232203763178, 0.000346488426697041, 0.0050252619230340065, 0.994373703020354, 0.0020149417986789707, 0.9973961903460905, 0.9982689932207786, 0.9984684650047198, 0.9990540719528607, 0.9992972266936061, 0.998280292226873, 0.997669046154295, 0.1067633052365927, 0.8927766154430036, 0.9950227275694244, 0.0004362483184912324, 0.9667262737765709, 0.032282375568351195, 0.0004362483184912324, 0.0004362483184912324, 0.0004362483184912324, 0.16800345643350054, 0.0014058866647154859, 0.8301760755144943, 0.005422178644867449, 0.08466940499293016, 0.00041709066498980373, 0.0025025439899388226, 0.4120855770099261, 0.25067148965887204, 0.0075076319698164674, 0.23649040704921873, 0.9951049953110711, 0.9964059492563373, 0.002040866770705635, 0.9959429841043499, 0.9978600910107414, 0.9985663527024458, 0.9978528527863513, 0.0012036825727217747, 0.7958243060504157, 0.002575483191101669, 0.0223627320983462, 0.07286732930921795, 0.08813177846623516, 0.0048996997294129315, 0.0010678832743592286, 0.0112441827123707, 0.0010678832743592286, 0.9954078474958944, 0.9705254739115917, 0.017518510359415013, 0.008175304834393672, 0.002335801381255335, 0.002335801381255335, 0.32950317022352205, 0.05487986179793535, 0.44374288253759153, 0.04972787477200673, 0.030239923847841927, 0.038527902976509716, 0.0071679819491180866, 0.014335963898236173, 0.03180791989921151, 0.44017007368174565, 0.06926283403905946, 0.11834312041110821, 0.014607648136612642, 0.09569068054708571, 0.11199196904736358, 0.010338263053206532, 0.03916543340975853, 0.10045404406989418, 0.017546339220971298, 0.01169755948064753, 0.007798372987098354, 0.9630990639066467, 0.31493514911120635, 0.005149542025054149, 0.13849557762119316, 0.0005420570552688578, 0.5404308841030512, 0.9979067669855873, 0.9947634979798814, 0.9989418167821597, 0.9964156477813937, 0.9990343962540215, 0.7405360872776948, 0.0183004231197726, 0.02177119302179844, 0.0725706434059948, 0.049221827701457346, 0.027450634679658904, 0.03249902726442376, 0.0271351101431111, 0.010412309706077516, 0.9955233146253784, 0.996319752014743, 0.9991355601238313, 0.9957646185405986, 0.3956208230719999, 0.016455025384410616, 0.22231789615107958, 0.08577619615277873, 0.07212202615294866, 0.10520713038330617, 0.014179330384438934, 0.045513899999433616, 0.042713044614853084, 0.0030802708449790316, 0.9949274829282272, 0.9973953381195655, 0.9650785243966978, 0.001855920239224419, 0.03340656430603954, 0.9962527664404555, 0.0012571192753962647, 0.0012571192753962647, 0.996895585389238, 0.9962393805616178, 0.0036631042812146006, 0.2718837399834837, 0.026455753142105447, 0.012210347604048669, 0.14123302062016294, 0.004477127454817845, 0.5392903525121495, 0.0004070115868016223, 0.998851143246053, 0.06900205768453015, 0.3370790174244289, 0.08248521838150731, 0.18955737685750237, 0.08764054453035151, 0.07851958288239638, 0.12134844627279441, 0.0333113381925318, 0.0011896906497332784, 0.0053971508939760935, 0.9930757644916012, 0.044991432847497265, 0.04679109016139715, 0.0935821803227943, 0.062088177329546225, 0.0017996573138998905, 0.7441582992976048, 0.007198629255599562, 0.9947805783759117, 0.002570492450583751, 0.9961153834746372, 0.9418074786249598, 0.05738087218231027, 0.0002927595519505626, 0.0002927595519505626, 0.0011861871337366275, 0.0014827339171707844, 0.004448201751512353, 0.5812316955309474, 0.26155426298892637, 0.15005267241768339, 0.9963899090098314, 0.9987087431731931, 0.9997502877384569, 0.011422010262644335, 0.9880038877187349, 0.988491768704036, 0.009169682455510537, 0.9939370564670584, 0.39819782371479145, 0.000706024510132609, 0.001412049020265218, 0.599414809102585, 0.042256851837941534, 0.9569132254914502, 0.9980791636183302, 0.0004249359437809248, 0.9979620639695019, 0.0002124679718904624, 0.0008498718875618496, 0.0004249359437809248, 0.0002124679718904624, 0.0006294692606338686, 0.9989677166259495, 0.0006294692606338686, 0.9981212214951354, 0.9985833604587948, 0.0013304000272344983, 0.998465220439491, 0.0009089159754080612, 0.016360487557345104, 0.9816292534407062, 0.9971506839683308, 0.9963507498337695, 0.9956555752391231, 0.9979896902447181, 0.9948827805329222, 0.002456500692673882, 0.003125118321131025, 0.12109833494382721, 0.04609549523668262, 0.0007812795802827563, 0.13438008780863409, 0.6906511489699565, 0.003125118321131025, 0.9953985203885278, 0.9937271674247119, 0.0056784409567126395, 0.9935943083834807, 0.0006814775777664476, 0.0006814775777664476, 0.0040888654665986865, 0.9973822667218797, 0.0016423166517210719, 0.013138533213768575, 0.0032846333034421437, 0.14780849865489645, 0.8326545424225834, 0.9986507048320216, 0.9966289842639656, 0.9983618749034869, 0.9979152932711033, 0.9906486368813432, 0.0009488971617637387, 0.0037955886470549547, 0.0009488971617637387, 0.0009488971617637387, 0.0028466914852912162, 0.9994725171680777, 0.0002645506927390359, 0.009308323472941686, 0.9890093690000542, 0.4178218363085963, 0.16229153541181215, 0.2641180819282947, 0.07027959578848453, 0.06852698741470686, 0.00455678177182194, 0.005783607633466308, 0.0064846509829773755, 0.0001752608373777669, 0.9977572821343069, 0.0007964034378358616, 0.9771870182246022, 0.0007964034378358616, 0.005574824064851032, 0.015131665318881372, 0.02381246234805414, 0.9744792283972925, 0.9948753079938427, 0.3255578198664794, 0.08182804325358393, 0.350995940510396, 0.053131838192219887, 0.06716666337507042, 0.03721734892238044, 0.021553481530806183, 0.05914676327058441, 0.00338339535658004, 0.02349824746773195, 0.7211024691660243, 0.00969302708043943, 0.08400623469714173, 0.16125672324731052, 0.9981459259086964, 0.0014386178346504903, 0.9931694396668931, 0.00013078343951368094, 0.0018309681531915331, 0.0005231337580547238, 0.0028772356693009806, 0.0007746296695653652, 0.6220276246609883, 0.13246167349567745, 0.24478297558265538, 0.0016457790545334591, 0.8500448816665317, 0.10779852807194157, 0.02057223818166824, 0.02057223818166824, 0.9968157338241752, 0.9994599789809366, 0.01827885414824451, 0.0010752267146026183, 0.16235923390499538, 0.043009068584104734, 0.7687871009408721, 0.0064513602876157105, 0.06475443156871244, 0.0011164557167019386, 0.0011164557167019386, 0.003349367150105816, 0.9300076120127149, 0.9970256698020417, 0.9962539450828445, 0.06040544751368801, 0.0514195131728088, 0.004992185744932894, 0.008486715766385919, 0.6749435127149273, 0.19968742979731574, 0.0004724046965046492, 0.25887777368454773, 0.05290932600852071, 0.0009448093930092984, 0.13038369623528318, 0.5560203277859721, 0.9949108996913113, 0.998194112042873, 0.07122908662136417, 0.26066814678456673, 0.666825491774473, 0.9966560370356994, 0.9963188899963101, 0.9967075803293912, 0.9909841202967248, 0.00876977097607721, 0.03340669565731675, 0.7693365499905592, 0.19749252432707842, 0.017347518219791337, 0.9801347794182106, 0.9982384202954043, 0.0031323239979432673, 0.03132323997943267, 0.9647557913665263, 0.9957508711828469, 0.00904180788201291, 0.7678581462878656, 0.09876436301891026, 0.08624493672073853, 0.011128378931708198, 0.025734376279575207, 0.0006955236832317624, 0.996484194397119, 0.8524545417157982, 0.014963772453019083, 0.01695436603621887, 0.0020592347412411584, 0.07296555099797837, 0.003363416744027225, 0.0058344984335166146, 0.031094444592741487, 0.0004118469482482316, 0.9955608808925144, 0.030198635363561124, 0.016661316062654412, 0.7528832195811963, 0.19889446049793705, 0.9984487960025923, 0.024643244674715174, 0.5937914405047943, 0.04513313350537723, 0.005676252986872596, 0.32853044726460173, 0.0020766779220265596, 0.07187961455502284, 0.15672112681668912, 0.24997945577098105, 0.041915747129275614, 0.21850056134056123, 0.05487764483591907, 0.08787156627101152, 0.10571521765937784, 0.012625225038938438, 0.09508432156335189, 0.9039613626404774, 0.002538543610681172, 0.9963783671923601, 0.0008894741209005012, 0.1405369111022792, 0.01545461285064621, 0.09817570609439283, 0.5002180087414194, 0.21369615754634544, 0.000333552795337688, 0.030686857171067294, 0.9982256698373473, 0.9957294951359021, 0.9977088134866845, 0.3033985463287948, 9.774437703891585e-05, 0.001368421278544822, 0.090609037515075, 0.3302782500144967, 0.2649850061525009, 0.00899248268758026, 9.774437703891585e-05, 0.009464572742038515, 0.9795832788009863, 0.010140613652184122, 0.9953506564486582, 0.0003993301590515827, 0.009983253976289568, 0.900489508661319, 0.08905062546850294, 0.9974408802388574, 0.9986924854260519, 0.9942659101700182, 0.9983434172215928, 0.0016198217965127132, 0.9961904048553186, 0.00040197055339248177, 0.24739054391566181, 0.00031264376374970804, 0.16972090032127007, 0.18057410526286707, 0.10746012794025679, 0.24783717786387569, 0.04551199932299321, 0.0008486045016063504, 0.048030652495558115, 0.4607940723792607, 0.022085523245725384, 0.04417104649145077, 0.06925848551814853, 0.15331212738537522, 0.021442255578374158, 0.15352654994115897, 0.027874932251886406, 0.005850035219078693, 0.9848706351178365, 0.009291232406772041, 0.9949244598073816, 0.9974908986754775, 0.5879618063337675, 0.0002689669745351178, 0.21221494290820792, 0.005917273439772591, 0.1936562216652848, 0.74314029405048, 0.030842432474790564, 0.08278758190601677, 0.039608176441309983, 0.0009739715518354915, 0.04902323477571974, 0.007467115230738768, 0.023050660060106632, 0.023375317244051796, 0.992158882133833, 0.1216076342801996, 0.21219950636353638, 0.22021191159772593, 0.058283786461604696, 0.13091236293925845, 0.08464718432893809, 0.08400102261650344, 0.07715170846469624, 0.010855516768901983, 0.9952795640947744, 0.39076390158350427, 0.04922875656392011, 0.2134381729224633, 0.07222488852284473, 0.08426236994331884, 0.06240184943915594, 0.03537429681582725, 0.07029434904974982, 0.022087642795115252, 0.9951522557639231, 0.009215567812745969, 0.9845298279950278, 0.00614371187516398, 0.9973355789420396, 0.9982802778141124, 0.9962442828884356, 0.0030373301307574257, 0.12263716193961159, 0.7382594715437546, 0.0004060833176808331, 0.13603791142307908, 0.0016243332707233324, 0.0008121666353616662, 0.9977823209453206, 0.9979809700678812, 0.9951492170892082, 0.998815938633742, 0.9957097589913315, 0.002440465095566989, 0.9988503267061201, 0.9997683672324198, 0.00012057023242069703, 0.9983938462963442, 0.07925393800360876, 0.9180247818751348, 0.007341038948354237, 0.987369738553645, 0.02877784569407176, 0.9542127782771163, 0.016660858033409966, 0.9946839203029825, 0.0035333475565775107, 0.9928706633982805, 0.997195207038319, 0.21446043037129528, 0.7852188129120163, 0.10553419003615278, 0.1405299836232708, 0.047845811544887915, 0.09733205091417199, 0.0008202139121980785, 0.05796178312866422, 0.4989634632538311, 0.05112666719368023, 0.9971730176130619, 0.08338058299564699, 0.013059609384860373, 0.9021176328926627, 0.0010045853372969518, 0.9974964383431497, 0.002177939821709934, 0.00887641548699529, 0.9886107748641004, 0.0011095519358744112, 0.9973816326462639, 0.9989364570882642, 0.9968562538665254, 0.9974303945932615, 0.9969529838079452, 0.9969295982668507, 0.00010834168539410281, 0.03911134842727112, 0.9593656241647804, 0.00043336674157641125, 0.00043336674157641125, 0.0003250250561823085, 0.00010834168539410281, 0.8168245100552046, 0.010852407130937174, 0.17146803266880734, 0.9959533692726174, 0.3864899374546179, 0.005316230226335872, 0.4162608267220988, 0.03375806193723279, 0.054757171331259485, 0.019670051837442727, 0.009835025918721364, 0.01329057556583968, 0.06007340155759536, 0.289651191308044, 0.05653991254333019, 0.5839368016770168, 0.0009268838121857408, 0.06905284400783769, 0.14849400025077583, 0.15361038006710864, 0.09078599534562656, 0.12350702905473182, 0.16538995220238653, 0.10304150978940053, 0.0841228030266815, 0.11696282231291076, 0.01427826925488229, 0.9991119158418114, 0.7352770091707986, 0.09434431822969684, 0.1698197728134543, 0.9945389570250875, 0.11767370839723057, 0.37601035961366724, 0.14397495116813477, 0.09487929799578028, 0.03954927616661889, 0.054940373788110966, 0.04792670904920318, 0.07422795182010737, 0.050849069357081424, 0.9976367917795697, 0.9984614863111336, 0.9983491793160596, 0.001859234670225515, 0.9965497832408761, 0.19771871963921536, 0.15484221699018097, 0.050927548997979716, 0.10597423798844309, 0.04493607264527622, 0.08425513620989292, 0.2699909031437013, 0.09118278074270633, 0.06891283740205782, 0.13362367252350238, 0.22165562030235061, 0.13467417309365567, 0.3500267899750864, 0.011345406157655861, 0.029624116078323638, 0.04054932200791817, 0.00924440501734922, 0.021622130271172022, 0.9769271586156815, 0.9952371343723865, 0.9969486797612225, 0.3704821965693219, 0.07861108722843602, 0.29046577146864566, 0.05586218042154782, 0.03882245872063544, 0.029512095317044133, 0.0728140685054452, 0.04892332467736185, 0.01449254680747703, 0.005679251758952718, 0.9938690578167256, 0.0012628822758158974, 0.030309174619581537, 0.9673678232749774, 0.9962333471740552], \"Term\": [\"acidic\", \"acidic\", \"addictive\", \"additive\", \"additive\", \"agave\", \"age\", \"allergy\", \"allergy\", \"allergy\", \"allergy\", \"almond\", \"almond\", \"almond\", \"almond\", \"amazon\", \"amazon\", \"amazon\", \"amazon\", \"amazon\", \"amazon\", \"amazon\", \"amazon\", \"amazon\", \"animal\", \"animal\", \"apple\", \"apple\", \"apple\", \"apple\", \"apple\", \"artificial\", \"artificial\", \"artificial\", \"artificial\", \"auto\", \"baby\", \"baby\", \"baby\", \"baby\", \"baby\", \"baby\", \"bag\", \"bag\", \"bag\", \"bag\", \"bag\", \"bag\", \"bag\", \"bag\", \"bag\", \"ball\", \"banana\", \"banana\", \"banana\", \"bar\", \"bar\", \"basis\", \"bean\", \"bean\", \"bean\", \"bean\", \"bean\", \"bean\", \"beautiful\", \"beef\", \"beef\", \"beef\", \"beef\", \"beef\", \"beer\", \"beer\", \"bell\", \"benefit\", \"benefit\", \"benefit\", \"benefit\", \"benefit\", \"berry\", \"berry\", \"berry\", \"berry\", \"beverage\", \"beverage\", \"beverage\", \"biscuit\", \"biscuit\", \"bitter\", \"bitter\", \"bitter\", \"bitter\", \"black\", \"black\", \"black\", \"black\", \"black\", \"black\", \"black\", \"black\", \"black\", \"blend\", \"blend\", \"blend\", \"blend\", \"blend\", \"blend\", \"blood\", \"blood\", \"blood\", \"blueberry\", \"blueberry\", \"blueberry\", \"bodied\", \"body\", \"body\", \"body\", \"body\", \"body\", \"body\", \"body\", \"boil\", \"bold\", \"bold\", \"bone\", \"bone\", \"boost\", \"bottle\", \"bottle\", \"bottle\", \"bottle\", \"bottle\", \"bottle\", \"box\", \"box\", \"box\", \"box\", \"box\", \"box\", \"box\", \"box\", \"box\", \"boy\", \"bran\", \"brand\", \"brand\", \"brand\", \"brand\", \"brand\", \"brand\", \"brand\", \"brand\", \"brand\", \"bread\", \"bread\", \"bread\", \"bread\", \"breast\", \"breed\", \"breed\", \"brew\", \"brew\", \"brew\", \"brewer\", \"broccoli\", \"broth\", \"broth\", \"bulk\", \"bulk\", \"bulk\", \"bulk\", \"bulk\", \"bulk\", \"bulk\", \"bulk\", \"busy\", \"butter\", \"butter\", \"butter\", \"byproduct\", \"cafe\", \"caffeine\", \"caffeine\", \"caffeine\", \"cake\", \"cake\", \"cake\", \"calm\", \"calorie\", \"calorie\", \"calorie\", \"calorie\", \"calorie\", \"calorie\", \"can\", \"can\", \"can\", \"can\", \"can\", \"candy\", \"candy\", \"candy\", \"candy\", \"candy\", \"candy\", \"cappuccino\", \"caramel\", \"caramel\", \"carb\", \"carb\", \"carb\", \"carrot\", \"case\", \"case\", \"case\", \"case\", \"case\", \"case\", \"case\", \"case\", \"case\", \"cat\", \"celiac\", \"celiac\", \"cereal\", \"cereal\", \"cereal\", \"chai\", \"chai\", \"chamomile\", \"charge\", \"charge\", \"cheap\", \"cheap\", \"cheap\", \"cheap\", \"cheap\", \"cheap\", \"cheap\", \"cheap\", \"cheap\", \"cheddar\", \"cheese\", \"cheese\", \"cheese\", \"cheese\", \"chef\", \"cherry\", \"cherry\", \"cherry\", \"chew\", \"chew\", \"chew\", \"chew\", \"chew\", \"chew\", \"chicken\", \"chicken\", \"chicken\", \"chicken\", \"chili\", \"chip\", \"chip\", \"chip\", \"chip\", \"chocolate\", \"chocolate\", \"chocolate\", \"chocolate\", \"chocolate\", \"chocolate\", \"chunky\", \"cider\", \"cider\", \"cinnamon\", \"cinnamon\", \"cinnamon\", \"cinnamon\", \"clump\", \"coat\", \"cocoa\", \"cocoa\", \"cocoa\", \"coconut\", \"coconut\", \"coconut\", \"coffee\", \"coffee\", \"coffeebr\", \"cold\", \"cold\", \"cold\", \"cold\", \"cold\", \"cold\", \"cold\", \"cold\", \"color\", \"color\", \"color\", \"color\", \"color\", \"color\", \"color\", \"color\", \"color\", \"combo\", \"company\", \"company\", \"company\", \"company\", \"company\", \"company\", \"company\", \"company\", \"company\", \"complex\", \"compliment\", \"condition\", \"condition\", \"condition\", \"condition\", \"condition\", \"condition\", \"conditioner\", \"conscious\", \"convenient\", \"convenient\", \"convenient\", \"convenient\", \"convenient\", \"cook\", \"cook\", \"cook\", \"cookie\", \"cookie\", \"cookie\", \"cookie\", \"corn\", \"corn\", \"corn\", \"corn\", \"corn\", \"corn\", \"corn\", \"cost\", \"cost\", \"cost\", \"cost\", \"cost\", \"cost\", \"cost\", \"cracker\", \"cranberry\", \"crash\", \"craving\", \"cream\", \"cream\", \"cream\", \"cream\", \"cream\", \"cream\", \"cream\", \"creamer\", \"creamer\", \"creamer\", \"crema\", \"creme\", \"creme\", \"crispy\", \"crunch\", \"crunchy\", \"crunchy\", \"crystal\", \"cube\", \"cube\", \"cuisine\", \"cup\", \"cup\", \"cup\", \"curry\", \"customer\", \"customer\", \"customer\", \"customer\", \"customer\", \"customer\", \"customer\", \"dark\", \"dark\", \"dark\", \"dark\", \"dark\", \"dark\", \"dark\", \"darn\", \"date\", \"date\", \"date\", \"date\", \"date\", \"date\", \"deal\", \"deal\", \"deal\", \"deal\", \"deal\", \"deal\", \"deal\", \"deal\", \"decaf\", \"decaf\", \"delicious\", \"delicious\", \"delicious\", \"delicious\", \"delicious\", \"delicious\", \"delicious\", \"delicious\", \"delivery\", \"delivery\", \"delivery\", \"dental\", \"desk\", \"diamond\", \"diamond\", \"diet\", \"diet\", \"diet\", \"diet\", \"diet\", \"diet\", \"diet\", \"dietary\", \"different\", \"different\", \"different\", \"different\", \"different\", \"different\", \"different\", \"different\", \"different\", \"digestion\", \"digestive\", \"digestive\", \"digestive\", \"dish\", \"dish\", \"dish\", \"doctor\", \"doctor\", \"dog\", \"donut\", \"donut\", \"door\", \"door\", \"door\", \"door\", \"door\", \"drawback\", \"dressing\", \"dressing\", \"drink\", \"drink\", \"drink\", \"drink\", \"drink\", \"drinker\", \"drinker\", \"drinker\", \"drinker\", \"drinker\", \"drip\", \"duck\", \"easy\", \"easy\", \"easy\", \"easy\", \"easy\", \"easy\", \"easy\", \"easy\", \"easy\", \"eater\", \"eater\", \"economical\", \"egg\", \"email\", \"email\", \"energy\", \"energy\", \"energy\", \"english\", \"enjoy\", \"enjoy\", \"espresso\", \"everyday\", \"exception\", \"expiration\", \"expiration\", \"extract\", \"family\", \"family\", \"family\", \"family\", \"family\", \"family\", \"family\", \"family\", \"favorite\", \"favorite\", \"favorite\", \"favorite\", \"favorite\", \"favorite\", \"favorite\", \"favorite\", \"feature\", \"feed\", \"feed\", \"feed\", \"feed\", \"feed\", \"feeding\", \"feeding\", \"fiber\", \"fiber\", \"filter\", \"finicky\", \"firm\", \"flavor\", \"flavor\", \"flavor\", \"flavor\", \"flavor\", \"flavor\", \"flavor\", \"flavor\", \"flavor\", \"flax\", \"floral\", \"flour\", \"flour\", \"flower\", \"flower\", \"flower\", \"foil\", \"follow\", \"food\", \"food\", \"food\", \"food\", \"food\", \"food\", \"food\", \"food\", \"food\", \"form\", \"form\", \"form\", \"form\", \"formula\", \"formula\", \"formula\", \"formula\", \"formula\", \"formula\", \"fragrant\", \"free\", \"free\", \"free\", \"free\", \"free\", \"free\", \"free\", \"free\", \"free\", \"french\", \"french\", \"fresh\", \"fresh\", \"fresh\", \"fresh\", \"fresh\", \"fresh\", \"fresh\", \"fresh\", \"fresh\", \"fridge\", \"fridge\", \"fridge\", \"fructose\", \"fruit\", \"fruit\", \"fruit\", \"fruit\", \"fruit\", \"fruit\", \"fry\", \"fudge\", \"fuel\", \"fuel\", \"fussy\", \"game\", \"gift\", \"gift\", \"gift\", \"gift\", \"gift\", \"ginger\", \"glass\", \"glass\", \"glass\", \"glass\", \"glass\", \"gluten\", \"gluten\", \"gluten\", \"glutenfree\", \"glutenfree\", \"glutenfree\", \"glutenfree\", \"good\", \"good\", \"good\", \"good\", \"good\", \"good\", \"good\", \"good\", \"good\", \"grab\", \"granola\", \"granola\", \"grape\", \"grass\", \"grass\", \"gravy\", \"great\", \"great\", \"great\", \"great\", \"great\", \"great\", \"great\", \"great\", \"great\", \"green\", \"green\", \"green\", \"green\", \"green\", \"green\", \"green\", \"grind\", \"grinder\", \"grocery\", \"grocery\", \"grocery\", \"grocery\", \"grocery\", \"grocery\", \"grocery\", \"grocery\", \"grocery\", \"ground\", \"ground\", \"ground\", \"ground\", \"ground\", \"guilt\", \"gummie\", \"gummy\", \"guy\", \"hair\", \"hair\", \"handy\", \"happy\", \"happy\", \"happy\", \"happy\", \"happy\", \"happy\", \"happy\", \"happy\", \"happy\", \"healthy\", \"healthy\", \"healthy\", \"healthy\", \"healthy\", \"healthy\", \"healthy\", \"healthy\", \"hearty\", \"heat\", \"heat\", \"heat\", \"heat\", \"heat\", \"hemp\", \"herb\", \"herb\", \"herbal\", \"high\", \"high\", \"high\", \"high\", \"high\", \"high\", \"high\", \"high\", \"high\", \"hint\", \"hint\", \"hint\", \"hint\", \"hint\", \"homemade\", \"homemade\", \"homemade\", \"homemade\", \"honey\", \"honey\", \"honey\", \"honey\", \"honey\", \"honey\", \"honey\", \"hooked\", \"hot\", \"hour\", \"hour\", \"hour\", \"hour\", \"hour\", \"hour\", \"hour\", \"indian\", \"indoor\", \"ingredient\", \"ingredient\", \"ingredient\", \"ingredient\", \"ingredient\", \"ingredient\", \"ingredient\", \"ingredient\", \"instant\", \"instant\", \"intact\", \"irish\", \"item\", \"item\", \"item\", \"item\", \"item\", \"item\", \"item\", \"item\", \"item\", \"japanese\", \"jasmine\", \"jerky\", \"jerky\", \"jerky\", \"jerky\", \"jerky\", \"juice\", \"juice\", \"juice\", \"juice\", \"kcup\", \"kcup\", \"kernel\", \"ketchup\", \"keurig\", \"keurig\", \"kibble\", \"kibble\", \"kid\", \"kid\", \"kid\", \"kid\", \"kid\", \"kid\", \"kid\", \"kid\", \"kind\", \"kind\", \"kind\", \"kind\", \"kind\", \"kind\", \"kind\", \"kind\", \"kitten\", \"kitty\", \"kona\", \"large\", \"large\", \"large\", \"large\", \"large\", \"large\", \"large\", \"large\", \"large\", \"latte\", \"latte\", \"leave\", \"leave\", \"leave\", \"leave\", \"leave\", \"leave\", \"leave\", \"lemon\", \"lemon\", \"lemon\", \"lemonade\", \"licorice\", \"licorice\", \"licorice\", \"licorice\", \"liquid\", \"liquid\", \"liquid\", \"liquid\", \"liquid\", \"liquid\", \"liquid\", \"liquid\", \"liquid\", \"little\", \"little\", \"little\", \"little\", \"little\", \"little\", \"little\", \"little\", \"little\", \"liver\", \"local\", \"local\", \"local\", \"local\", \"local\", \"local\", \"local\", \"local\", \"local\", \"lollipop\", \"love\", \"love\", \"love\", \"love\", \"love\", \"love\", \"love\", \"love\", \"love\", \"machine\", \"machine\", \"machine\", \"machine\", \"mail\", \"mail\", \"mail\", \"maker\", \"maker\", \"maker\", \"maker\", \"manner\", \"many\", \"many\", \"many\", \"many\", \"many\", \"many\", \"many\", \"many\", \"many\", \"maple\", \"maple\", \"maple\", \"maple\", \"matcha\", \"mate\", \"meal\", \"meal\", \"meal\", \"meal\", \"meal\", \"meal\", \"meal\", \"meat\", \"meat\", \"meat\", \"meat\", \"meat\", \"med\", \"medication\", \"medicine\", \"medium\", \"medium\", \"medium\", \"medium\", \"medium\", \"mellow\", \"microwave\", \"microwave\", \"mile\", \"milk\", \"milk\", \"milk\", \"milk\", \"milk\", \"milk\", \"milk\", \"milk\", \"milk\", \"minimal\", \"mint\", \"mint\", \"mint\", \"miracle\", \"mocha\", \"moderation\", \"moist\", \"moist\", \"moist\", \"moist\", \"moist\", \"mom\", \"month\", \"month\", \"month\", \"month\", \"month\", \"month\", \"month\", \"month\", \"month\", \"monthly\", \"mood\", \"morning\", \"morning\", \"morning\", \"morning\", \"morning\", \"morning\", \"mountain\", \"mountain\", \"mountain\", \"movie\", \"movie\", \"much\", \"much\", \"much\", \"much\", \"much\", \"much\", \"much\", \"much\", \"much\", \"muffin\", \"muffin\", \"mushroom\", \"mustard\", \"mustard\", \"natural\", \"natural\", \"natural\", \"natural\", \"natural\", \"natural\", \"natural\", \"natural\", \"natural\", \"nice\", \"nice\", \"nice\", \"nice\", \"nice\", \"nice\", \"nice\", \"nice\", \"nice\", \"night\", \"night\", \"night\", \"night\", \"night\", \"night\", \"night\", \"night\", \"noodle\", \"noodle\", \"nutritious\", \"nutritious\", \"nutty\", \"nutty\", \"oatmeal\", \"oatmeal\", \"oatmeal\", \"oatmeal\", \"oatmeal\", \"oatmeal\", \"oats\", \"oats\", \"old\", \"old\", \"old\", \"olive\", \"olive\", \"olive\", \"olive\", \"olive\", \"online\", \"online\", \"online\", \"online\", \"online\", \"online\", \"online\", \"order\", \"order\", \"order\", \"order\", \"order\", \"order\", \"order\", \"order\", \"order\", \"oreo\", \"organic\", \"organic\", \"organic\", \"organic\", \"organic\", \"organic\", \"owner\", \"pack\", \"pack\", \"pack\", \"pack\", \"pack\", \"pack\", \"pack\", \"pack\", \"pack\", \"package\", \"package\", \"package\", \"package\", \"package\", \"package\", \"package\", \"package\", \"package\", \"packet\", \"packet\", \"packet\", \"packet\", \"packet\", \"packet\", \"packet\", \"palate\", \"pancake\", \"pancake\", \"pancake\", \"pasta\", \"pasta\", \"peace\", \"peanut\", \"peanut\", \"pear\", \"peppermint\", \"peppermint\", \"perfect\", \"perfect\", \"perfect\", \"perfect\", \"perfect\", \"perfect\", \"perfect\", \"perfect\", \"pet\", \"petco\", \"picky\", \"picky\", \"picky\", \"picky\", \"picky\", \"picky\", \"piece\", \"piece\", \"piece\", \"piece\", \"piece\", \"piece\", \"piece\", \"piece\", \"pill\", \"pill\", \"pizza\", \"pizza\", \"plant\", \"pleasure\", \"pocket\", \"pod\", \"poodle\", \"popchip\", \"popcorn\", \"popcorn\", \"popper\", \"potato\", \"potato\", \"potato\", \"potato\", \"potato\", \"potato\", \"pouch\", \"pouch\", \"pouch\", \"powder\", \"powder\", \"powder\", \"powder\", \"powder\", \"powder\", \"powder\", \"powder\", \"prefer\", \"prescription\", \"preservative\", \"preservative\", \"press\", \"pressure\", \"pretzel\", \"pretzel\", \"price\", \"price\", \"price\", \"price\", \"price\", \"price\", \"price\", \"price\", \"price\", \"pricing\", \"prime\", \"prime\", \"prime\", \"prime\", \"prime\", \"problem\", \"problem\", \"problem\", \"problem\", \"problem\", \"problem\", \"problem\", \"problem\", \"problem\", \"product\", \"product\", \"product\", \"product\", \"product\", \"product\", \"product\", \"product\", \"product\", \"program\", \"program\", \"program\", \"program\", \"protein\", \"protein\", \"protein\", \"protein\", \"protein\", \"prune\", \"puff\", \"pumpkin\", \"punch\", \"puppy\", \"purchase\", \"purchase\", \"purchase\", \"purchase\", \"purchase\", \"purchase\", \"purchase\", \"purchase\", \"purchase\", \"puree\", \"purina\", \"purse\", \"quaker\", \"quality\", \"quality\", \"quality\", \"quality\", \"quality\", \"quality\", \"quality\", \"quality\", \"quality\", \"quinoa\", \"quinoa\", \"quite\", \"raisin\", \"raisin\", \"raisin\", \"raman\", \"raspberry\", \"raspberry\", \"raspberry\", \"rawhide\", \"recipe\", \"recipe\", \"recipe\", \"recipe\", \"recipe\", \"recipe\", \"recipe\", \"recipe\", \"refreshing\", \"regular\", \"regular\", \"regular\", \"regular\", \"regular\", \"regular\", \"regular\", \"regular\", \"regular\", \"resealable\", \"resealable\", \"restaurant\", \"restaurant\", \"restaurant\", \"restaurant\", \"restaurant\", \"restaurant\", \"restaurant\", \"retail\", \"retail\", \"reward\", \"rice\", \"rice\", \"rice\", \"rice\", \"rich\", \"rich\", \"rich\", \"rich\", \"rich\", \"rich\", \"ride\", \"road\", \"roast\", \"roasted\", \"roasted\", \"robust\", \"robust\", \"royal\", \"salad\", \"salad\", \"salad\", \"salad\", \"salmon\", \"salmon\", \"salsa\", \"salt\", \"salt\", \"salt\", \"salt\", \"salt\", \"salt\", \"salty\", \"salty\", \"salty\", \"sampler\", \"sandwich\", \"sauce\", \"sauce\", \"save\", \"save\", \"save\", \"saving\", \"scalp\", \"science\", \"scoop\", \"season\", \"season\", \"seasoning\", \"seasoning\", \"seasoning\", \"seasoning\", \"seasoning\", \"seasoning\", \"seasoning\", \"select\", \"seller\", \"seller\", \"service\", \"service\", \"service\", \"service\", \"sesame\", \"shake\", \"shake\", \"shake\", \"shake\", \"shake\", \"shampoo\", \"shepherd\", \"shiny\", \"ship\", \"shipment\", \"shipment\", \"shipment\", \"shipment\", \"shipment\", \"shipment\", \"shipping\", \"shipping\", \"shot\", \"shot\", \"size\", \"size\", \"size\", \"size\", \"size\", \"size\", \"size\", \"size\", \"size\", \"skeptical\", \"skin\", \"skin\", \"skin\", \"skin\", \"skin\", \"sleep\", \"sleep\", \"slim\", \"small\", \"small\", \"small\", \"small\", \"small\", \"small\", \"small\", \"small\", \"small\", \"smooth\", \"smooth\", \"smooth\", \"smooth\", \"smooth\", \"smoothie\", \"snack\", \"snack\", \"snack\", \"snack\", \"snack\", \"snack\", \"soda\", \"soda\", \"soda\", \"soda\", \"sodium\", \"sodium\", \"sodium\", \"sodium\", \"sodium\", \"son\", \"soup\", \"sour\", \"sour\", \"sour\", \"sour\", \"sour\", \"sour\", \"source\", \"source\", \"source\", \"source\", \"source\", \"spaghetti\", \"specialty\", \"spice\", \"spice\", \"spice\", \"spice\", \"spice\", \"spice\", \"spicy\", \"spicy\", \"spicy\", \"spicy\", \"spicy\", \"spicy\", \"spinach\", \"splenda\", \"spoon\", \"spoon\", \"spoon\", \"sport\", \"sprinkle\", \"stand\", \"starbuck\", \"starbuck\", \"stash\", \"stash\", \"stash\", \"steak\", \"steak\", \"steep\", \"stevia\", \"stevia\", \"stevia\", \"stew\", \"stomach\", \"stomach\", \"stomach\", \"stomach\", \"stomach\", \"stomach\", \"stomach\", \"stool\", \"store\", \"store\", \"store\", \"store\", \"store\", \"store\", \"store\", \"store\", \"store\", \"stove\", \"strawberry\", \"strawberry\", \"strawberry\", \"strawberry\", \"strength\", \"strong\", \"strong\", \"strong\", \"strong\", \"strong\", \"strong\", \"stuff\", \"stuff\", \"stuff\", \"stuff\", \"stuff\", \"stuff\", \"stuff\", \"stuff\", \"stuff\", \"subscribe\", \"subscribe\", \"subtle\", \"subtle\", \"sugar\", \"sugar\", \"sugar\", \"sugar\", \"sugar\", \"sugar\", \"sugar\", \"sugar\", \"sugarfree\", \"superb\", \"sushi\", \"sweet\", \"sweet\", \"sweet\", \"sweet\", \"sweet\", \"sweet\", \"sweet\", \"sweet\", \"sweetener\", \"sweetener\", \"sweetener\", \"sweetner\", \"syrup\", \"syrup\", \"syrup\", \"syrup\", \"tablespoon\", \"taco\", \"take\", \"tangy\", \"tart\", \"tart\", \"taste\", \"taste\", \"taste\", \"taste\", \"taste\", \"taste\", \"taste\", \"taste\", \"taste\", \"tasty\", \"tasty\", \"tasty\", \"tasty\", \"tasty\", \"tasty\", \"tasty\", \"tasty\", \"tasty\", \"tea\", \"tea\", \"tea\", \"teas\", \"terrific\", \"texture\", \"texture\", \"texture\", \"texture\", \"texture\", \"thank\", \"thank\", \"thank\", \"thank\", \"thank\", \"thank\", \"thank\", \"thank\", \"thank\", \"theater\", \"thing\", \"thing\", \"thing\", \"thing\", \"thing\", \"thing\", \"thing\", \"thing\", \"thing\", \"thrilled\", \"time\", \"time\", \"time\", \"time\", \"time\", \"time\", \"time\", \"time\", \"time\", \"timely\", \"tired\", \"tired\", \"tired\", \"toddler\", \"toffee\", \"tomato\", \"tomato\", \"tooth\", \"tooth\", \"tooth\", \"tooth\", \"tooth\", \"tooth\", \"tortilla\", \"toy\", \"trail\", \"training\", \"trap\", \"trap\", \"travel\", \"treat\", \"treat\", \"tree\", \"trick\", \"trick\", \"truffle\", \"truffle\", \"tuna\", \"tuna\", \"tuna\", \"twining\", \"unit\", \"unit\", \"vacation\", \"vanilla\", \"vanilla\", \"variety\", \"variety\", \"variety\", \"variety\", \"variety\", \"variety\", \"variety\", \"variety\", \"vegetarian\", \"veggie\", \"veggie\", \"veggie\", \"veggie\", \"vendor\", \"vendor\", \"vinegar\", \"vinegar\", \"vinegar\", \"visit\", \"vitamin\", \"volume\", \"waffle\", \"wasabi\", \"watcher\", \"water\", \"water\", \"water\", \"water\", \"water\", \"water\", \"water\", \"weak\", \"weak\", \"weak\", \"weather\", \"week\", \"week\", \"week\", \"week\", \"week\", \"week\", \"week\", \"week\", \"week\", \"weight\", \"weight\", \"weight\", \"weight\", \"weight\", \"well\", \"well\", \"well\", \"well\", \"well\", \"well\", \"well\", \"well\", \"well\", \"wellness\", \"wheat\", \"wheat\", \"wheat\", \"whey\", \"whole\", \"whole\", \"whole\", \"whole\", \"whole\", \"whole\", \"whole\", \"whole\", \"whole\", \"wide\", \"wine\", \"winner\", \"winter\", \"winter\", \"wonderful\", \"wonderful\", \"wonderful\", \"wonderful\", \"wonderful\", \"wonderful\", \"wonderful\", \"wonderful\", \"work\", \"work\", \"work\", \"work\", \"work\", \"work\", \"work\", \"work\", \"work\", \"workout\", \"workout\", \"worried\", \"xylitol\", \"year\", \"year\", \"year\", \"year\", \"year\", \"year\", \"year\", \"year\", \"year\", \"yeast\", \"yeast\", \"yogurt\", \"yogurt\", \"yogurt\", \"zuke\"]}, \"R\": 30, \"lambda.step\": 0.01, \"plot.opts\": {\"xlab\": \"PC1\", \"ylab\": \"PC2\"}, \"topic.order\": [8, 2, 5, 7, 1, 4, 3, 9, 6]};\n",
              "\n",
              "function LDAvis_load_lib(url, callback){\n",
              "  var s = document.createElement('script');\n",
              "  s.src = url;\n",
              "  s.async = true;\n",
              "  s.onreadystatechange = s.onload = callback;\n",
              "  s.onerror = function(){console.warn(\"failed to load library \" + url);};\n",
              "  document.getElementsByTagName(\"head\")[0].appendChild(s);\n",
              "}\n",
              "\n",
              "if(typeof(LDAvis) !== \"undefined\"){\n",
              "   // already loaded: just create the visualization\n",
              "   !function(LDAvis){\n",
              "       new LDAvis(\"#\" + \"ldavis_el1134031402833830307042018587337\", ldavis_el1134031402833830307042018587337_data);\n",
              "   }(LDAvis);\n",
              "}else if(typeof define === \"function\" && define.amd){\n",
              "   // require.js is available: use it to load d3/LDAvis\n",
              "   require.config({paths: {d3: \"https://d3js.org/d3.v5\"}});\n",
              "   require([\"d3\"], function(d3){\n",
              "      window.d3 = d3;\n",
              "      LDAvis_load_lib(\"https://cdn.jsdelivr.net/gh/bmabey/pyLDAvis@3.4.0/pyLDAvis/js/ldavis.v3.0.0.js\", function(){\n",
              "        new LDAvis(\"#\" + \"ldavis_el1134031402833830307042018587337\", ldavis_el1134031402833830307042018587337_data);\n",
              "      });\n",
              "    });\n",
              "}else{\n",
              "    // require.js not available: dynamically load d3 & LDAvis\n",
              "    LDAvis_load_lib(\"https://d3js.org/d3.v5.js\", function(){\n",
              "         LDAvis_load_lib(\"https://cdn.jsdelivr.net/gh/bmabey/pyLDAvis@3.4.0/pyLDAvis/js/ldavis.v3.0.0.js\", function(){\n",
              "                 new LDAvis(\"#\" + \"ldavis_el1134031402833830307042018587337\", ldavis_el1134031402833830307042018587337_data);\n",
              "            })\n",
              "         });\n",
              "}\n",
              "</script>"
            ],
            "text/plain": [
              "PreparedData(topic_coordinates=              x         y  topics  cluster       Freq\n",
              "topic                                                \n",
              "7      0.039951 -0.189322       1        1  17.621016\n",
              "1     -0.049507  0.019898       2        1  13.759209\n",
              "4      0.098935 -0.184198       3        1  13.372734\n",
              "6     -0.139932  0.047071       4        1  11.745164\n",
              "0     -0.057797 -0.015605       5        1  10.743270\n",
              "3     -0.020769  0.117489       6        1  10.070829\n",
              "2     -0.153971  0.143110       7        1  10.043038\n",
              "8     -0.055948 -0.091299       8        1   7.957453\n",
              "5      0.339039  0.152856       9        1   4.687287, topic_info=           Term          Freq         Total Category  logprob  loglift\n",
              "197      coffee  30706.000000  30706.000000  Default  30.0000  30.0000\n",
              "13         food  23273.000000  23273.000000  Default  29.0000  29.0000\n",
              "96       flavor  32079.000000  32079.000000  Default  28.0000  28.0000\n",
              "158   chocolate  11229.000000  11229.000000  Default  27.0000  27.0000\n",
              "194      amazon  13683.000000  13683.000000  Default  26.0000  26.0000\n",
              "...         ...           ...           ...      ...      ...      ...\n",
              "592      powder    567.370764   2397.560252   Topic9  -5.1078   1.6191\n",
              "3411      spoon    439.860846    659.842801   Topic9  -5.3623   2.6548\n",
              "65         good    761.039126  46739.681129   Topic9  -4.8141  -1.0573\n",
              "163       great    605.125085  33283.025056   Topic9  -5.0433  -0.9471\n",
              "814        high    474.616756   5265.469969   Topic9  -5.2863   0.6539\n",
              "\n",
              "[649 rows x 6 columns], token_table=      Topic      Freq       Term\n",
              "term                            \n",
              "1926      4  0.986584     acidic\n",
              "1926      5  0.011179     acidic\n",
              "5505      3  0.998134  addictive\n",
              "1857      4  0.002023   additive\n",
              "1857      6  0.997428   additive\n",
              "...     ...       ...        ...\n",
              "437       9  0.993869      yeast\n",
              "1290      1  0.001263     yogurt\n",
              "1290      3  0.030309     yogurt\n",
              "1290      6  0.967368     yogurt\n",
              "4813      4  0.996233       zuke\n",
              "\n",
              "[1712 rows x 3 columns], R=30, lambda_step=0.01, plot_opts={'xlab': 'PC1', 'ylab': 'PC2'}, topic_order=[8, 2, 5, 7, 1, 4, 3, 9, 6])"
            ]
          },
          "execution_count": 23,
          "metadata": {},
          "output_type": "execute_result"
        }
      ],
      "source": [
        "# Visualize the topics\n",
        "pyLDAvis.enable_notebook()\n",
        "vis = pyLDAvis.gensim.prepare(optimal_model, doc_term_matrix, dictionary)\n",
        "vis"
      ]
    }
  ],
  "metadata": {
    "colab": {
      "provenance": []
    },
    "kernelspec": {
      "display_name": "Python 3",
      "name": "python3"
    },
    "language_info": {
      "name": "python"
    }
  },
  "nbformat": 4,
  "nbformat_minor": 0
}